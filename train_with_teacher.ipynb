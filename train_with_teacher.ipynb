{
 "cells": [
  {
   "cell_type": "code",
   "execution_count": null,
   "metadata": {},
   "outputs": [],
   "source": []
  },
  {
   "cell_type": "code",
   "execution_count": null,
   "metadata": {},
   "outputs": [],
   "source": []
  },
  {
   "cell_type": "code",
   "execution_count": null,
   "metadata": {},
   "outputs": [],
   "source": []
  },
  {
   "cell_type": "code",
   "execution_count": null,
   "metadata": {},
   "outputs": [],
   "source": []
  },
  {
   "cell_type": "markdown",
   "metadata": {
    "toc": true
   },
   "source": [
    "<h1>Содержание<span class=\"tocSkip\"></span></h1>\n",
    "<div class=\"toc\"><ul class=\"toc-item\"><li><span><a href=\"#Подготовка-данных\" data-toc-modified-id=\"Подготовка-данных-1\"><span class=\"toc-item-num\">1&nbsp;&nbsp;</span>Подготовка данных</a></span><ul class=\"toc-item\"><li><span><a href=\"#Подготовка-данных.-Первый-взгляд\" data-toc-modified-id=\"Подготовка-данных.-Первый-взгляд-1.1\"><span class=\"toc-item-num\">1.1&nbsp;&nbsp;</span>Подготовка данных. Первый взгляд</a></span></li><li><span><a href=\"#Подготовка-данных.-Обработка-пропусков\" data-toc-modified-id=\"Подготовка-данных.-Обработка-пропусков-1.2\"><span class=\"toc-item-num\">1.2&nbsp;&nbsp;</span>Подготовка данных. Обработка пропусков</a></span></li><li><span><a href=\"#Подготовка-данных.-Шлифуем-данные\" data-toc-modified-id=\"Подготовка-данных.-Шлифуем-данные-1.3\"><span class=\"toc-item-num\">1.3&nbsp;&nbsp;</span>Подготовка данных. Шлифуем данные</a></span></li><li><span><a href=\"#Подготовка-данных.-Признаки-и-раделение-выборок\" data-toc-modified-id=\"Подготовка-данных.-Признаки-и-раделение-выборок-1.4\"><span class=\"toc-item-num\">1.4&nbsp;&nbsp;</span>Подготовка данных. Признаки и раделение выборок</a></span></li></ul></li><li><span><a href=\"#Исследование-задачи\" data-toc-modified-id=\"Исследование-задачи-2\"><span class=\"toc-item-num\">2&nbsp;&nbsp;</span>Исследование задачи</a></span><ul class=\"toc-item\"><li><span><a href=\"#Исследование-задачи.-Проверка-сбалансированности\" data-toc-modified-id=\"Исследование-задачи.-Проверка-сбалансированности-2.1\"><span class=\"toc-item-num\">2.1&nbsp;&nbsp;</span>Исследование задачи. Проверка сбалансированности</a></span></li><li><span><a href=\"#Исследование-задачи.-Обучение-моделей-без-балансировки\" data-toc-modified-id=\"Исследование-задачи.-Обучение-моделей-без-балансировки-2.2\"><span class=\"toc-item-num\">2.2&nbsp;&nbsp;</span>Исследование задачи. Обучение моделей без балансировки</a></span></li></ul></li><li><span><a href=\"#Борьба-с-дисбалансом\" data-toc-modified-id=\"Борьба-с-дисбалансом-3\"><span class=\"toc-item-num\">3&nbsp;&nbsp;</span>Борьба с дисбалансом</a></span><ul class=\"toc-item\"><li><span><a href=\"#Борьба-с-дисбаллансом.\" data-toc-modified-id=\"Борьба-с-дисбаллансом.-3.1\"><span class=\"toc-item-num\">3.1&nbsp;&nbsp;</span>Борьба с дисбаллансом.</a></span></li><li><span><a href=\"#Борьба-с-дисбаллансом.-Обучение-модели-на-сбалансированной-выборке\" data-toc-modified-id=\"Борьба-с-дисбаллансом.-Обучение-модели-на-сбалансированной-выборке-3.2\"><span class=\"toc-item-num\">3.2&nbsp;&nbsp;</span>Борьба с дисбаллансом. Обучение модели на сбалансированной выборке</a></span></li></ul></li><li><span><a href=\"#Тестирование-модели\" data-toc-modified-id=\"Тестирование-модели-4\"><span class=\"toc-item-num\">4&nbsp;&nbsp;</span>Тестирование модели</a></span></li><li><span><a href=\"#Общий-вывод\" data-toc-modified-id=\"Общий-вывод-5\"><span class=\"toc-item-num\">5&nbsp;&nbsp;</span>Общий вывод</a></span></li><li><span><a href=\"#Чек-лист-готовности-проекта\" data-toc-modified-id=\"Чек-лист-готовности-проекта-6\"><span class=\"toc-item-num\">6&nbsp;&nbsp;</span>Чек-лист готовности проекта</a></span></li></ul></div>"
   ]
  },
  {
   "cell_type": "markdown",
   "metadata": {},
   "source": [
    "# Отток клиентов"
   ]
  },
  {
   "cell_type": "markdown",
   "metadata": {},
   "source": [
    "Из «Бета-Банка» стали уходить клиенты. Каждый месяц. Немного, но заметно. Банковские маркетологи посчитали: сохранять текущих клиентов дешевле, чем привлекать новых.\n",
    "\n",
    "Нужно спрогнозировать, уйдёт клиент из банка в ближайшее время или нет. Вам предоставлены исторические данные о поведении клиентов и расторжении договоров с банком. \n",
    "\n",
    "Постройте модель с предельно большим значением *F1*-меры. Чтобы сдать проект успешно, нужно довести метрику до 0.59. Проверьте *F1*-меру на тестовой выборке самостоятельно.\n",
    "\n",
    "Дополнительно измеряйте *AUC-ROC*, сравнивайте её значение с *F1*-мерой.\n",
    "\n",
    "Источник данных: [https://www.kaggle.com/barelydedicated/bank-customer-churn-modeling](https://www.kaggle.com/barelydedicated/bank-customer-churn-modeling)"
   ]
  },
  {
   "cell_type": "code",
   "execution_count": 1,
   "metadata": {},
   "outputs": [],
   "source": [
    "import pandas as pd\n",
    "\n",
    "from sklearn.model_selection import train_test_split\n",
    "from sklearn.tree import DecisionTreeClassifier\n",
    "from sklearn.ensemble import RandomForestClassifier\n",
    "from sklearn.linear_model import LogisticRegression\n",
    "from sklearn.model_selection import cross_val_score\n",
    "\n",
    "from sklearn.preprocessing import OrdinalEncoder\n",
    "from sklearn.preprocessing import OneHotEncoder\n",
    "from sklearn.utils import shuffle\n",
    "from sklearn.compose import ColumnTransformer\n",
    "\n",
    "from sklearn.metrics import accuracy_score\n",
    "from sklearn.metrics import f1_score\n",
    "from sklearn.metrics import roc_auc_score\n",
    "from sklearn.metrics import confusion_matrix\n",
    "\n",
    "import sklearn\n",
    "import numpy as np"
   ]
  },
  {
   "cell_type": "markdown",
   "metadata": {},
   "source": [
    "## Подготовка данных"
   ]
  },
  {
   "cell_type": "markdown",
   "metadata": {},
   "source": [
    "### Подготовка данных. Первый взгляд"
   ]
  },
  {
   "cell_type": "code",
   "execution_count": 2,
   "metadata": {},
   "outputs": [
    {
     "name": "stdout",
     "output_type": "stream",
     "text": [
      "<class 'pandas.core.frame.DataFrame'>\n",
      "RangeIndex: 10000 entries, 0 to 9999\n",
      "Data columns (total 14 columns):\n",
      " #   Column           Non-Null Count  Dtype  \n",
      "---  ------           --------------  -----  \n",
      " 0   RowNumber        10000 non-null  int64  \n",
      " 1   CustomerId       10000 non-null  int64  \n",
      " 2   Surname          10000 non-null  object \n",
      " 3   CreditScore      10000 non-null  int64  \n",
      " 4   Geography        10000 non-null  object \n",
      " 5   Gender           10000 non-null  object \n",
      " 6   Age              10000 non-null  int64  \n",
      " 7   Tenure           9091 non-null   float64\n",
      " 8   Balance          10000 non-null  float64\n",
      " 9   NumOfProducts    10000 non-null  int64  \n",
      " 10  HasCrCard        10000 non-null  int64  \n",
      " 11  IsActiveMember   10000 non-null  int64  \n",
      " 12  EstimatedSalary  10000 non-null  float64\n",
      " 13  Exited           10000 non-null  int64  \n",
      "dtypes: float64(3), int64(8), object(3)\n",
      "memory usage: 1.1+ MB\n"
     ]
    }
   ],
   "source": [
    "data = pd.read_csv('/datasets/Churn.csv')\n",
    "data.info()"
   ]
  },
  {
   "cell_type": "markdown",
   "metadata": {},
   "source": [
    "**Вывод 1.1**\n",
    "* \"Данные готовы для первичного анализа, но мы видим пропуски в столбце Tenure: скорее всего это связано с тем, что человек стал клиентом банка только в текущем году, поэтому заменим пропуски на нули в следующей ячейке\"\n",
    "* Второй вариант - посчитаю % пропусков от общего кол-ва, и исходя из рез-ов, придумаю решение этой проблемы."
   ]
  },
  {
   "cell_type": "markdown",
   "metadata": {},
   "source": [
    "### Подготовка данных. Обработка пропусков"
   ]
  },
  {
   "cell_type": "code",
   "execution_count": 3,
   "metadata": {
    "scrolled": false
   },
   "outputs": [
    {
     "name": "stdout",
     "output_type": "stream",
     "text": [
      "9.99890001099989 %\n"
     ]
    }
   ],
   "source": [
    "#data.loc[data['Tenure'].isna(), 'Tenure'] = 0.0\n",
    "print(data.Tenure.isna().sum() / data.Tenure.notna().sum() * 100, '%')"
   ]
  },
  {
   "cell_type": "code",
   "execution_count": 4,
   "metadata": {},
   "outputs": [],
   "source": [
    "tenure_nan = data.loc[data.Tenure.isna()]\n",
    "#tenure_nan.head()\n",
    "data = data.dropna(subset=['Tenure']).reset_index(drop=True)"
   ]
  },
  {
   "cell_type": "code",
   "execution_count": 5,
   "metadata": {},
   "outputs": [
    {
     "data": {
      "text/html": [
       "<div>\n",
       "<style scoped>\n",
       "    .dataframe tbody tr th:only-of-type {\n",
       "        vertical-align: middle;\n",
       "    }\n",
       "\n",
       "    .dataframe tbody tr th {\n",
       "        vertical-align: top;\n",
       "    }\n",
       "\n",
       "    .dataframe thead th {\n",
       "        text-align: right;\n",
       "    }\n",
       "</style>\n",
       "<table border=\"1\" class=\"dataframe\">\n",
       "  <thead>\n",
       "    <tr style=\"text-align: right;\">\n",
       "      <th></th>\n",
       "      <th>RowNumber</th>\n",
       "      <th>CustomerId</th>\n",
       "      <th>Surname</th>\n",
       "      <th>CreditScore</th>\n",
       "      <th>Geography</th>\n",
       "      <th>Gender</th>\n",
       "      <th>Age</th>\n",
       "      <th>Tenure</th>\n",
       "      <th>Balance</th>\n",
       "      <th>NumOfProducts</th>\n",
       "      <th>HasCrCard</th>\n",
       "      <th>IsActiveMember</th>\n",
       "      <th>EstimatedSalary</th>\n",
       "      <th>Exited</th>\n",
       "    </tr>\n",
       "  </thead>\n",
       "  <tbody>\n",
       "    <tr>\n",
       "      <th>0</th>\n",
       "      <td>1</td>\n",
       "      <td>15634602</td>\n",
       "      <td>Hargrave</td>\n",
       "      <td>619</td>\n",
       "      <td>France</td>\n",
       "      <td>Female</td>\n",
       "      <td>42</td>\n",
       "      <td>2.0</td>\n",
       "      <td>0.00</td>\n",
       "      <td>1</td>\n",
       "      <td>1</td>\n",
       "      <td>1</td>\n",
       "      <td>101348.88</td>\n",
       "      <td>1</td>\n",
       "    </tr>\n",
       "    <tr>\n",
       "      <th>1</th>\n",
       "      <td>2</td>\n",
       "      <td>15647311</td>\n",
       "      <td>Hill</td>\n",
       "      <td>608</td>\n",
       "      <td>Spain</td>\n",
       "      <td>Female</td>\n",
       "      <td>41</td>\n",
       "      <td>1.0</td>\n",
       "      <td>83807.86</td>\n",
       "      <td>1</td>\n",
       "      <td>0</td>\n",
       "      <td>1</td>\n",
       "      <td>112542.58</td>\n",
       "      <td>0</td>\n",
       "    </tr>\n",
       "    <tr>\n",
       "      <th>2</th>\n",
       "      <td>3</td>\n",
       "      <td>15619304</td>\n",
       "      <td>Onio</td>\n",
       "      <td>502</td>\n",
       "      <td>France</td>\n",
       "      <td>Female</td>\n",
       "      <td>42</td>\n",
       "      <td>8.0</td>\n",
       "      <td>159660.80</td>\n",
       "      <td>3</td>\n",
       "      <td>1</td>\n",
       "      <td>0</td>\n",
       "      <td>113931.57</td>\n",
       "      <td>1</td>\n",
       "    </tr>\n",
       "    <tr>\n",
       "      <th>3</th>\n",
       "      <td>4</td>\n",
       "      <td>15701354</td>\n",
       "      <td>Boni</td>\n",
       "      <td>699</td>\n",
       "      <td>France</td>\n",
       "      <td>Female</td>\n",
       "      <td>39</td>\n",
       "      <td>1.0</td>\n",
       "      <td>0.00</td>\n",
       "      <td>2</td>\n",
       "      <td>0</td>\n",
       "      <td>0</td>\n",
       "      <td>93826.63</td>\n",
       "      <td>0</td>\n",
       "    </tr>\n",
       "    <tr>\n",
       "      <th>4</th>\n",
       "      <td>5</td>\n",
       "      <td>15737888</td>\n",
       "      <td>Mitchell</td>\n",
       "      <td>850</td>\n",
       "      <td>Spain</td>\n",
       "      <td>Female</td>\n",
       "      <td>43</td>\n",
       "      <td>2.0</td>\n",
       "      <td>125510.82</td>\n",
       "      <td>1</td>\n",
       "      <td>1</td>\n",
       "      <td>1</td>\n",
       "      <td>79084.10</td>\n",
       "      <td>0</td>\n",
       "    </tr>\n",
       "    <tr>\n",
       "      <th>5</th>\n",
       "      <td>6</td>\n",
       "      <td>15574012</td>\n",
       "      <td>Chu</td>\n",
       "      <td>645</td>\n",
       "      <td>Spain</td>\n",
       "      <td>Male</td>\n",
       "      <td>44</td>\n",
       "      <td>8.0</td>\n",
       "      <td>113755.78</td>\n",
       "      <td>2</td>\n",
       "      <td>1</td>\n",
       "      <td>0</td>\n",
       "      <td>149756.71</td>\n",
       "      <td>1</td>\n",
       "    </tr>\n",
       "    <tr>\n",
       "      <th>6</th>\n",
       "      <td>7</td>\n",
       "      <td>15592531</td>\n",
       "      <td>Bartlett</td>\n",
       "      <td>822</td>\n",
       "      <td>France</td>\n",
       "      <td>Male</td>\n",
       "      <td>50</td>\n",
       "      <td>7.0</td>\n",
       "      <td>0.00</td>\n",
       "      <td>2</td>\n",
       "      <td>1</td>\n",
       "      <td>1</td>\n",
       "      <td>10062.80</td>\n",
       "      <td>0</td>\n",
       "    </tr>\n",
       "    <tr>\n",
       "      <th>7</th>\n",
       "      <td>8</td>\n",
       "      <td>15656148</td>\n",
       "      <td>Obinna</td>\n",
       "      <td>376</td>\n",
       "      <td>Germany</td>\n",
       "      <td>Female</td>\n",
       "      <td>29</td>\n",
       "      <td>4.0</td>\n",
       "      <td>115046.74</td>\n",
       "      <td>4</td>\n",
       "      <td>1</td>\n",
       "      <td>0</td>\n",
       "      <td>119346.88</td>\n",
       "      <td>1</td>\n",
       "    </tr>\n",
       "    <tr>\n",
       "      <th>8</th>\n",
       "      <td>9</td>\n",
       "      <td>15792365</td>\n",
       "      <td>He</td>\n",
       "      <td>501</td>\n",
       "      <td>France</td>\n",
       "      <td>Male</td>\n",
       "      <td>44</td>\n",
       "      <td>4.0</td>\n",
       "      <td>142051.07</td>\n",
       "      <td>2</td>\n",
       "      <td>0</td>\n",
       "      <td>1</td>\n",
       "      <td>74940.50</td>\n",
       "      <td>0</td>\n",
       "    </tr>\n",
       "    <tr>\n",
       "      <th>9</th>\n",
       "      <td>10</td>\n",
       "      <td>15592389</td>\n",
       "      <td>H?</td>\n",
       "      <td>684</td>\n",
       "      <td>France</td>\n",
       "      <td>Male</td>\n",
       "      <td>27</td>\n",
       "      <td>2.0</td>\n",
       "      <td>134603.88</td>\n",
       "      <td>1</td>\n",
       "      <td>1</td>\n",
       "      <td>1</td>\n",
       "      <td>71725.73</td>\n",
       "      <td>0</td>\n",
       "    </tr>\n",
       "  </tbody>\n",
       "</table>\n",
       "</div>"
      ],
      "text/plain": [
       "   RowNumber  CustomerId   Surname  CreditScore Geography  Gender  Age  \\\n",
       "0          1    15634602  Hargrave          619    France  Female   42   \n",
       "1          2    15647311      Hill          608     Spain  Female   41   \n",
       "2          3    15619304      Onio          502    France  Female   42   \n",
       "3          4    15701354      Boni          699    France  Female   39   \n",
       "4          5    15737888  Mitchell          850     Spain  Female   43   \n",
       "5          6    15574012       Chu          645     Spain    Male   44   \n",
       "6          7    15592531  Bartlett          822    France    Male   50   \n",
       "7          8    15656148    Obinna          376   Germany  Female   29   \n",
       "8          9    15792365        He          501    France    Male   44   \n",
       "9         10    15592389        H?          684    France    Male   27   \n",
       "\n",
       "   Tenure    Balance  NumOfProducts  HasCrCard  IsActiveMember  \\\n",
       "0     2.0       0.00              1          1               1   \n",
       "1     1.0   83807.86              1          0               1   \n",
       "2     8.0  159660.80              3          1               0   \n",
       "3     1.0       0.00              2          0               0   \n",
       "4     2.0  125510.82              1          1               1   \n",
       "5     8.0  113755.78              2          1               0   \n",
       "6     7.0       0.00              2          1               1   \n",
       "7     4.0  115046.74              4          1               0   \n",
       "8     4.0  142051.07              2          0               1   \n",
       "9     2.0  134603.88              1          1               1   \n",
       "\n",
       "   EstimatedSalary  Exited  \n",
       "0        101348.88       1  \n",
       "1        112542.58       0  \n",
       "2        113931.57       1  \n",
       "3         93826.63       0  \n",
       "4         79084.10       0  \n",
       "5        149756.71       1  \n",
       "6         10062.80       0  \n",
       "7        119346.88       1  \n",
       "8         74940.50       0  \n",
       "9         71725.73       0  "
      ]
     },
     "execution_count": 5,
     "metadata": {},
     "output_type": "execute_result"
    }
   ],
   "source": [
    "data.head(10)"
   ]
  },
  {
   "cell_type": "markdown",
   "metadata": {},
   "source": [
    "**Вывод 1.2**\n",
    "* Итак, данные в порядке, теперь нам осталось подготовить для машинного обучения:\n",
    "1. Нужно переместить стобецы с фамилиями и id, RowNumber клиентов в отдельный датафрейм, так как они нам не понадобяться.\n",
    "2. Применить метод OHE для того, чтобы не было проблем с категориальными значениями\n",
    "3. Выделим количественные признаки, для упрощения дальнейшей работы и сохраним их в списке `numeric`"
   ]
  },
  {
   "cell_type": "markdown",
   "metadata": {},
   "source": [
    "### Подготовка данных. Шлифуем данные"
   ]
  },
  {
   "cell_type": "code",
   "execution_count": 6,
   "metadata": {},
   "outputs": [
    {
     "data": {
      "text/html": [
       "<div>\n",
       "<style scoped>\n",
       "    .dataframe tbody tr th:only-of-type {\n",
       "        vertical-align: middle;\n",
       "    }\n",
       "\n",
       "    .dataframe tbody tr th {\n",
       "        vertical-align: top;\n",
       "    }\n",
       "\n",
       "    .dataframe thead th {\n",
       "        text-align: right;\n",
       "    }\n",
       "</style>\n",
       "<table border=\"1\" class=\"dataframe\">\n",
       "  <thead>\n",
       "    <tr style=\"text-align: right;\">\n",
       "      <th></th>\n",
       "      <th>CreditScore</th>\n",
       "      <th>Geography</th>\n",
       "      <th>Gender</th>\n",
       "      <th>Age</th>\n",
       "      <th>Tenure</th>\n",
       "      <th>Balance</th>\n",
       "      <th>NumOfProducts</th>\n",
       "      <th>HasCrCard</th>\n",
       "      <th>IsActiveMember</th>\n",
       "      <th>EstimatedSalary</th>\n",
       "      <th>Exited</th>\n",
       "    </tr>\n",
       "  </thead>\n",
       "  <tbody>\n",
       "    <tr>\n",
       "      <th>0</th>\n",
       "      <td>619</td>\n",
       "      <td>France</td>\n",
       "      <td>Female</td>\n",
       "      <td>42</td>\n",
       "      <td>2.0</td>\n",
       "      <td>0.00</td>\n",
       "      <td>1</td>\n",
       "      <td>1</td>\n",
       "      <td>1</td>\n",
       "      <td>101348.88</td>\n",
       "      <td>1</td>\n",
       "    </tr>\n",
       "    <tr>\n",
       "      <th>1</th>\n",
       "      <td>608</td>\n",
       "      <td>Spain</td>\n",
       "      <td>Female</td>\n",
       "      <td>41</td>\n",
       "      <td>1.0</td>\n",
       "      <td>83807.86</td>\n",
       "      <td>1</td>\n",
       "      <td>0</td>\n",
       "      <td>1</td>\n",
       "      <td>112542.58</td>\n",
       "      <td>0</td>\n",
       "    </tr>\n",
       "    <tr>\n",
       "      <th>2</th>\n",
       "      <td>502</td>\n",
       "      <td>France</td>\n",
       "      <td>Female</td>\n",
       "      <td>42</td>\n",
       "      <td>8.0</td>\n",
       "      <td>159660.80</td>\n",
       "      <td>3</td>\n",
       "      <td>1</td>\n",
       "      <td>0</td>\n",
       "      <td>113931.57</td>\n",
       "      <td>1</td>\n",
       "    </tr>\n",
       "    <tr>\n",
       "      <th>3</th>\n",
       "      <td>699</td>\n",
       "      <td>France</td>\n",
       "      <td>Female</td>\n",
       "      <td>39</td>\n",
       "      <td>1.0</td>\n",
       "      <td>0.00</td>\n",
       "      <td>2</td>\n",
       "      <td>0</td>\n",
       "      <td>0</td>\n",
       "      <td>93826.63</td>\n",
       "      <td>0</td>\n",
       "    </tr>\n",
       "    <tr>\n",
       "      <th>4</th>\n",
       "      <td>850</td>\n",
       "      <td>Spain</td>\n",
       "      <td>Female</td>\n",
       "      <td>43</td>\n",
       "      <td>2.0</td>\n",
       "      <td>125510.82</td>\n",
       "      <td>1</td>\n",
       "      <td>1</td>\n",
       "      <td>1</td>\n",
       "      <td>79084.10</td>\n",
       "      <td>0</td>\n",
       "    </tr>\n",
       "  </tbody>\n",
       "</table>\n",
       "</div>"
      ],
      "text/plain": [
       "   CreditScore Geography  Gender  Age  Tenure    Balance  NumOfProducts  \\\n",
       "0          619    France  Female   42     2.0       0.00              1   \n",
       "1          608     Spain  Female   41     1.0   83807.86              1   \n",
       "2          502    France  Female   42     8.0  159660.80              3   \n",
       "3          699    France  Female   39     1.0       0.00              2   \n",
       "4          850     Spain  Female   43     2.0  125510.82              1   \n",
       "\n",
       "   HasCrCard  IsActiveMember  EstimatedSalary  Exited  \n",
       "0          1               1        101348.88       1  \n",
       "1          0               1        112542.58       0  \n",
       "2          1               0        113931.57       1  \n",
       "3          0               0         93826.63       0  \n",
       "4          1               1         79084.10       0  "
      ]
     },
     "execution_count": 6,
     "metadata": {},
     "output_type": "execute_result"
    }
   ],
   "source": [
    "clients_id = data[['CustomerId', 'Surname', 'RowNumber']]\n",
    "#clients_id['Surname'] = data['Surname']\n",
    "data = data.drop(['CustomerId', 'Surname', 'RowNumber'], axis=1)\n",
    "data.head()"
   ]
  },
  {
   "cell_type": "code",
   "execution_count": 7,
   "metadata": {},
   "outputs": [],
   "source": [
    "numeric = ['CreditScore', 'Age', 'Balance', 'NumOfProducts', 'EstimatedSalary']"
   ]
  },
  {
   "cell_type": "code",
   "execution_count": null,
   "metadata": {},
   "outputs": [],
   "source": []
  },
  {
   "cell_type": "code",
   "execution_count": 8,
   "metadata": {},
   "outputs": [],
   "source": [
    "#data['Geography'].unique()\n",
    "#clients_id.head()"
   ]
  },
  {
   "cell_type": "code",
   "execution_count": 9,
   "metadata": {},
   "outputs": [],
   "source": [
    "#data_df = pd.get_dummies(data_df, drop_first=True)\n",
    "#Новый вариант с OHE в следующей ячейке"
   ]
  },
  {
   "cell_type": "code",
   "execution_count": 10,
   "metadata": {},
   "outputs": [],
   "source": [
    "categories = ['Geography', 'Gender']\n",
    "ohe = OneHotEncoder(sparse=False)\n",
    "#ohe.fit(data[categories])\n",
    "\n",
    "#sklearn.__version__"
   ]
  },
  {
   "cell_type": "code",
   "execution_count": 11,
   "metadata": {},
   "outputs": [],
   "source": [
    "def get_enc_fit(df):\n",
    "    temp_df = pd.DataFrame(data=enc.fit_transform(df[categories]), columns=categories)\n",
    "    df.drop(columns=categories, axis=1, inplace=True)\n",
    "    df = pd.concat([df.reset_index(drop=True), temp_df], axis=1)\n",
    "    return df\n",
    "#data = get_ohe(data)"
   ]
  },
  {
   "cell_type": "code",
   "execution_count": 12,
   "metadata": {},
   "outputs": [],
   "source": [
    "def get_enc(df):\n",
    "    temp_df = pd.DataFrame(data=enc.transform(df[categories]), columns=categories)\n",
    "    df.drop(columns=categories, axis=1, inplace=True)\n",
    "    df = pd.concat([df.reset_index(drop=True), temp_df], axis=1)\n",
    "    return df\n",
    "#data = get_ohe(data)"
   ]
  },
  {
   "cell_type": "code",
   "execution_count": null,
   "metadata": {},
   "outputs": [],
   "source": []
  },
  {
   "cell_type": "code",
   "execution_count": 13,
   "metadata": {},
   "outputs": [],
   "source": [
    "def get_ohe_fit(df):\n",
    "    temp_df = pd.DataFrame(data=ohe.fit_transform(df[categories]).toarray(), columns=ohe.get_feature_names())\n",
    "    df.drop(columns=categories, axis=1, inplace=True)\n",
    "    df = pd.concat([df.reset_index(drop=True), temp_df], axis=1)\n",
    "    return df\n",
    "#data = get_ohe(data)"
   ]
  },
  {
   "cell_type": "code",
   "execution_count": 14,
   "metadata": {},
   "outputs": [],
   "source": [
    "def get_ohe(df):\n",
    "    temp_df = pd.DataFrame(data=ohe.transform(df[categories]).toarray(), columns=ohe.get_feature_names())\n",
    "    df.drop(columns=categories, axis=1, inplace=True)\n",
    "    df = pd.concat([df.reset_index(drop=True), temp_df], axis=1)\n",
    "    return df\n",
    "#data = get_ohe(data)"
   ]
  },
  {
   "cell_type": "code",
   "execution_count": 15,
   "metadata": {},
   "outputs": [
    {
     "data": {
      "text/html": [
       "<div>\n",
       "<style scoped>\n",
       "    .dataframe tbody tr th:only-of-type {\n",
       "        vertical-align: middle;\n",
       "    }\n",
       "\n",
       "    .dataframe tbody tr th {\n",
       "        vertical-align: top;\n",
       "    }\n",
       "\n",
       "    .dataframe thead th {\n",
       "        text-align: right;\n",
       "    }\n",
       "</style>\n",
       "<table border=\"1\" class=\"dataframe\">\n",
       "  <thead>\n",
       "    <tr style=\"text-align: right;\">\n",
       "      <th></th>\n",
       "      <th>CreditScore</th>\n",
       "      <th>Geography</th>\n",
       "      <th>Gender</th>\n",
       "      <th>Age</th>\n",
       "      <th>Tenure</th>\n",
       "      <th>Balance</th>\n",
       "      <th>NumOfProducts</th>\n",
       "      <th>HasCrCard</th>\n",
       "      <th>IsActiveMember</th>\n",
       "      <th>EstimatedSalary</th>\n",
       "      <th>Exited</th>\n",
       "    </tr>\n",
       "  </thead>\n",
       "  <tbody>\n",
       "    <tr>\n",
       "      <th>0</th>\n",
       "      <td>619</td>\n",
       "      <td>France</td>\n",
       "      <td>Female</td>\n",
       "      <td>42</td>\n",
       "      <td>2.0</td>\n",
       "      <td>0.00</td>\n",
       "      <td>1</td>\n",
       "      <td>1</td>\n",
       "      <td>1</td>\n",
       "      <td>101348.88</td>\n",
       "      <td>1</td>\n",
       "    </tr>\n",
       "    <tr>\n",
       "      <th>1</th>\n",
       "      <td>608</td>\n",
       "      <td>Spain</td>\n",
       "      <td>Female</td>\n",
       "      <td>41</td>\n",
       "      <td>1.0</td>\n",
       "      <td>83807.86</td>\n",
       "      <td>1</td>\n",
       "      <td>0</td>\n",
       "      <td>1</td>\n",
       "      <td>112542.58</td>\n",
       "      <td>0</td>\n",
       "    </tr>\n",
       "    <tr>\n",
       "      <th>2</th>\n",
       "      <td>502</td>\n",
       "      <td>France</td>\n",
       "      <td>Female</td>\n",
       "      <td>42</td>\n",
       "      <td>8.0</td>\n",
       "      <td>159660.80</td>\n",
       "      <td>3</td>\n",
       "      <td>1</td>\n",
       "      <td>0</td>\n",
       "      <td>113931.57</td>\n",
       "      <td>1</td>\n",
       "    </tr>\n",
       "    <tr>\n",
       "      <th>3</th>\n",
       "      <td>699</td>\n",
       "      <td>France</td>\n",
       "      <td>Female</td>\n",
       "      <td>39</td>\n",
       "      <td>1.0</td>\n",
       "      <td>0.00</td>\n",
       "      <td>2</td>\n",
       "      <td>0</td>\n",
       "      <td>0</td>\n",
       "      <td>93826.63</td>\n",
       "      <td>0</td>\n",
       "    </tr>\n",
       "    <tr>\n",
       "      <th>4</th>\n",
       "      <td>850</td>\n",
       "      <td>Spain</td>\n",
       "      <td>Female</td>\n",
       "      <td>43</td>\n",
       "      <td>2.0</td>\n",
       "      <td>125510.82</td>\n",
       "      <td>1</td>\n",
       "      <td>1</td>\n",
       "      <td>1</td>\n",
       "      <td>79084.10</td>\n",
       "      <td>0</td>\n",
       "    </tr>\n",
       "    <tr>\n",
       "      <th>5</th>\n",
       "      <td>645</td>\n",
       "      <td>Spain</td>\n",
       "      <td>Male</td>\n",
       "      <td>44</td>\n",
       "      <td>8.0</td>\n",
       "      <td>113755.78</td>\n",
       "      <td>2</td>\n",
       "      <td>1</td>\n",
       "      <td>0</td>\n",
       "      <td>149756.71</td>\n",
       "      <td>1</td>\n",
       "    </tr>\n",
       "    <tr>\n",
       "      <th>6</th>\n",
       "      <td>822</td>\n",
       "      <td>France</td>\n",
       "      <td>Male</td>\n",
       "      <td>50</td>\n",
       "      <td>7.0</td>\n",
       "      <td>0.00</td>\n",
       "      <td>2</td>\n",
       "      <td>1</td>\n",
       "      <td>1</td>\n",
       "      <td>10062.80</td>\n",
       "      <td>0</td>\n",
       "    </tr>\n",
       "    <tr>\n",
       "      <th>7</th>\n",
       "      <td>376</td>\n",
       "      <td>Germany</td>\n",
       "      <td>Female</td>\n",
       "      <td>29</td>\n",
       "      <td>4.0</td>\n",
       "      <td>115046.74</td>\n",
       "      <td>4</td>\n",
       "      <td>1</td>\n",
       "      <td>0</td>\n",
       "      <td>119346.88</td>\n",
       "      <td>1</td>\n",
       "    </tr>\n",
       "    <tr>\n",
       "      <th>8</th>\n",
       "      <td>501</td>\n",
       "      <td>France</td>\n",
       "      <td>Male</td>\n",
       "      <td>44</td>\n",
       "      <td>4.0</td>\n",
       "      <td>142051.07</td>\n",
       "      <td>2</td>\n",
       "      <td>0</td>\n",
       "      <td>1</td>\n",
       "      <td>74940.50</td>\n",
       "      <td>0</td>\n",
       "    </tr>\n",
       "    <tr>\n",
       "      <th>9</th>\n",
       "      <td>684</td>\n",
       "      <td>France</td>\n",
       "      <td>Male</td>\n",
       "      <td>27</td>\n",
       "      <td>2.0</td>\n",
       "      <td>134603.88</td>\n",
       "      <td>1</td>\n",
       "      <td>1</td>\n",
       "      <td>1</td>\n",
       "      <td>71725.73</td>\n",
       "      <td>0</td>\n",
       "    </tr>\n",
       "  </tbody>\n",
       "</table>\n",
       "</div>"
      ],
      "text/plain": [
       "   CreditScore Geography  Gender  Age  Tenure    Balance  NumOfProducts  \\\n",
       "0          619    France  Female   42     2.0       0.00              1   \n",
       "1          608     Spain  Female   41     1.0   83807.86              1   \n",
       "2          502    France  Female   42     8.0  159660.80              3   \n",
       "3          699    France  Female   39     1.0       0.00              2   \n",
       "4          850     Spain  Female   43     2.0  125510.82              1   \n",
       "5          645     Spain    Male   44     8.0  113755.78              2   \n",
       "6          822    France    Male   50     7.0       0.00              2   \n",
       "7          376   Germany  Female   29     4.0  115046.74              4   \n",
       "8          501    France    Male   44     4.0  142051.07              2   \n",
       "9          684    France    Male   27     2.0  134603.88              1   \n",
       "\n",
       "   HasCrCard  IsActiveMember  EstimatedSalary  Exited  \n",
       "0          1               1        101348.88       1  \n",
       "1          0               1        112542.58       0  \n",
       "2          1               0        113931.57       1  \n",
       "3          0               0         93826.63       0  \n",
       "4          1               1         79084.10       0  \n",
       "5          1               0        149756.71       1  \n",
       "6          1               1         10062.80       0  \n",
       "7          1               0        119346.88       1  \n",
       "8          0               1         74940.50       0  \n",
       "9          1               1         71725.73       0  "
      ]
     },
     "execution_count": 15,
     "metadata": {},
     "output_type": "execute_result"
    }
   ],
   "source": [
    "data.head(10)"
   ]
  },
  {
   "cell_type": "markdown",
   "metadata": {},
   "source": [
    "**Вывод 1.3**\n",
    "- Теперь у нас данные готовы для машинного обучения, они хранятся в `data`\n",
    "- B `clients_id` хранятся данные о том, какой id кому принадлежит.\n",
    "- Далее подготовим признаки."
   ]
  },
  {
   "cell_type": "markdown",
   "metadata": {},
   "source": [
    "### Подготовка данных. Признаки и раделение выборок "
   ]
  },
  {
   "cell_type": "code",
   "execution_count": 16,
   "metadata": {},
   "outputs": [],
   "source": [
    "target = data['Exited']\n",
    "features = data.drop(['Exited'], axis=1)\n",
    "#print(features.shape, target.shape)\n",
    "#Далее разделим их на выборки\n",
    "features_train, features_valid, target_train, target_valid = train_test_split(\n",
    "    features, target, test_size=0.6, random_state=12345, stratify=target)\n",
    "features_valid, features_test, target_valid, target_test = train_test_split(\n",
    "    features_valid, target_valid, test_size=0.5, random_state=12345, stratify=target_valid)\n",
    "\n",
    "#print(features_train.shape, target_train.shape)"
   ]
  },
  {
   "cell_type": "code",
   "execution_count": 17,
   "metadata": {
    "scrolled": true
   },
   "outputs": [
    {
     "name": "stderr",
     "output_type": "stream",
     "text": [
      "/opt/conda/lib/python3.9/site-packages/pandas/core/frame.py:4308: SettingWithCopyWarning: \n",
      "A value is trying to be set on a copy of a slice from a DataFrame\n",
      "\n",
      "See the caveats in the documentation: https://pandas.pydata.org/pandas-docs/stable/user_guide/indexing.html#returning-a-view-versus-a-copy\n",
      "  return super().drop(\n"
     ]
    }
   ],
   "source": [
    "#enc = OrdinalEncoder()\n",
    "ohe = OneHotEncoder(drop='first')\n",
    "#ohe.fit(features_train)\n",
    "features_train_enc = get_ohe_fit(features_train)\n",
    "features_valid_enc = get_ohe(features_valid)\n",
    "features_test_enc = get_ohe(features_test)\n",
    "target_train.reset_index(drop=True, inplace=True)\n",
    "target_valid.reset_index(drop=True, inplace=True)\n",
    "target_test.reset_index(drop=True, inplace=True)"
   ]
  },
  {
   "cell_type": "code",
   "execution_count": 18,
   "metadata": {
    "scrolled": true
   },
   "outputs": [
    {
     "data": {
      "text/html": [
       "<div>\n",
       "<style scoped>\n",
       "    .dataframe tbody tr th:only-of-type {\n",
       "        vertical-align: middle;\n",
       "    }\n",
       "\n",
       "    .dataframe tbody tr th {\n",
       "        vertical-align: top;\n",
       "    }\n",
       "\n",
       "    .dataframe thead th {\n",
       "        text-align: right;\n",
       "    }\n",
       "</style>\n",
       "<table border=\"1\" class=\"dataframe\">\n",
       "  <thead>\n",
       "    <tr style=\"text-align: right;\">\n",
       "      <th></th>\n",
       "      <th>CreditScore</th>\n",
       "      <th>Age</th>\n",
       "      <th>Tenure</th>\n",
       "      <th>Balance</th>\n",
       "      <th>NumOfProducts</th>\n",
       "      <th>HasCrCard</th>\n",
       "      <th>IsActiveMember</th>\n",
       "      <th>EstimatedSalary</th>\n",
       "      <th>x0_Germany</th>\n",
       "      <th>x0_Spain</th>\n",
       "      <th>x1_Male</th>\n",
       "    </tr>\n",
       "  </thead>\n",
       "  <tbody>\n",
       "    <tr>\n",
       "      <th>0</th>\n",
       "      <td>850</td>\n",
       "      <td>61</td>\n",
       "      <td>3.0</td>\n",
       "      <td>141784.02</td>\n",
       "      <td>1</td>\n",
       "      <td>1</td>\n",
       "      <td>1</td>\n",
       "      <td>92053.75</td>\n",
       "      <td>1.0</td>\n",
       "      <td>0.0</td>\n",
       "      <td>1.0</td>\n",
       "    </tr>\n",
       "    <tr>\n",
       "      <th>1</th>\n",
       "      <td>616</td>\n",
       "      <td>43</td>\n",
       "      <td>3.0</td>\n",
       "      <td>120867.18</td>\n",
       "      <td>1</td>\n",
       "      <td>1</td>\n",
       "      <td>0</td>\n",
       "      <td>18761.92</td>\n",
       "      <td>0.0</td>\n",
       "      <td>1.0</td>\n",
       "      <td>0.0</td>\n",
       "    </tr>\n",
       "    <tr>\n",
       "      <th>2</th>\n",
       "      <td>497</td>\n",
       "      <td>44</td>\n",
       "      <td>2.0</td>\n",
       "      <td>121250.04</td>\n",
       "      <td>1</td>\n",
       "      <td>0</td>\n",
       "      <td>1</td>\n",
       "      <td>79691.40</td>\n",
       "      <td>0.0</td>\n",
       "      <td>1.0</td>\n",
       "      <td>1.0</td>\n",
       "    </tr>\n",
       "    <tr>\n",
       "      <th>3</th>\n",
       "      <td>655</td>\n",
       "      <td>72</td>\n",
       "      <td>5.0</td>\n",
       "      <td>138089.97</td>\n",
       "      <td>2</td>\n",
       "      <td>1</td>\n",
       "      <td>1</td>\n",
       "      <td>99920.41</td>\n",
       "      <td>1.0</td>\n",
       "      <td>0.0</td>\n",
       "      <td>0.0</td>\n",
       "    </tr>\n",
       "    <tr>\n",
       "      <th>4</th>\n",
       "      <td>429</td>\n",
       "      <td>60</td>\n",
       "      <td>7.0</td>\n",
       "      <td>0.00</td>\n",
       "      <td>2</td>\n",
       "      <td>1</td>\n",
       "      <td>1</td>\n",
       "      <td>163691.48</td>\n",
       "      <td>0.0</td>\n",
       "      <td>0.0</td>\n",
       "      <td>1.0</td>\n",
       "    </tr>\n",
       "  </tbody>\n",
       "</table>\n",
       "</div>"
      ],
      "text/plain": [
       "   CreditScore  Age  Tenure    Balance  NumOfProducts  HasCrCard  \\\n",
       "0          850   61     3.0  141784.02              1          1   \n",
       "1          616   43     3.0  120867.18              1          1   \n",
       "2          497   44     2.0  121250.04              1          0   \n",
       "3          655   72     5.0  138089.97              2          1   \n",
       "4          429   60     7.0       0.00              2          1   \n",
       "\n",
       "   IsActiveMember  EstimatedSalary  x0_Germany  x0_Spain  x1_Male  \n",
       "0               1         92053.75         1.0       0.0      1.0  \n",
       "1               0         18761.92         0.0       1.0      0.0  \n",
       "2               1         79691.40         0.0       1.0      1.0  \n",
       "3               1         99920.41         1.0       0.0      0.0  \n",
       "4               1        163691.48         0.0       0.0      1.0  "
      ]
     },
     "execution_count": 18,
     "metadata": {},
     "output_type": "execute_result"
    }
   ],
   "source": [
    "features_test_enc.head()"
   ]
  },
  {
   "cell_type": "code",
   "execution_count": null,
   "metadata": {},
   "outputs": [],
   "source": []
  },
  {
   "cell_type": "markdown",
   "metadata": {},
   "source": [
    "**Вывод 1.4**\n",
    "- Признаки готовы, можно приступать к выполнению главной задачи"
   ]
  },
  {
   "cell_type": "code",
   "execution_count": null,
   "metadata": {},
   "outputs": [],
   "source": []
  },
  {
   "cell_type": "code",
   "execution_count": null,
   "metadata": {},
   "outputs": [],
   "source": []
  },
  {
   "cell_type": "markdown",
   "metadata": {},
   "source": [
    "## Исследование задачи"
   ]
  },
  {
   "cell_type": "markdown",
   "metadata": {},
   "source": [
    "### Исследование задачи. Проверка сбалансированности"
   ]
  },
  {
   "cell_type": "code",
   "execution_count": 19,
   "metadata": {},
   "outputs": [
    {
     "name": "stdout",
     "output_type": "stream",
     "text": [
      "2894\n",
      "742\n",
      "2894\n",
      "742\n"
     ]
    }
   ],
   "source": [
    "features_zeros = features_train_enc[target_train == 0]\n",
    "features_ones = features_train_enc[target_train == 1]\n",
    "\n",
    "target_zeros = target_train[target_train == 0]\n",
    "target_ones = target_train[target_train == 1]\n",
    "\n",
    "print(features_zeros.shape[0])\n",
    "print(features_ones.shape[0])\n",
    "print(target_zeros.shape[0])\n",
    "print(target_ones.shape[0])"
   ]
  },
  {
   "cell_type": "markdown",
   "metadata": {},
   "source": [
    "**Вывод 2.1**: Отрицательный класс больше чем в 3 раза превышает положительный: испроавим в следующем шаге."
   ]
  },
  {
   "cell_type": "markdown",
   "metadata": {},
   "source": [
    "### Исследование задачи. Обучение моделей без балансировки"
   ]
  },
  {
   "cell_type": "code",
   "execution_count": 20,
   "metadata": {},
   "outputs": [],
   "source": [
    "best_tree_depth = 0\n",
    "best_tree_f1 = 0"
   ]
  },
  {
   "cell_type": "code",
   "execution_count": 21,
   "metadata": {
    "scrolled": true
   },
   "outputs": [
    {
     "name": "stdout",
     "output_type": "stream",
     "text": [
      "0.5567226890756302\n",
      "7\n",
      "0.8163350940620143\n",
      "[[1900  271]\n",
      " [ 284  272]]\n"
     ]
    }
   ],
   "source": [
    "for depth in range(1, 16):\n",
    "    model = DecisionTreeClassifier(max_depth=depth, random_state=12345)\n",
    "    model.fit(features_train_enc, target_train)\n",
    "\n",
    "    predicted_valid = model.predict(features_valid_enc)\n",
    "    probabilities_valid = model.predict_proba(features_valid_enc)\n",
    "    probabilities_one_valid = probabilities_valid[:, 1]\n",
    "    if f1_score(target_valid, predicted_valid) > best_tree_f1:\n",
    "        best_tree_depth = depth\n",
    "        best_tree_f1 = f1_score(target_valid, predicted_valid)\n",
    "        auc_roc = roc_auc_score(target_valid, probabilities_one_valid)\n",
    "\n",
    "print(best_tree_f1)\n",
    "print(best_tree_depth)\n",
    "print(auc_roc)\n",
    "print(confusion_matrix(target_valid, predicted_valid))"
   ]
  },
  {
   "cell_type": "markdown",
   "metadata": {},
   "source": [
    "- Результаты показали, что модель хорошо справляется с распознаванием отрицательного класса, но дело плохо с положительным"
   ]
  },
  {
   "cell_type": "code",
   "execution_count": null,
   "metadata": {},
   "outputs": [],
   "source": []
  },
  {
   "cell_type": "code",
   "execution_count": 22,
   "metadata": {},
   "outputs": [
    {
     "name": "stdout",
     "output_type": "stream",
     "text": [
      "0.43278301886792453\n",
      "0.6958609068525925\n",
      "[[1398  773]\n",
      " [ 189  367]]\n"
     ]
    }
   ],
   "source": [
    "model = LogisticRegression(solver='lbfgs', random_state=12345, class_weight='balanced')\n",
    "model.fit(features_train_enc, target_train)\n",
    "\n",
    "predicted_valid = model.predict(features_valid_enc)\n",
    "probabilities_valid = model.predict_proba(features_valid_enc)\n",
    "probabilities_one_valid = probabilities_valid[:, 1]\n",
    "\n",
    "auc_roc = roc_auc_score(target_valid, probabilities_one_valid)\n",
    "\n",
    "print(f1_score(target_valid, predicted_valid))\n",
    "print(auc_roc)\n",
    "print(confusion_matrix(target_valid, predicted_valid))"
   ]
  },
  {
   "cell_type": "markdown",
   "metadata": {},
   "source": [
    "- LR часто определяет отрицаительный класс, как отрицательный"
   ]
  },
  {
   "cell_type": "code",
   "execution_count": 23,
   "metadata": {},
   "outputs": [],
   "source": [
    "best_forest_depth = 0\n",
    "best_forest_f1 = 0"
   ]
  },
  {
   "cell_type": "code",
   "execution_count": 24,
   "metadata": {},
   "outputs": [
    {
     "name": "stdout",
     "output_type": "stream",
     "text": [
      "0.5479768786127168\n",
      "11\n",
      "0.8460958547763356\n",
      "[[2092   79]\n",
      " [ 318  238]]\n"
     ]
    }
   ],
   "source": [
    "for depth in range(1, 16):\n",
    "    model = RandomForestClassifier(max_depth=depth, n_estimators=40, random_state=12345)\n",
    "    model.fit(features_train_enc, target_train)\n",
    "\n",
    "    predicted_valid = model.predict(features_valid_enc)\n",
    "    probabilities_valid = model.predict_proba(features_valid_enc)\n",
    "    probabilities_one_valid = probabilities_valid[:, 1]\n",
    "    if f1_score(target_valid, predicted_valid) > best_forest_f1:\n",
    "        best_forest_f1 = f1_score(target_valid, predicted_valid)\n",
    "        auc_roc = roc_auc_score(target_valid, probabilities_one_valid)\n",
    "        best_forest_depth = depth\n",
    "\n",
    "print(best_forest_f1)\n",
    "print(best_forest_depth)\n",
    "print(auc_roc)\n",
    "print(confusion_matrix(target_valid, predicted_valid))"
   ]
  },
  {
   "cell_type": "markdown",
   "metadata": {},
   "source": [
    "- У леса дела чуть лучше чем у дерева"
   ]
  },
  {
   "cell_type": "markdown",
   "metadata": {},
   "source": [
    "**Вывод 2.2**: \n",
    "- Модели обученые на несбалансированной выборке показывают довольно плохие результаты. Но лучшим оказывается модель случайного леса, если судить по метрикам. (Также использовал аргумент class_weight='balanced', но результаты изменились незначительно)\n",
    "- Без балансировки не получается достичь необходимого результата (f1 > 0.59) -> нужно балансировать"
   ]
  },
  {
   "cell_type": "markdown",
   "metadata": {},
   "source": [
    "## Борьба с дисбалансом"
   ]
  },
  {
   "cell_type": "markdown",
   "metadata": {},
   "source": [
    "### Борьба с дисбаллансом. "
   ]
  },
  {
   "cell_type": "markdown",
   "metadata": {},
   "source": [
    "- Для этого будем использовать увеличение выборки с положительным классом."
   ]
  },
  {
   "cell_type": "code",
   "execution_count": 25,
   "metadata": {},
   "outputs": [],
   "source": [
    "#Используем функцию\n",
    "def upsample(features, target, repeat):\n",
    "    repeat = repeat\n",
    "    features_upsample = pd.concat([features_zeros] + [features_ones] * repeat)\n",
    "    target_upsample = pd.concat([target_zeros] + [target_ones] * repeat)\n",
    "    features_upsampled, target_upsampled = shuffle(features_upsample, target_upsample, random_state=12345)\n",
    "    return features_upsampled, target_upsampled"
   ]
  },
  {
   "cell_type": "markdown",
   "metadata": {},
   "source": [
    "- Теперь подберем оптимальный коэф `repeat` для `upsample()`"
   ]
  },
  {
   "cell_type": "code",
   "execution_count": 26,
   "metadata": {},
   "outputs": [],
   "source": [
    "best_repeat = 1"
   ]
  },
  {
   "cell_type": "code",
   "execution_count": 27,
   "metadata": {},
   "outputs": [
    {
     "name": "stdout",
     "output_type": "stream",
     "text": [
      "<class 'pandas.core.frame.DataFrame'>\n",
      "RangeIndex: 3636 entries, 0 to 3635\n",
      "Data columns (total 11 columns):\n",
      " #   Column           Non-Null Count  Dtype  \n",
      "---  ------           --------------  -----  \n",
      " 0   CreditScore      3636 non-null   int64  \n",
      " 1   Age              3636 non-null   int64  \n",
      " 2   Tenure           3636 non-null   float64\n",
      " 3   Balance          3636 non-null   float64\n",
      " 4   NumOfProducts    3636 non-null   int64  \n",
      " 5   HasCrCard        3636 non-null   int64  \n",
      " 6   IsActiveMember   3636 non-null   int64  \n",
      " 7   EstimatedSalary  3636 non-null   float64\n",
      " 8   x0_Germany       3636 non-null   float64\n",
      " 9   x0_Spain         3636 non-null   float64\n",
      " 10  x1_Male          3636 non-null   float64\n",
      "dtypes: float64(6), int64(5)\n",
      "memory usage: 312.6 KB\n"
     ]
    }
   ],
   "source": [
    "features_train_enc.info()"
   ]
  },
  {
   "cell_type": "code",
   "execution_count": 28,
   "metadata": {
    "scrolled": false
   },
   "outputs": [
    {
     "name": "stdout",
     "output_type": "stream",
     "text": [
      "0.6110590440487348\n",
      "11\n",
      "0.8505578770516522\n",
      "[[1774  397]\n",
      " [ 169  387]]\n",
      "3\n"
     ]
    }
   ],
   "source": [
    "for repeat in range(1, 10):\n",
    "    model = RandomForestClassifier(max_depth=best_forest_depth, n_estimators=60, random_state=12345)\n",
    "    \n",
    "    features_upsampled, target_upsampled = upsample(features_train_enc, target_train, repeat)\n",
    "    model.fit(features_upsampled, target_upsampled)\n",
    "    \n",
    "    predicted_valid = model.predict(features_valid_enc)\n",
    "    probabilities_valid = model.predict_proba(features_valid_enc)\n",
    "    probabilities_one_valid = probabilities_valid[:, 1]\n",
    "    if f1_score(target_valid, predicted_valid) > best_forest_f1:\n",
    "        best_forest_f1 = f1_score(target_valid, predicted_valid)\n",
    "        auc_roc = roc_auc_score(target_valid, probabilities_one_valid)\n",
    "        best_repeat = repeat\n",
    "\n",
    "print(best_forest_f1)\n",
    "print(best_forest_depth)\n",
    "print(auc_roc)\n",
    "print(confusion_matrix(target_valid, predicted_valid))\n",
    "print(best_repeat)"
   ]
  },
  {
   "cell_type": "markdown",
   "metadata": {},
   "source": [
    "- Ориентируясь на значение f1 меры, выявил, что положительный класс нужно увеличить в 3 раза для оптимального обучения модели"
   ]
  },
  {
   "cell_type": "code",
   "execution_count": 29,
   "metadata": {},
   "outputs": [],
   "source": [
    "features_upsampled, target_upsampled = upsample(features_train_enc, target_train, best_repeat)"
   ]
  },
  {
   "cell_type": "code",
   "execution_count": 30,
   "metadata": {
    "scrolled": false
   },
   "outputs": [
    {
     "name": "stdout",
     "output_type": "stream",
     "text": [
      "(5120, 11) (5120,)\n"
     ]
    }
   ],
   "source": [
    "print(features_upsampled.shape, target_upsampled.shape)"
   ]
  },
  {
   "cell_type": "markdown",
   "metadata": {},
   "source": [
    "**Вывод 3.1**: \n",
    "- Теперь отрицательный и положительный в тренировочных выборках сбалансированы для оптимальной работы модели\n",
    "- Далее обучим случайный лес уже на сбалансированных выборках и посмотрим на результат"
   ]
  },
  {
   "cell_type": "markdown",
   "metadata": {},
   "source": [
    "### Борьба с дисбаллансом. Обучение модели на сбалансированной выборке"
   ]
  },
  {
   "cell_type": "code",
   "execution_count": 31,
   "metadata": {},
   "outputs": [],
   "source": [
    "best_depth = 0\n",
    "best_f1 = 0\n",
    "best_auc = 0.5"
   ]
  },
  {
   "cell_type": "markdown",
   "metadata": {},
   "source": [
    "- Также Подберем оптимальные параметры глубины и кол-ва деревьев для максимизации f1"
   ]
  },
  {
   "cell_type": "code",
   "execution_count": 32,
   "metadata": {
    "scrolled": false
   },
   "outputs": [
    {
     "name": "stdout",
     "output_type": "stream",
     "text": [
      "9\n",
      "0.6170212765957447\n",
      "0.8493400581239292\n"
     ]
    }
   ],
   "source": [
    "for depth in range(1, 16):\n",
    "    model = RandomForestClassifier(max_depth=depth, n_estimators=40, random_state=12345)\n",
    "    model.fit(features_upsampled, target_upsampled)\n",
    "\n",
    "    predicted_valid = model.predict(features_valid_enc)\n",
    "    probabilities_valid = model.predict_proba(features_valid_enc)\n",
    "    probabilities_one_valid = probabilities_valid[:, 1]\n",
    "\n",
    "    auc_roc = roc_auc_score(target_valid, probabilities_one_valid)\n",
    "    if f1_score(target_valid, predicted_valid) > best_f1:\n",
    "        best_f1 = f1_score(target_valid, predicted_valid)\n",
    "        best_depth = depth\n",
    "        best_auc = auc_roc\n",
    "\n",
    "print(best_depth)\n",
    "print(best_f1)\n",
    "print(best_auc)"
   ]
  },
  {
   "cell_type": "markdown",
   "metadata": {},
   "source": [
    "- Max_depth = 9\n",
    "- Теперь вручную подберем кол-во деревьев"
   ]
  },
  {
   "cell_type": "code",
   "execution_count": 39,
   "metadata": {
    "scrolled": true
   },
   "outputs": [
    {
     "name": "stdout",
     "output_type": "stream",
     "text": [
      "0.6217430368373764 0.8523746640642345\n"
     ]
    }
   ],
   "source": [
    "model = RandomForestClassifier(max_depth=best_depth, n_estimators=70, random_state=12345)\n",
    "model.fit(features_upsampled, target_upsampled)\n",
    "\n",
    "predicted_valid = model.predict(features_valid_enc)\n",
    "probabilities_valid = model.predict_proba(features_valid_enc)\n",
    "probabilities_one_valid = probabilities_valid[:, 1]\n",
    "\n",
    "auc_roc = roc_auc_score(target_valid, probabilities_one_valid)\n",
    "f1 = f1_score(target_valid, predicted_valid)\n",
    "print(f1, auc_roc)"
   ]
  },
  {
   "cell_type": "markdown",
   "metadata": {},
   "source": [
    "**Вывод 3.2**: \n",
    "- Экспериментальным путем подобрал оптимальные параметры и гиперпараметры для увеличения выборки и обучения модели\n",
    "- С помощью этого достиг необходимого значения F1 меры и максимизировал его.\n",
    "- Лучшее значение f1_score: 0.62\n",
    "- Лучшее значение auc_roc: 0.85"
   ]
  },
  {
   "cell_type": "markdown",
   "metadata": {},
   "source": [
    "## Тестирование модели"
   ]
  },
  {
   "cell_type": "code",
   "execution_count": 34,
   "metadata": {
    "scrolled": true
   },
   "outputs": [
    {
     "name": "stdout",
     "output_type": "stream",
     "text": [
      "0.6185022026431718\n",
      "0.862423735045113\n"
     ]
    }
   ],
   "source": [
    "predicted_test = model.predict(features_test_enc)\n",
    "probabilities_valid = model.predict_proba(features_test_enc)\n",
    "probabilities_one_valid = probabilities_valid[:, 1]\n",
    "\n",
    "auc_roc = roc_auc_score(target_test, probabilities_one_valid)\n",
    "\n",
    "print(f1_score(target_test, predicted_test))\n",
    "print(auc_roc)"
   ]
  },
  {
   "cell_type": "markdown",
   "metadata": {},
   "source": [
    "## Общий вывод"
   ]
  },
  {
   "cell_type": "markdown",
   "metadata": {},
   "source": [
    "- (п.1)Предобработка\n",
    "    1. Сначала обработали данные: пропуски в столбце Tenure составили < 10%: удалил их\n",
    "    2. Методом OHE преобразовали категориальные стобцы в численные\n",
    "    3. Подготовил признаки и разделил их на тренировочную, тестовую, валидационную выборки в соотношении 3:1:1 \n",
    "- (п.2)Исследование задачи и решение проблемы разбалансировки\n",
    "    1. Отриуательный класс оказался почти в 4 раза больше положительного\n",
    "    2. Обучил несколько моделей на несбалансированных выборках и понял, что алгоритмы показвают не достаточные значения f1 меры и auc_roc.\n",
    "- (п.3)Борьба с дисбалансом\n",
    "    1. Сбалансировал данные, увеличив двукратно положительный класс(перебирая разные коэф-ты и доводя значение f1 меры до значения > 0.59\n",
    "    2. Подобрал оптимальные гиперпараметры для наилучшей модели (случайный лес) best_depth = 8, n_est = 50\n",
    "- (п.4)Тестирование модели\n",
    "    1. Наилучшая модель показала хорошие значения метрик `f1 = 0.618` и `auc_roc = 0.862`\n",
    "Задачи проекта выполнены."
   ]
  },
  {
   "cell_type": "code",
   "execution_count": null,
   "metadata": {},
   "outputs": [],
   "source": []
  },
  {
   "cell_type": "markdown",
   "metadata": {},
   "source": [
    "## Чек-лист готовности проекта"
   ]
  },
  {
   "cell_type": "markdown",
   "metadata": {},
   "source": [
    "Поставьте 'x' в выполненных пунктах. Далее нажмите Shift+Enter."
   ]
  },
  {
   "cell_type": "markdown",
   "metadata": {},
   "source": [
    "- [x]  Jupyter Notebook открыт\n",
    "- [ ]  Весь код выполняется без ошибок\n",
    "- [ ]  Ячейки с кодом расположены в порядке исполнения\n",
    "- [ ]  Выполнен шаг 1: данные подготовлены\n",
    "- [ ]  Выполнен шаг 2: задача исследована\n",
    "    - [ ]  Исследован баланс классов\n",
    "    - [ ]  Изучены модели без учёта дисбаланса\n",
    "    - [ ]  Написаны выводы по результатам исследования\n",
    "- [ ]  Выполнен шаг 3: учтён дисбаланс\n",
    "    - [ ]  Применено несколько способов борьбы с дисбалансом\n",
    "    - [ ]  Написаны выводы по результатам исследования\n",
    "- [ ]  Выполнен шаг 4: проведено тестирование\n",
    "- [ ]  Удалось достичь *F1*-меры не менее 0.59\n",
    "- [ ]  Исследована метрика *AUC-ROC*"
   ]
  }
 ],
 "metadata": {
  "ExecuteTimeLog": [
   {
    "duration": 45,
    "start_time": "2023-07-14T11:42:56.469Z"
   },
   {
    "duration": 404,
    "start_time": "2023-07-14T11:43:00.161Z"
   },
   {
    "duration": 176,
    "start_time": "2023-07-14T11:43:01.559Z"
   },
   {
    "duration": 47,
    "start_time": "2023-07-14T11:49:12.206Z"
   },
   {
    "duration": 13,
    "start_time": "2023-07-14T11:49:49.952Z"
   },
   {
    "duration": 18,
    "start_time": "2023-07-14T11:50:08.775Z"
   },
   {
    "duration": 29,
    "start_time": "2023-07-14T11:55:02.715Z"
   },
   {
    "duration": 7,
    "start_time": "2023-07-14T11:56:24.078Z"
   },
   {
    "duration": 577,
    "start_time": "2023-07-14T11:57:21.048Z"
   },
   {
    "duration": 102,
    "start_time": "2023-07-14T11:57:39.687Z"
   },
   {
    "duration": 7,
    "start_time": "2023-07-14T11:58:18.833Z"
   },
   {
    "duration": 13,
    "start_time": "2023-07-14T11:58:46.406Z"
   },
   {
    "duration": 7,
    "start_time": "2023-07-14T12:01:07.130Z"
   },
   {
    "duration": 4,
    "start_time": "2023-07-14T12:01:15.803Z"
   },
   {
    "duration": 19,
    "start_time": "2023-07-14T12:01:28.765Z"
   },
   {
    "duration": 9,
    "start_time": "2023-07-14T12:01:34.917Z"
   },
   {
    "duration": 4,
    "start_time": "2023-07-14T12:01:39.090Z"
   },
   {
    "duration": 18,
    "start_time": "2023-07-14T12:02:09.223Z"
   },
   {
    "duration": 52,
    "start_time": "2023-07-14T15:37:40.412Z"
   },
   {
    "duration": 1250,
    "start_time": "2023-07-14T15:37:46.893Z"
   },
   {
    "duration": 0,
    "start_time": "2023-07-14T15:37:48.145Z"
   },
   {
    "duration": 0,
    "start_time": "2023-07-14T15:37:48.147Z"
   },
   {
    "duration": 0,
    "start_time": "2023-07-14T15:37:48.149Z"
   },
   {
    "duration": 0,
    "start_time": "2023-07-14T15:37:48.151Z"
   },
   {
    "duration": 15,
    "start_time": "2023-07-14T15:37:57.422Z"
   },
   {
    "duration": 4,
    "start_time": "2023-07-14T15:38:02.912Z"
   },
   {
    "duration": 221,
    "start_time": "2023-07-14T15:38:02.922Z"
   },
   {
    "duration": 6,
    "start_time": "2023-07-14T15:38:03.146Z"
   },
   {
    "duration": 35,
    "start_time": "2023-07-14T15:38:03.154Z"
   },
   {
    "duration": 28,
    "start_time": "2023-07-14T15:38:03.191Z"
   },
   {
    "duration": 5,
    "start_time": "2023-07-14T15:49:47.617Z"
   },
   {
    "duration": 16,
    "start_time": "2023-07-14T16:01:16.553Z"
   },
   {
    "duration": 13,
    "start_time": "2023-07-14T16:18:09.659Z"
   },
   {
    "duration": 1343,
    "start_time": "2023-07-14T16:18:47.758Z"
   },
   {
    "duration": 1412,
    "start_time": "2023-07-14T16:20:30.254Z"
   },
   {
    "duration": 1318,
    "start_time": "2023-07-14T16:21:10.024Z"
   },
   {
    "duration": 1318,
    "start_time": "2023-07-14T16:21:20.249Z"
   },
   {
    "duration": 18,
    "start_time": "2023-07-14T16:21:34.188Z"
   },
   {
    "duration": 54,
    "start_time": "2023-07-17T12:44:17.062Z"
   },
   {
    "duration": 7,
    "start_time": "2023-07-17T12:44:35.902Z"
   },
   {
    "duration": 1133,
    "start_time": "2023-07-17T12:47:26.894Z"
   },
   {
    "duration": 167,
    "start_time": "2023-07-17T12:47:28.029Z"
   },
   {
    "duration": 5,
    "start_time": "2023-07-17T12:47:28.198Z"
   },
   {
    "duration": 40,
    "start_time": "2023-07-17T12:47:28.205Z"
   },
   {
    "duration": 18,
    "start_time": "2023-07-17T12:47:28.247Z"
   },
   {
    "duration": 23,
    "start_time": "2023-07-17T12:47:28.266Z"
   },
   {
    "duration": 86,
    "start_time": "2023-07-17T12:47:28.291Z"
   },
   {
    "duration": 12,
    "start_time": "2023-07-17T12:48:16.754Z"
   },
   {
    "duration": 13,
    "start_time": "2023-07-17T12:48:48.691Z"
   },
   {
    "duration": 20,
    "start_time": "2023-07-17T12:49:12.917Z"
   },
   {
    "duration": 3,
    "start_time": "2023-07-17T12:49:26.853Z"
   },
   {
    "duration": 1123,
    "start_time": "2023-07-17T12:51:55.901Z"
   },
   {
    "duration": 48,
    "start_time": "2023-07-17T12:51:57.026Z"
   },
   {
    "duration": 26,
    "start_time": "2023-07-17T12:51:57.076Z"
   },
   {
    "duration": 24,
    "start_time": "2023-07-17T12:51:57.104Z"
   },
   {
    "duration": 17,
    "start_time": "2023-07-17T12:51:57.130Z"
   },
   {
    "duration": 7,
    "start_time": "2023-07-17T12:51:57.148Z"
   },
   {
    "duration": 25,
    "start_time": "2023-07-17T12:51:57.156Z"
   },
   {
    "duration": 14,
    "start_time": "2023-07-17T12:51:57.183Z"
   },
   {
    "duration": 8,
    "start_time": "2023-07-17T12:52:32.085Z"
   },
   {
    "duration": 2,
    "start_time": "2023-07-17T12:52:41.295Z"
   },
   {
    "duration": 7,
    "start_time": "2023-07-17T13:23:19.215Z"
   },
   {
    "duration": 8,
    "start_time": "2023-07-17T13:27:33.670Z"
   },
   {
    "duration": 8,
    "start_time": "2023-07-17T13:28:06.157Z"
   },
   {
    "duration": 9,
    "start_time": "2023-07-17T13:28:28.086Z"
   },
   {
    "duration": 10,
    "start_time": "2023-07-17T13:32:39.419Z"
   },
   {
    "duration": 1199,
    "start_time": "2023-07-17T13:51:48.151Z"
   },
   {
    "duration": 52,
    "start_time": "2023-07-17T13:51:49.352Z"
   },
   {
    "duration": 5,
    "start_time": "2023-07-17T13:51:49.405Z"
   },
   {
    "duration": 63,
    "start_time": "2023-07-17T13:51:49.411Z"
   },
   {
    "duration": 44,
    "start_time": "2023-07-17T13:51:49.476Z"
   },
   {
    "duration": 12,
    "start_time": "2023-07-17T13:51:49.521Z"
   },
   {
    "duration": 22,
    "start_time": "2023-07-17T13:51:49.534Z"
   },
   {
    "duration": 13,
    "start_time": "2023-07-17T13:51:49.557Z"
   },
   {
    "duration": 33,
    "start_time": "2023-07-17T13:51:49.572Z"
   },
   {
    "duration": 29,
    "start_time": "2023-07-17T13:51:49.607Z"
   },
   {
    "duration": 64,
    "start_time": "2023-07-17T13:51:49.639Z"
   },
   {
    "duration": 70,
    "start_time": "2023-07-17T13:53:00.158Z"
   },
   {
    "duration": 47,
    "start_time": "2023-07-17T16:05:10.057Z"
   },
   {
    "duration": 8,
    "start_time": "2023-07-17T16:05:51.198Z"
   },
   {
    "duration": 1132,
    "start_time": "2023-07-17T16:05:56.774Z"
   },
   {
    "duration": 94,
    "start_time": "2023-07-17T16:05:57.908Z"
   },
   {
    "duration": 5,
    "start_time": "2023-07-17T16:05:58.005Z"
   },
   {
    "duration": 23,
    "start_time": "2023-07-17T16:05:58.011Z"
   },
   {
    "duration": 18,
    "start_time": "2023-07-17T16:05:58.036Z"
   },
   {
    "duration": 8,
    "start_time": "2023-07-17T16:05:58.055Z"
   },
   {
    "duration": 15,
    "start_time": "2023-07-17T16:05:58.065Z"
   },
   {
    "duration": 8,
    "start_time": "2023-07-17T16:05:58.082Z"
   },
   {
    "duration": 10,
    "start_time": "2023-07-17T16:05:58.091Z"
   },
   {
    "duration": 9,
    "start_time": "2023-07-17T16:05:58.103Z"
   },
   {
    "duration": 74,
    "start_time": "2023-07-17T16:05:58.113Z"
   },
   {
    "duration": 79,
    "start_time": "2023-07-17T16:05:58.188Z"
   },
   {
    "duration": 97,
    "start_time": "2023-07-17T16:07:24.757Z"
   },
   {
    "duration": 10,
    "start_time": "2023-07-17T16:11:22.482Z"
   },
   {
    "duration": 151,
    "start_time": "2023-07-17T16:11:35.148Z"
   },
   {
    "duration": 181,
    "start_time": "2023-07-17T16:11:40.446Z"
   },
   {
    "duration": 183,
    "start_time": "2023-07-17T16:11:49.000Z"
   },
   {
    "duration": 374,
    "start_time": "2023-07-17T16:11:55.703Z"
   },
   {
    "duration": 183,
    "start_time": "2023-07-17T16:12:17.517Z"
   },
   {
    "duration": 787,
    "start_time": "2023-07-17T16:13:37.178Z"
   },
   {
    "duration": 56,
    "start_time": "2023-07-18T11:51:47.992Z"
   },
   {
    "duration": 1503,
    "start_time": "2023-07-18T11:51:50.693Z"
   },
   {
    "duration": 99,
    "start_time": "2023-07-18T11:51:52.198Z"
   },
   {
    "duration": 5,
    "start_time": "2023-07-18T11:51:52.298Z"
   },
   {
    "duration": 81,
    "start_time": "2023-07-18T11:51:52.305Z"
   },
   {
    "duration": 36,
    "start_time": "2023-07-18T11:51:52.388Z"
   },
   {
    "duration": 6,
    "start_time": "2023-07-18T11:51:52.427Z"
   },
   {
    "duration": 39,
    "start_time": "2023-07-18T11:51:52.435Z"
   },
   {
    "duration": 27,
    "start_time": "2023-07-18T11:51:52.476Z"
   },
   {
    "duration": 34,
    "start_time": "2023-07-18T11:51:52.505Z"
   },
   {
    "duration": 34,
    "start_time": "2023-07-18T11:51:52.541Z"
   },
   {
    "duration": 82,
    "start_time": "2023-07-18T11:51:52.577Z"
   },
   {
    "duration": 1061,
    "start_time": "2023-07-18T11:51:52.661Z"
   },
   {
    "duration": 305,
    "start_time": "2023-07-18T11:51:53.812Z"
   },
   {
    "duration": 3,
    "start_time": "2023-07-18T11:51:54.125Z"
   },
   {
    "duration": 93,
    "start_time": "2023-07-18T11:51:59.527Z"
   },
   {
    "duration": 311,
    "start_time": "2023-07-18T11:52:08.804Z"
   },
   {
    "duration": 201,
    "start_time": "2023-07-18T11:52:16.492Z"
   },
   {
    "duration": 275,
    "start_time": "2023-07-18T11:52:21.583Z"
   },
   {
    "duration": 222,
    "start_time": "2023-07-18T11:52:25.693Z"
   },
   {
    "duration": 4,
    "start_time": "2023-07-18T12:46:19.081Z"
   },
   {
    "duration": 70,
    "start_time": "2023-07-18T12:46:28.714Z"
   },
   {
    "duration": 4,
    "start_time": "2023-07-18T12:46:32.541Z"
   },
   {
    "duration": 10,
    "start_time": "2023-07-18T12:46:34.862Z"
   },
   {
    "duration": 7,
    "start_time": "2023-07-18T12:46:45.934Z"
   },
   {
    "duration": 7,
    "start_time": "2023-07-18T12:47:56.582Z"
   },
   {
    "duration": 18,
    "start_time": "2023-07-18T12:48:26.119Z"
   },
   {
    "duration": 1281,
    "start_time": "2023-07-18T12:48:49.374Z"
   },
   {
    "duration": 62,
    "start_time": "2023-07-18T12:48:50.657Z"
   },
   {
    "duration": 5,
    "start_time": "2023-07-18T12:48:50.722Z"
   },
   {
    "duration": 42,
    "start_time": "2023-07-18T12:48:50.729Z"
   },
   {
    "duration": 19,
    "start_time": "2023-07-18T12:48:50.772Z"
   },
   {
    "duration": 36,
    "start_time": "2023-07-18T12:48:50.793Z"
   },
   {
    "duration": 43,
    "start_time": "2023-07-18T12:48:50.831Z"
   },
   {
    "duration": 13,
    "start_time": "2023-07-18T12:48:50.877Z"
   },
   {
    "duration": 53,
    "start_time": "2023-07-18T12:48:50.892Z"
   },
   {
    "duration": 19,
    "start_time": "2023-07-18T12:48:50.947Z"
   },
   {
    "duration": 92,
    "start_time": "2023-07-18T12:48:50.968Z"
   },
   {
    "duration": 548,
    "start_time": "2023-07-18T12:48:51.062Z"
   },
   {
    "duration": 295,
    "start_time": "2023-07-18T12:48:51.612Z"
   },
   {
    "duration": 4,
    "start_time": "2023-07-18T12:48:51.918Z"
   },
   {
    "duration": 49,
    "start_time": "2023-07-18T12:48:51.924Z"
   },
   {
    "duration": 254,
    "start_time": "2023-07-18T12:48:51.975Z"
   },
   {
    "duration": 10,
    "start_time": "2023-07-18T12:52:32.463Z"
   },
   {
    "duration": 1335,
    "start_time": "2023-07-18T12:53:14.450Z"
   },
   {
    "duration": 77,
    "start_time": "2023-07-18T12:53:15.788Z"
   },
   {
    "duration": 7,
    "start_time": "2023-07-18T12:53:15.867Z"
   },
   {
    "duration": 103,
    "start_time": "2023-07-18T12:53:15.876Z"
   },
   {
    "duration": 94,
    "start_time": "2023-07-18T12:53:15.981Z"
   },
   {
    "duration": 39,
    "start_time": "2023-07-18T12:53:16.078Z"
   },
   {
    "duration": 65,
    "start_time": "2023-07-18T12:53:16.119Z"
   },
   {
    "duration": 14,
    "start_time": "2023-07-18T12:53:16.187Z"
   },
   {
    "duration": 28,
    "start_time": "2023-07-18T12:53:16.203Z"
   },
   {
    "duration": 13,
    "start_time": "2023-07-18T12:53:16.235Z"
   },
   {
    "duration": 74,
    "start_time": "2023-07-18T12:53:16.251Z"
   },
   {
    "duration": 182,
    "start_time": "2023-07-18T12:53:16.327Z"
   },
   {
    "duration": 302,
    "start_time": "2023-07-18T12:53:16.511Z"
   },
   {
    "duration": 4,
    "start_time": "2023-07-18T12:53:16.814Z"
   },
   {
    "duration": 20,
    "start_time": "2023-07-18T12:53:16.820Z"
   },
   {
    "duration": 226,
    "start_time": "2023-07-18T12:53:16.842Z"
   },
   {
    "duration": 4,
    "start_time": "2023-07-18T13:00:12.108Z"
   },
   {
    "duration": 1344,
    "start_time": "2023-07-18T13:00:24.050Z"
   },
   {
    "duration": 55,
    "start_time": "2023-07-18T13:00:25.396Z"
   },
   {
    "duration": 5,
    "start_time": "2023-07-18T13:00:25.452Z"
   },
   {
    "duration": 36,
    "start_time": "2023-07-18T13:00:25.459Z"
   },
   {
    "duration": 19,
    "start_time": "2023-07-18T13:00:25.498Z"
   },
   {
    "duration": 33,
    "start_time": "2023-07-18T13:00:25.519Z"
   },
   {
    "duration": 21,
    "start_time": "2023-07-18T13:00:25.554Z"
   },
   {
    "duration": 5,
    "start_time": "2023-07-18T13:00:25.577Z"
   },
   {
    "duration": 14,
    "start_time": "2023-07-18T13:00:25.583Z"
   },
   {
    "duration": 25,
    "start_time": "2023-07-18T13:00:25.599Z"
   },
   {
    "duration": 76,
    "start_time": "2023-07-18T13:00:25.626Z"
   },
   {
    "duration": 206,
    "start_time": "2023-07-18T13:00:25.704Z"
   },
   {
    "duration": 309,
    "start_time": "2023-07-18T13:00:25.913Z"
   },
   {
    "duration": 4,
    "start_time": "2023-07-18T13:00:26.225Z"
   },
   {
    "duration": 37,
    "start_time": "2023-07-18T13:00:26.231Z"
   },
   {
    "duration": 33,
    "start_time": "2023-07-18T13:00:26.271Z"
   },
   {
    "duration": 287,
    "start_time": "2023-07-18T13:00:26.307Z"
   },
   {
    "duration": 3,
    "start_time": "2023-07-18T13:07:02.076Z"
   },
   {
    "duration": 449,
    "start_time": "2023-07-18T13:08:45.458Z"
   },
   {
    "duration": 2841,
    "start_time": "2023-07-18T13:09:16.556Z"
   },
   {
    "duration": 2803,
    "start_time": "2023-07-18T13:09:26.774Z"
   },
   {
    "duration": 2811,
    "start_time": "2023-07-18T13:09:47.855Z"
   },
   {
    "duration": 564,
    "start_time": "2023-07-18T13:13:15.160Z"
   },
   {
    "duration": 702,
    "start_time": "2023-07-18T13:13:20.651Z"
   },
   {
    "duration": 1332,
    "start_time": "2023-07-18T13:13:29.820Z"
   },
   {
    "duration": 1401,
    "start_time": "2023-07-18T13:14:13.848Z"
   },
   {
    "duration": 1230,
    "start_time": "2023-07-18T13:14:33.039Z"
   },
   {
    "duration": 1275,
    "start_time": "2023-07-18T13:14:52.501Z"
   },
   {
    "duration": 57,
    "start_time": "2023-07-18T13:14:53.779Z"
   },
   {
    "duration": 12,
    "start_time": "2023-07-18T13:14:53.838Z"
   },
   {
    "duration": 74,
    "start_time": "2023-07-18T13:14:53.852Z"
   },
   {
    "duration": 59,
    "start_time": "2023-07-18T13:14:53.928Z"
   },
   {
    "duration": 49,
    "start_time": "2023-07-18T13:14:53.989Z"
   },
   {
    "duration": 104,
    "start_time": "2023-07-18T13:14:54.040Z"
   },
   {
    "duration": 33,
    "start_time": "2023-07-18T13:14:54.147Z"
   },
   {
    "duration": 75,
    "start_time": "2023-07-18T13:14:54.182Z"
   },
   {
    "duration": 48,
    "start_time": "2023-07-18T13:14:54.260Z"
   },
   {
    "duration": 111,
    "start_time": "2023-07-18T13:14:54.310Z"
   },
   {
    "duration": 191,
    "start_time": "2023-07-18T13:14:54.423Z"
   },
   {
    "duration": 275,
    "start_time": "2023-07-18T13:14:54.616Z"
   },
   {
    "duration": 3,
    "start_time": "2023-07-18T13:14:54.893Z"
   },
   {
    "duration": 57,
    "start_time": "2023-07-18T13:14:54.908Z"
   },
   {
    "duration": 21,
    "start_time": "2023-07-18T13:14:54.967Z"
   },
   {
    "duration": 33,
    "start_time": "2023-07-18T13:14:54.990Z"
   },
   {
    "duration": 3014,
    "start_time": "2023-07-18T13:14:55.024Z"
   },
   {
    "duration": 1238,
    "start_time": "2023-07-18T13:14:58.040Z"
   },
   {
    "duration": 1258,
    "start_time": "2023-07-18T13:17:07.920Z"
   },
   {
    "duration": 659,
    "start_time": "2023-07-18T13:17:20.471Z"
   },
   {
    "duration": 754,
    "start_time": "2023-07-18T13:17:25.082Z"
   },
   {
    "duration": 889,
    "start_time": "2023-07-18T13:17:29.681Z"
   },
   {
    "duration": 776,
    "start_time": "2023-07-18T13:17:34.179Z"
   },
   {
    "duration": 788,
    "start_time": "2023-07-18T13:17:41.438Z"
   },
   {
    "duration": 1162,
    "start_time": "2023-07-18T17:12:50.312Z"
   },
   {
    "duration": 88,
    "start_time": "2023-07-18T17:12:51.477Z"
   },
   {
    "duration": 5,
    "start_time": "2023-07-18T17:12:51.567Z"
   },
   {
    "duration": 30,
    "start_time": "2023-07-18T17:12:51.574Z"
   },
   {
    "duration": 20,
    "start_time": "2023-07-18T17:12:51.607Z"
   },
   {
    "duration": 13,
    "start_time": "2023-07-18T17:12:51.629Z"
   },
   {
    "duration": 46,
    "start_time": "2023-07-18T17:12:51.644Z"
   },
   {
    "duration": 11,
    "start_time": "2023-07-18T17:12:51.691Z"
   },
   {
    "duration": 27,
    "start_time": "2023-07-18T17:12:51.703Z"
   },
   {
    "duration": 28,
    "start_time": "2023-07-18T17:12:51.731Z"
   },
   {
    "duration": 56,
    "start_time": "2023-07-18T17:12:51.760Z"
   },
   {
    "duration": 206,
    "start_time": "2023-07-18T17:12:51.817Z"
   },
   {
    "duration": 233,
    "start_time": "2023-07-18T17:12:52.026Z"
   },
   {
    "duration": 4,
    "start_time": "2023-07-18T17:12:52.261Z"
   },
   {
    "duration": 47,
    "start_time": "2023-07-18T17:12:52.267Z"
   },
   {
    "duration": 8,
    "start_time": "2023-07-18T17:12:52.316Z"
   },
   {
    "duration": 10,
    "start_time": "2023-07-18T17:12:52.326Z"
   },
   {
    "duration": 2036,
    "start_time": "2023-07-18T17:12:52.338Z"
   },
   {
    "duration": 413,
    "start_time": "2023-07-18T17:12:54.376Z"
   },
   {
    "duration": 475,
    "start_time": "2023-07-18T17:33:05.140Z"
   },
   {
    "duration": 415,
    "start_time": "2023-07-18T17:33:17.719Z"
   },
   {
    "duration": 338,
    "start_time": "2023-07-18T17:33:24.672Z"
   },
   {
    "duration": 411,
    "start_time": "2023-07-18T17:33:29.151Z"
   },
   {
    "duration": 157,
    "start_time": "2023-07-18T17:37:11.551Z"
   },
   {
    "duration": 55,
    "start_time": "2023-07-18T17:37:48.645Z"
   },
   {
    "duration": 83,
    "start_time": "2023-07-18T17:38:15.513Z"
   },
   {
    "duration": 48,
    "start_time": "2023-07-18T17:38:47.837Z"
   },
   {
    "duration": 49,
    "start_time": "2023-07-19T11:52:27.544Z"
   },
   {
    "duration": 1140,
    "start_time": "2023-07-19T11:52:35.602Z"
   },
   {
    "duration": 82,
    "start_time": "2023-07-19T11:52:36.744Z"
   },
   {
    "duration": 10,
    "start_time": "2023-07-19T11:52:41.276Z"
   },
   {
    "duration": 4,
    "start_time": "2023-07-19T11:58:28.300Z"
   },
   {
    "duration": 5,
    "start_time": "2023-07-19T11:58:39.398Z"
   },
   {
    "duration": 19,
    "start_time": "2023-07-19T12:09:17.364Z"
   },
   {
    "duration": 17,
    "start_time": "2023-07-19T12:28:22.253Z"
   },
   {
    "duration": 76,
    "start_time": "2023-07-19T12:29:50.234Z"
   },
   {
    "duration": 5,
    "start_time": "2023-07-19T12:30:14.236Z"
   },
   {
    "duration": 50,
    "start_time": "2023-07-19T12:30:14.245Z"
   },
   {
    "duration": 4,
    "start_time": "2023-07-19T12:30:14.296Z"
   },
   {
    "duration": 22,
    "start_time": "2023-07-19T12:30:21.580Z"
   },
   {
    "duration": 14,
    "start_time": "2023-07-19T12:30:43.411Z"
   },
   {
    "duration": 17,
    "start_time": "2023-07-19T12:30:47.836Z"
   },
   {
    "duration": 4,
    "start_time": "2023-07-19T13:54:19.234Z"
   },
   {
    "duration": 13,
    "start_time": "2023-07-19T13:54:25.051Z"
   },
   {
    "duration": 3,
    "start_time": "2023-07-19T14:00:34.596Z"
   },
   {
    "duration": 68,
    "start_time": "2023-07-19T14:00:34.605Z"
   },
   {
    "duration": 4,
    "start_time": "2023-07-19T14:00:34.705Z"
   },
   {
    "duration": 26,
    "start_time": "2023-07-19T14:00:34.711Z"
   },
   {
    "duration": 26,
    "start_time": "2023-07-19T14:00:34.739Z"
   },
   {
    "duration": 21,
    "start_time": "2023-07-19T14:00:34.767Z"
   },
   {
    "duration": 7,
    "start_time": "2023-07-19T14:00:34.791Z"
   },
   {
    "duration": 29,
    "start_time": "2023-07-19T14:00:34.799Z"
   },
   {
    "duration": 19,
    "start_time": "2023-07-19T14:00:34.843Z"
   },
   {
    "duration": 16,
    "start_time": "2023-07-19T14:01:00.137Z"
   },
   {
    "duration": 5,
    "start_time": "2023-07-19T14:02:44.611Z"
   },
   {
    "duration": 3,
    "start_time": "2023-07-19T14:02:54.409Z"
   },
   {
    "duration": 61,
    "start_time": "2023-07-19T14:02:54.414Z"
   },
   {
    "duration": 4,
    "start_time": "2023-07-19T14:02:54.477Z"
   },
   {
    "duration": 25,
    "start_time": "2023-07-19T14:02:54.482Z"
   },
   {
    "duration": 42,
    "start_time": "2023-07-19T14:02:54.508Z"
   },
   {
    "duration": 17,
    "start_time": "2023-07-19T14:02:54.570Z"
   },
   {
    "duration": 39,
    "start_time": "2023-07-19T14:02:54.589Z"
   },
   {
    "duration": 72,
    "start_time": "2023-07-19T14:02:54.629Z"
   },
   {
    "duration": 31,
    "start_time": "2023-07-19T14:02:54.703Z"
   },
   {
    "duration": 16,
    "start_time": "2023-07-19T14:02:57.478Z"
   },
   {
    "duration": 16,
    "start_time": "2023-07-19T14:07:40.215Z"
   },
   {
    "duration": 5,
    "start_time": "2023-07-19T14:07:57.566Z"
   },
   {
    "duration": 15,
    "start_time": "2023-07-19T14:08:00.285Z"
   },
   {
    "duration": 14,
    "start_time": "2023-07-19T14:13:02.300Z"
   },
   {
    "duration": 1214,
    "start_time": "2023-07-20T09:58:36.665Z"
   },
   {
    "duration": 173,
    "start_time": "2023-07-20T09:58:37.881Z"
   },
   {
    "duration": 4,
    "start_time": "2023-07-20T09:58:38.056Z"
   },
   {
    "duration": 21,
    "start_time": "2023-07-20T09:58:38.062Z"
   },
   {
    "duration": 42,
    "start_time": "2023-07-20T09:58:38.085Z"
   },
   {
    "duration": 17,
    "start_time": "2023-07-20T09:58:38.129Z"
   },
   {
    "duration": 5,
    "start_time": "2023-07-20T09:58:38.148Z"
   },
   {
    "duration": 13,
    "start_time": "2023-07-20T09:58:38.154Z"
   },
   {
    "duration": 7,
    "start_time": "2023-07-20T09:58:40.784Z"
   },
   {
    "duration": 13,
    "start_time": "2023-07-20T09:59:37.592Z"
   },
   {
    "duration": 15,
    "start_time": "2023-07-20T09:59:54.381Z"
   },
   {
    "duration": 111,
    "start_time": "2023-07-20T10:00:34.377Z"
   },
   {
    "duration": 4,
    "start_time": "2023-07-20T10:00:56.254Z"
   },
   {
    "duration": 62,
    "start_time": "2023-07-20T10:00:56.261Z"
   },
   {
    "duration": 5,
    "start_time": "2023-07-20T10:00:56.326Z"
   },
   {
    "duration": 22,
    "start_time": "2023-07-20T10:00:56.332Z"
   },
   {
    "duration": 18,
    "start_time": "2023-07-20T10:00:56.356Z"
   },
   {
    "duration": 33,
    "start_time": "2023-07-20T10:00:56.375Z"
   },
   {
    "duration": 7,
    "start_time": "2023-07-20T10:00:56.409Z"
   },
   {
    "duration": 5,
    "start_time": "2023-07-20T10:00:56.417Z"
   },
   {
    "duration": 9,
    "start_time": "2023-07-20T10:00:58.782Z"
   },
   {
    "duration": 15,
    "start_time": "2023-07-20T10:01:23.370Z"
   },
   {
    "duration": 22,
    "start_time": "2023-07-20T10:01:25.845Z"
   },
   {
    "duration": 21,
    "start_time": "2023-07-20T10:01:40.243Z"
   },
   {
    "duration": 5,
    "start_time": "2023-07-20T10:09:01.488Z"
   },
   {
    "duration": 137,
    "start_time": "2023-07-20T10:09:01.495Z"
   },
   {
    "duration": 5,
    "start_time": "2023-07-20T10:09:01.635Z"
   },
   {
    "duration": 66,
    "start_time": "2023-07-20T10:09:01.641Z"
   },
   {
    "duration": 69,
    "start_time": "2023-07-20T10:09:01.710Z"
   },
   {
    "duration": 86,
    "start_time": "2023-07-20T10:09:01.781Z"
   },
   {
    "duration": 63,
    "start_time": "2023-07-20T10:09:01.868Z"
   },
   {
    "duration": 71,
    "start_time": "2023-07-20T10:09:01.933Z"
   },
   {
    "duration": 60,
    "start_time": "2023-07-20T10:09:02.006Z"
   },
   {
    "duration": 96,
    "start_time": "2023-07-20T10:09:02.068Z"
   },
   {
    "duration": 64,
    "start_time": "2023-07-20T10:09:02.167Z"
   },
   {
    "duration": 19,
    "start_time": "2023-07-20T10:09:56.540Z"
   },
   {
    "duration": 4,
    "start_time": "2023-07-20T10:20:42.388Z"
   },
   {
    "duration": 61,
    "start_time": "2023-07-20T10:20:42.394Z"
   },
   {
    "duration": 6,
    "start_time": "2023-07-20T10:20:42.457Z"
   },
   {
    "duration": 10,
    "start_time": "2023-07-20T10:20:42.465Z"
   },
   {
    "duration": 15,
    "start_time": "2023-07-20T10:20:42.477Z"
   },
   {
    "duration": 17,
    "start_time": "2023-07-20T10:20:42.494Z"
   },
   {
    "duration": 7,
    "start_time": "2023-07-20T10:20:42.513Z"
   },
   {
    "duration": 19,
    "start_time": "2023-07-20T10:20:42.522Z"
   },
   {
    "duration": 12,
    "start_time": "2023-07-20T10:20:42.543Z"
   },
   {
    "duration": 13,
    "start_time": "2023-07-20T10:20:42.557Z"
   },
   {
    "duration": 17,
    "start_time": "2023-07-20T10:20:42.573Z"
   },
   {
    "duration": 35,
    "start_time": "2023-07-20T10:20:42.592Z"
   },
   {
    "duration": 31,
    "start_time": "2023-07-20T10:20:42.629Z"
   },
   {
    "duration": 9,
    "start_time": "2023-07-20T10:20:53.075Z"
   },
   {
    "duration": 22,
    "start_time": "2023-07-20T10:25:22.002Z"
   },
   {
    "duration": 3,
    "start_time": "2023-07-20T10:25:24.274Z"
   },
   {
    "duration": 314,
    "start_time": "2023-07-20T10:25:26.159Z"
   },
   {
    "duration": 4,
    "start_time": "2023-07-20T10:31:54.294Z"
   },
   {
    "duration": 62,
    "start_time": "2023-07-20T10:31:54.302Z"
   },
   {
    "duration": 5,
    "start_time": "2023-07-20T10:31:54.366Z"
   },
   {
    "duration": 17,
    "start_time": "2023-07-20T10:31:54.372Z"
   },
   {
    "duration": 18,
    "start_time": "2023-07-20T10:31:54.391Z"
   },
   {
    "duration": 35,
    "start_time": "2023-07-20T10:31:54.411Z"
   },
   {
    "duration": 16,
    "start_time": "2023-07-20T10:31:54.447Z"
   },
   {
    "duration": 8,
    "start_time": "2023-07-20T10:31:54.465Z"
   },
   {
    "duration": 22,
    "start_time": "2023-07-20T10:31:54.475Z"
   },
   {
    "duration": 10,
    "start_time": "2023-07-20T10:31:54.499Z"
   },
   {
    "duration": 24,
    "start_time": "2023-07-20T10:31:54.511Z"
   },
   {
    "duration": 19,
    "start_time": "2023-07-20T10:31:54.536Z"
   },
   {
    "duration": 45,
    "start_time": "2023-07-20T10:31:54.557Z"
   },
   {
    "duration": 0,
    "start_time": "2023-07-20T10:31:54.604Z"
   },
   {
    "duration": 0,
    "start_time": "2023-07-20T10:31:54.605Z"
   },
   {
    "duration": 11,
    "start_time": "2023-07-20T10:32:33.471Z"
   },
   {
    "duration": 18,
    "start_time": "2023-07-20T10:38:39.046Z"
   },
   {
    "duration": 13,
    "start_time": "2023-07-20T10:39:00.004Z"
   },
   {
    "duration": 5,
    "start_time": "2023-07-20T10:45:22.344Z"
   },
   {
    "duration": 54,
    "start_time": "2023-07-20T10:45:22.351Z"
   },
   {
    "duration": 5,
    "start_time": "2023-07-20T10:45:22.408Z"
   },
   {
    "duration": 19,
    "start_time": "2023-07-20T10:45:22.415Z"
   },
   {
    "duration": 20,
    "start_time": "2023-07-20T10:45:22.436Z"
   },
   {
    "duration": 20,
    "start_time": "2023-07-20T10:45:22.458Z"
   },
   {
    "duration": 7,
    "start_time": "2023-07-20T10:45:22.481Z"
   },
   {
    "duration": 33,
    "start_time": "2023-07-20T10:45:22.490Z"
   },
   {
    "duration": 21,
    "start_time": "2023-07-20T10:45:22.526Z"
   },
   {
    "duration": 43,
    "start_time": "2023-07-20T10:45:22.549Z"
   },
   {
    "duration": 33,
    "start_time": "2023-07-20T10:45:22.594Z"
   },
   {
    "duration": 31,
    "start_time": "2023-07-20T10:45:22.629Z"
   },
   {
    "duration": 19,
    "start_time": "2023-07-20T10:45:22.663Z"
   },
   {
    "duration": 7,
    "start_time": "2023-07-20T10:45:22.684Z"
   },
   {
    "duration": 3,
    "start_time": "2023-07-20T10:45:22.693Z"
   },
   {
    "duration": 316,
    "start_time": "2023-07-20T10:45:25.159Z"
   },
   {
    "duration": 297,
    "start_time": "2023-07-20T10:56:28.270Z"
   },
   {
    "duration": 43,
    "start_time": "2023-07-20T11:01:53.563Z"
   },
   {
    "duration": 3,
    "start_time": "2023-07-20T11:02:06.047Z"
   },
   {
    "duration": 430,
    "start_time": "2023-07-20T11:02:07.854Z"
   },
   {
    "duration": 2883,
    "start_time": "2023-07-20T11:02:21.677Z"
   },
   {
    "duration": 5,
    "start_time": "2023-07-20T11:15:38.951Z"
   },
   {
    "duration": 66,
    "start_time": "2023-07-20T11:15:38.958Z"
   },
   {
    "duration": 5,
    "start_time": "2023-07-20T11:15:39.026Z"
   },
   {
    "duration": 29,
    "start_time": "2023-07-20T11:15:39.032Z"
   },
   {
    "duration": 23,
    "start_time": "2023-07-20T11:15:39.064Z"
   },
   {
    "duration": 32,
    "start_time": "2023-07-20T11:15:39.089Z"
   },
   {
    "duration": 20,
    "start_time": "2023-07-20T11:15:39.123Z"
   },
   {
    "duration": 14,
    "start_time": "2023-07-20T11:15:39.145Z"
   },
   {
    "duration": 13,
    "start_time": "2023-07-20T11:15:39.161Z"
   },
   {
    "duration": 28,
    "start_time": "2023-07-20T11:15:39.176Z"
   },
   {
    "duration": 25,
    "start_time": "2023-07-20T11:15:39.206Z"
   },
   {
    "duration": 20,
    "start_time": "2023-07-20T11:15:39.233Z"
   },
   {
    "duration": 18,
    "start_time": "2023-07-20T11:15:39.255Z"
   },
   {
    "duration": 11,
    "start_time": "2023-07-20T11:15:39.276Z"
   },
   {
    "duration": 14,
    "start_time": "2023-07-20T11:15:39.289Z"
   },
   {
    "duration": 346,
    "start_time": "2023-07-20T11:15:39.306Z"
   },
   {
    "duration": 215,
    "start_time": "2023-07-20T11:15:39.654Z"
   },
   {
    "duration": 3,
    "start_time": "2023-07-20T11:15:39.872Z"
   },
   {
    "duration": 3207,
    "start_time": "2023-07-20T11:15:39.877Z"
   },
   {
    "duration": 4,
    "start_time": "2023-07-20T11:15:43.086Z"
   },
   {
    "duration": 86,
    "start_time": "2023-07-20T11:15:43.093Z"
   },
   {
    "duration": 20,
    "start_time": "2023-07-20T11:16:30.621Z"
   },
   {
    "duration": 20,
    "start_time": "2023-07-20T11:16:57.263Z"
   },
   {
    "duration": 5,
    "start_time": "2023-07-20T11:17:02.186Z"
   },
   {
    "duration": 24,
    "start_time": "2023-07-20T11:17:04.512Z"
   },
   {
    "duration": 6,
    "start_time": "2023-07-20T11:17:28.160Z"
   },
   {
    "duration": 31,
    "start_time": "2023-07-20T11:17:30.123Z"
   },
   {
    "duration": 5,
    "start_time": "2023-07-20T11:17:43.785Z"
   },
   {
    "duration": 10,
    "start_time": "2023-07-20T11:17:45.951Z"
   },
   {
    "duration": 8,
    "start_time": "2023-07-20T11:18:24.715Z"
   },
   {
    "duration": 5,
    "start_time": "2023-07-20T11:18:38.693Z"
   },
   {
    "duration": 57,
    "start_time": "2023-07-20T11:18:38.700Z"
   },
   {
    "duration": 5,
    "start_time": "2023-07-20T11:18:38.759Z"
   },
   {
    "duration": 13,
    "start_time": "2023-07-20T11:18:38.766Z"
   },
   {
    "duration": 21,
    "start_time": "2023-07-20T11:18:38.781Z"
   },
   {
    "duration": 35,
    "start_time": "2023-07-20T11:18:38.804Z"
   },
   {
    "duration": 13,
    "start_time": "2023-07-20T11:18:38.841Z"
   },
   {
    "duration": 15,
    "start_time": "2023-07-20T11:18:38.856Z"
   },
   {
    "duration": 10,
    "start_time": "2023-07-20T11:18:38.875Z"
   },
   {
    "duration": 12,
    "start_time": "2023-07-20T11:18:38.887Z"
   },
   {
    "duration": 18,
    "start_time": "2023-07-20T11:18:38.900Z"
   },
   {
    "duration": 41,
    "start_time": "2023-07-20T11:18:38.920Z"
   },
   {
    "duration": 12,
    "start_time": "2023-07-20T11:18:38.966Z"
   },
   {
    "duration": 7,
    "start_time": "2023-07-20T11:18:38.980Z"
   },
   {
    "duration": 4,
    "start_time": "2023-07-20T11:18:38.989Z"
   },
   {
    "duration": 349,
    "start_time": "2023-07-20T11:18:38.995Z"
   },
   {
    "duration": 235,
    "start_time": "2023-07-20T11:18:39.345Z"
   },
   {
    "duration": 3,
    "start_time": "2023-07-20T11:18:39.667Z"
   },
   {
    "duration": 2974,
    "start_time": "2023-07-20T11:18:39.672Z"
   },
   {
    "duration": 5,
    "start_time": "2023-07-20T11:18:42.652Z"
   },
   {
    "duration": 17,
    "start_time": "2023-07-20T11:18:42.666Z"
   },
   {
    "duration": 4,
    "start_time": "2023-07-20T11:18:46.094Z"
   },
   {
    "duration": 9,
    "start_time": "2023-07-20T11:20:13.768Z"
   },
   {
    "duration": 4,
    "start_time": "2023-07-20T11:20:17.071Z"
   },
   {
    "duration": 5,
    "start_time": "2023-07-20T11:20:38.852Z"
   },
   {
    "duration": 60,
    "start_time": "2023-07-20T11:20:38.860Z"
   },
   {
    "duration": 5,
    "start_time": "2023-07-20T11:20:38.921Z"
   },
   {
    "duration": 25,
    "start_time": "2023-07-20T11:20:38.928Z"
   },
   {
    "duration": 43,
    "start_time": "2023-07-20T11:20:38.955Z"
   },
   {
    "duration": 32,
    "start_time": "2023-07-20T11:20:39.000Z"
   },
   {
    "duration": 17,
    "start_time": "2023-07-20T11:20:39.034Z"
   },
   {
    "duration": 11,
    "start_time": "2023-07-20T11:20:39.053Z"
   },
   {
    "duration": 20,
    "start_time": "2023-07-20T11:20:39.066Z"
   },
   {
    "duration": 34,
    "start_time": "2023-07-20T11:20:39.089Z"
   },
   {
    "duration": 21,
    "start_time": "2023-07-20T11:20:39.125Z"
   },
   {
    "duration": 26,
    "start_time": "2023-07-20T11:20:39.147Z"
   },
   {
    "duration": 13,
    "start_time": "2023-07-20T11:20:39.175Z"
   },
   {
    "duration": 20,
    "start_time": "2023-07-20T11:20:39.191Z"
   },
   {
    "duration": 31,
    "start_time": "2023-07-20T11:20:39.213Z"
   },
   {
    "duration": 338,
    "start_time": "2023-07-20T11:20:39.246Z"
   },
   {
    "duration": 282,
    "start_time": "2023-07-20T11:20:39.586Z"
   },
   {
    "duration": 4,
    "start_time": "2023-07-20T11:20:39.870Z"
   },
   {
    "duration": 2845,
    "start_time": "2023-07-20T11:20:39.876Z"
   },
   {
    "duration": 4,
    "start_time": "2023-07-20T11:20:42.724Z"
   },
   {
    "duration": 145,
    "start_time": "2023-07-20T11:20:42.729Z"
   },
   {
    "duration": 4,
    "start_time": "2023-07-20T11:20:44.818Z"
   },
   {
    "duration": 10,
    "start_time": "2023-07-20T11:20:55.747Z"
   },
   {
    "duration": 5,
    "start_time": "2023-07-20T11:20:58.746Z"
   },
   {
    "duration": 14,
    "start_time": "2023-07-20T11:21:09.273Z"
   },
   {
    "duration": 10,
    "start_time": "2023-07-20T11:21:15.175Z"
   },
   {
    "duration": 3,
    "start_time": "2023-07-20T11:21:18.716Z"
   },
   {
    "duration": 3,
    "start_time": "2023-07-20T11:24:17.958Z"
   },
   {
    "duration": 1667,
    "start_time": "2023-07-20T11:24:20.359Z"
   },
   {
    "duration": 11,
    "start_time": "2023-07-20T11:24:47.955Z"
   },
   {
    "duration": 1857,
    "start_time": "2023-07-20T11:24:51.013Z"
   },
   {
    "duration": 1753,
    "start_time": "2023-07-20T11:24:59.551Z"
   },
   {
    "duration": 1798,
    "start_time": "2023-07-20T11:25:32.087Z"
   },
   {
    "duration": 5,
    "start_time": "2023-07-20T11:25:48.780Z"
   },
   {
    "duration": 66,
    "start_time": "2023-07-20T11:25:48.788Z"
   },
   {
    "duration": 9,
    "start_time": "2023-07-20T11:25:48.857Z"
   },
   {
    "duration": 43,
    "start_time": "2023-07-20T11:25:48.869Z"
   },
   {
    "duration": 32,
    "start_time": "2023-07-20T11:25:48.915Z"
   },
   {
    "duration": 26,
    "start_time": "2023-07-20T11:25:48.949Z"
   },
   {
    "duration": 8,
    "start_time": "2023-07-20T11:25:48.977Z"
   },
   {
    "duration": 16,
    "start_time": "2023-07-20T11:25:48.987Z"
   },
   {
    "duration": 23,
    "start_time": "2023-07-20T11:25:49.006Z"
   },
   {
    "duration": 37,
    "start_time": "2023-07-20T11:25:49.031Z"
   },
   {
    "duration": 38,
    "start_time": "2023-07-20T11:25:49.071Z"
   },
   {
    "duration": 23,
    "start_time": "2023-07-20T11:25:49.111Z"
   },
   {
    "duration": 25,
    "start_time": "2023-07-20T11:25:49.135Z"
   },
   {
    "duration": 13,
    "start_time": "2023-07-20T11:25:49.162Z"
   },
   {
    "duration": 17,
    "start_time": "2023-07-20T11:25:49.177Z"
   },
   {
    "duration": 377,
    "start_time": "2023-07-20T11:25:49.197Z"
   },
   {
    "duration": 1392,
    "start_time": "2023-07-20T11:25:49.575Z"
   },
   {
    "duration": 4,
    "start_time": "2023-07-20T11:25:50.970Z"
   },
   {
    "duration": 2896,
    "start_time": "2023-07-20T11:25:50.976Z"
   },
   {
    "duration": 5,
    "start_time": "2023-07-20T11:25:53.874Z"
   },
   {
    "duration": 31,
    "start_time": "2023-07-20T11:25:53.881Z"
   },
   {
    "duration": 5,
    "start_time": "2023-07-20T11:25:53.915Z"
   },
   {
    "duration": 33,
    "start_time": "2023-07-20T11:25:53.922Z"
   },
   {
    "duration": 2019,
    "start_time": "2023-07-20T11:25:57.574Z"
   },
   {
    "duration": 334,
    "start_time": "2023-07-20T11:26:08.447Z"
   },
   {
    "duration": 175,
    "start_time": "2023-07-20T11:26:16.972Z"
   },
   {
    "duration": 72,
    "start_time": "2023-07-20T11:26:20.897Z"
   },
   {
    "duration": 117,
    "start_time": "2023-07-20T11:26:24.365Z"
   },
   {
    "duration": 128,
    "start_time": "2023-07-20T11:26:45.593Z"
   },
   {
    "duration": 267,
    "start_time": "2023-07-20T11:26:52.247Z"
   },
   {
    "duration": 570,
    "start_time": "2023-07-20T11:26:58.601Z"
   },
   {
    "duration": 1120,
    "start_time": "2023-07-20T11:27:06.423Z"
   },
   {
    "duration": 6,
    "start_time": "2023-07-20T11:29:26.284Z"
   },
   {
    "duration": 11,
    "start_time": "2023-07-20T11:29:31.152Z"
   },
   {
    "duration": 4,
    "start_time": "2023-07-20T11:29:35.851Z"
   },
   {
    "duration": 3,
    "start_time": "2023-07-20T11:29:39.348Z"
   },
   {
    "duration": 2050,
    "start_time": "2023-07-20T11:29:41.154Z"
   },
   {
    "duration": 1589,
    "start_time": "2023-07-20T11:29:56.572Z"
   },
   {
    "duration": 6,
    "start_time": "2023-07-20T11:34:54.917Z"
   },
   {
    "duration": 76,
    "start_time": "2023-07-20T11:34:54.925Z"
   },
   {
    "duration": 5,
    "start_time": "2023-07-20T11:34:55.004Z"
   },
   {
    "duration": 46,
    "start_time": "2023-07-20T11:34:55.010Z"
   },
   {
    "duration": 39,
    "start_time": "2023-07-20T11:34:55.060Z"
   },
   {
    "duration": 37,
    "start_time": "2023-07-20T11:34:55.101Z"
   },
   {
    "duration": 27,
    "start_time": "2023-07-20T11:34:55.141Z"
   },
   {
    "duration": 33,
    "start_time": "2023-07-20T11:34:55.170Z"
   },
   {
    "duration": 28,
    "start_time": "2023-07-20T11:34:55.205Z"
   },
   {
    "duration": 30,
    "start_time": "2023-07-20T11:34:55.235Z"
   },
   {
    "duration": 33,
    "start_time": "2023-07-20T11:34:55.268Z"
   },
   {
    "duration": 63,
    "start_time": "2023-07-20T11:34:55.303Z"
   },
   {
    "duration": 63,
    "start_time": "2023-07-20T11:34:55.368Z"
   },
   {
    "duration": 62,
    "start_time": "2023-07-20T11:34:55.434Z"
   },
   {
    "duration": 49,
    "start_time": "2023-07-20T11:34:55.498Z"
   },
   {
    "duration": 370,
    "start_time": "2023-07-20T11:34:55.549Z"
   },
   {
    "duration": 347,
    "start_time": "2023-07-20T11:34:55.921Z"
   },
   {
    "duration": 4,
    "start_time": "2023-07-20T11:34:56.270Z"
   },
   {
    "duration": 2982,
    "start_time": "2023-07-20T11:34:56.276Z"
   },
   {
    "duration": 7,
    "start_time": "2023-07-20T11:34:59.260Z"
   },
   {
    "duration": 27,
    "start_time": "2023-07-20T11:34:59.269Z"
   },
   {
    "duration": 40,
    "start_time": "2023-07-20T11:34:59.299Z"
   },
   {
    "duration": 5,
    "start_time": "2023-07-20T11:34:59.341Z"
   },
   {
    "duration": 1922,
    "start_time": "2023-07-20T11:35:01.362Z"
   },
   {
    "duration": 10,
    "start_time": "2023-07-20T11:35:30.420Z"
   },
   {
    "duration": 2019,
    "start_time": "2023-07-20T11:35:33.248Z"
   },
   {
    "duration": 1137,
    "start_time": "2023-07-20T18:03:31.317Z"
   },
   {
    "duration": 181,
    "start_time": "2023-07-20T18:03:32.456Z"
   },
   {
    "duration": 5,
    "start_time": "2023-07-20T18:03:32.639Z"
   },
   {
    "duration": 10,
    "start_time": "2023-07-20T18:03:32.646Z"
   },
   {
    "duration": 19,
    "start_time": "2023-07-20T18:03:32.657Z"
   },
   {
    "duration": 16,
    "start_time": "2023-07-20T18:03:32.677Z"
   },
   {
    "duration": 11,
    "start_time": "2023-07-20T18:03:32.695Z"
   },
   {
    "duration": 23,
    "start_time": "2023-07-20T18:03:32.708Z"
   },
   {
    "duration": 5,
    "start_time": "2023-07-20T18:03:32.732Z"
   },
   {
    "duration": 21,
    "start_time": "2023-07-20T18:03:32.739Z"
   },
   {
    "duration": 13,
    "start_time": "2023-07-20T18:03:32.761Z"
   },
   {
    "duration": 17,
    "start_time": "2023-07-20T18:03:32.775Z"
   },
   {
    "duration": 19,
    "start_time": "2023-07-20T18:03:32.794Z"
   },
   {
    "duration": 17,
    "start_time": "2023-07-20T18:03:32.814Z"
   },
   {
    "duration": 67,
    "start_time": "2023-07-20T18:03:32.832Z"
   },
   {
    "duration": 332,
    "start_time": "2023-07-20T18:03:32.901Z"
   },
   {
    "duration": 474,
    "start_time": "2023-07-20T18:03:33.235Z"
   },
   {
    "duration": 3,
    "start_time": "2023-07-20T18:17:05.205Z"
   },
   {
    "duration": 113,
    "start_time": "2023-07-20T18:17:05.210Z"
   },
   {
    "duration": 4,
    "start_time": "2023-07-20T18:17:05.325Z"
   },
   {
    "duration": 36,
    "start_time": "2023-07-20T18:17:05.330Z"
   },
   {
    "duration": 37,
    "start_time": "2023-07-20T18:17:05.368Z"
   },
   {
    "duration": 32,
    "start_time": "2023-07-20T18:17:05.406Z"
   },
   {
    "duration": 14,
    "start_time": "2023-07-20T18:17:05.439Z"
   },
   {
    "duration": 19,
    "start_time": "2023-07-20T18:17:05.454Z"
   },
   {
    "duration": 13,
    "start_time": "2023-07-20T18:17:05.474Z"
   },
   {
    "duration": 21,
    "start_time": "2023-07-20T18:17:05.489Z"
   },
   {
    "duration": 20,
    "start_time": "2023-07-20T18:17:05.512Z"
   },
   {
    "duration": 22,
    "start_time": "2023-07-20T18:17:05.533Z"
   },
   {
    "duration": 18,
    "start_time": "2023-07-20T18:17:05.556Z"
   },
   {
    "duration": 22,
    "start_time": "2023-07-20T18:17:05.576Z"
   },
   {
    "duration": 11,
    "start_time": "2023-07-20T18:17:05.599Z"
   },
   {
    "duration": 269,
    "start_time": "2023-07-20T18:17:05.612Z"
   },
   {
    "duration": 225,
    "start_time": "2023-07-20T18:17:05.882Z"
   },
   {
    "duration": 3,
    "start_time": "2023-07-20T18:17:06.110Z"
   },
   {
    "duration": 2222,
    "start_time": "2023-07-20T18:17:06.115Z"
   },
   {
    "duration": 4,
    "start_time": "2023-07-20T18:17:08.338Z"
   },
   {
    "duration": 15,
    "start_time": "2023-07-20T18:17:08.343Z"
   },
   {
    "duration": 141,
    "start_time": "2023-07-20T18:17:22.110Z"
   },
   {
    "duration": 14,
    "start_time": "2023-07-20T18:17:52.222Z"
   },
   {
    "duration": 1020,
    "start_time": "2023-07-20T18:18:01.904Z"
   },
   {
    "duration": 1339,
    "start_time": "2023-07-20T18:18:17.690Z"
   },
   {
    "duration": 1914,
    "start_time": "2023-07-20T18:18:23.952Z"
   },
   {
    "duration": 1787,
    "start_time": "2023-07-20T18:18:56.947Z"
   },
   {
    "duration": 3757,
    "start_time": "2023-07-20T18:19:16.616Z"
   },
   {
    "duration": 5,
    "start_time": "2023-07-20T18:20:48.349Z"
   },
   {
    "duration": 49,
    "start_time": "2023-07-20T18:20:48.356Z"
   },
   {
    "duration": 4,
    "start_time": "2023-07-20T18:20:48.406Z"
   },
   {
    "duration": 10,
    "start_time": "2023-07-20T18:20:48.411Z"
   },
   {
    "duration": 12,
    "start_time": "2023-07-20T18:20:48.423Z"
   },
   {
    "duration": 37,
    "start_time": "2023-07-20T18:20:48.436Z"
   },
   {
    "duration": 3,
    "start_time": "2023-07-20T18:20:48.475Z"
   },
   {
    "duration": 6,
    "start_time": "2023-07-20T18:20:48.479Z"
   },
   {
    "duration": 14,
    "start_time": "2023-07-20T18:20:48.486Z"
   },
   {
    "duration": 14,
    "start_time": "2023-07-20T18:20:48.502Z"
   },
   {
    "duration": 13,
    "start_time": "2023-07-20T18:20:48.517Z"
   },
   {
    "duration": 15,
    "start_time": "2023-07-20T18:20:48.532Z"
   },
   {
    "duration": 9,
    "start_time": "2023-07-20T18:20:48.548Z"
   },
   {
    "duration": 5,
    "start_time": "2023-07-20T18:20:48.560Z"
   },
   {
    "duration": 2,
    "start_time": "2023-07-20T18:20:48.567Z"
   },
   {
    "duration": 267,
    "start_time": "2023-07-20T18:20:48.570Z"
   },
   {
    "duration": 175,
    "start_time": "2023-07-20T18:20:48.838Z"
   },
   {
    "duration": 98,
    "start_time": "2023-07-20T18:20:49.015Z"
   },
   {
    "duration": 2163,
    "start_time": "2023-07-20T18:20:49.115Z"
   },
   {
    "duration": 3,
    "start_time": "2023-07-20T18:20:51.279Z"
   },
   {
    "duration": 3636,
    "start_time": "2023-07-20T18:20:56.719Z"
   },
   {
    "duration": 6,
    "start_time": "2023-07-20T18:25:33.832Z"
   },
   {
    "duration": 109,
    "start_time": "2023-07-20T18:26:44.248Z"
   },
   {
    "duration": 3,
    "start_time": "2023-07-20T18:26:55.483Z"
   },
   {
    "duration": 2,
    "start_time": "2023-07-20T18:26:57.237Z"
   },
   {
    "duration": 2550,
    "start_time": "2023-07-20T18:26:58.695Z"
   },
   {
    "duration": 5,
    "start_time": "2023-07-20T18:36:30.976Z"
   },
   {
    "duration": 180,
    "start_time": "2023-07-20T18:50:19.703Z"
   },
   {
    "duration": 178,
    "start_time": "2023-07-20T18:50:31.432Z"
   },
   {
    "duration": 327,
    "start_time": "2023-07-20T18:50:36.167Z"
   },
   {
    "duration": 226,
    "start_time": "2023-07-20T18:50:40.198Z"
   },
   {
    "duration": 270,
    "start_time": "2023-07-20T18:50:43.677Z"
   },
   {
    "duration": 191,
    "start_time": "2023-07-20T18:50:50.887Z"
   },
   {
    "duration": 221,
    "start_time": "2023-07-20T18:50:54.872Z"
   },
   {
    "duration": 231,
    "start_time": "2023-07-20T18:51:03.918Z"
   },
   {
    "duration": 211,
    "start_time": "2023-07-20T18:51:07.445Z"
   },
   {
    "duration": 4,
    "start_time": "2023-07-20T18:54:21.692Z"
   },
   {
    "duration": 71,
    "start_time": "2023-07-20T18:54:21.698Z"
   },
   {
    "duration": 5,
    "start_time": "2023-07-20T18:54:21.770Z"
   },
   {
    "duration": 15,
    "start_time": "2023-07-20T18:54:21.776Z"
   },
   {
    "duration": 33,
    "start_time": "2023-07-20T18:54:21.793Z"
   },
   {
    "duration": 16,
    "start_time": "2023-07-20T18:54:21.827Z"
   },
   {
    "duration": 3,
    "start_time": "2023-07-20T18:54:21.846Z"
   },
   {
    "duration": 4,
    "start_time": "2023-07-20T18:54:21.851Z"
   },
   {
    "duration": 20,
    "start_time": "2023-07-20T18:54:21.857Z"
   },
   {
    "duration": 34,
    "start_time": "2023-07-20T18:54:21.880Z"
   },
   {
    "duration": 21,
    "start_time": "2023-07-20T18:54:21.917Z"
   },
   {
    "duration": 22,
    "start_time": "2023-07-20T18:54:21.941Z"
   },
   {
    "duration": 15,
    "start_time": "2023-07-20T18:54:21.965Z"
   },
   {
    "duration": 25,
    "start_time": "2023-07-20T18:54:21.982Z"
   },
   {
    "duration": 3,
    "start_time": "2023-07-20T18:54:22.009Z"
   },
   {
    "duration": 317,
    "start_time": "2023-07-20T18:54:22.014Z"
   },
   {
    "duration": 189,
    "start_time": "2023-07-20T18:54:22.333Z"
   },
   {
    "duration": 84,
    "start_time": "2023-07-20T18:54:22.525Z"
   },
   {
    "duration": 2463,
    "start_time": "2023-07-20T18:54:22.612Z"
   },
   {
    "duration": 4,
    "start_time": "2023-07-20T18:54:25.077Z"
   },
   {
    "duration": 10,
    "start_time": "2023-07-20T18:54:25.082Z"
   },
   {
    "duration": 3233,
    "start_time": "2023-07-20T18:54:25.093Z"
   },
   {
    "duration": 6,
    "start_time": "2023-07-20T18:54:28.328Z"
   },
   {
    "duration": 5,
    "start_time": "2023-07-20T18:54:28.335Z"
   },
   {
    "duration": 4,
    "start_time": "2023-07-20T18:54:28.341Z"
   },
   {
    "duration": 2713,
    "start_time": "2023-07-20T18:54:28.347Z"
   },
   {
    "duration": 264,
    "start_time": "2023-07-20T18:54:31.061Z"
   },
   {
    "duration": 54,
    "start_time": "2023-07-20T18:54:38.386Z"
   },
   {
    "duration": 2119,
    "start_time": "2023-07-20T19:48:17.535Z"
   },
   {
    "duration": 87,
    "start_time": "2023-07-20T19:48:19.656Z"
   },
   {
    "duration": 4,
    "start_time": "2023-07-20T19:48:19.745Z"
   },
   {
    "duration": 39,
    "start_time": "2023-07-20T19:48:19.750Z"
   },
   {
    "duration": 43,
    "start_time": "2023-07-20T19:48:19.791Z"
   },
   {
    "duration": 14,
    "start_time": "2023-07-20T19:48:19.836Z"
   },
   {
    "duration": 36,
    "start_time": "2023-07-20T19:48:19.851Z"
   },
   {
    "duration": 39,
    "start_time": "2023-07-20T19:48:19.888Z"
   },
   {
    "duration": 32,
    "start_time": "2023-07-20T19:48:19.929Z"
   },
   {
    "duration": 25,
    "start_time": "2023-07-20T19:48:19.963Z"
   },
   {
    "duration": 40,
    "start_time": "2023-07-20T19:48:19.989Z"
   },
   {
    "duration": 53,
    "start_time": "2023-07-20T19:48:20.031Z"
   },
   {
    "duration": 40,
    "start_time": "2023-07-20T19:48:20.085Z"
   },
   {
    "duration": 61,
    "start_time": "2023-07-20T19:48:20.127Z"
   },
   {
    "duration": 45,
    "start_time": "2023-07-20T19:48:20.190Z"
   },
   {
    "duration": 318,
    "start_time": "2023-07-20T19:48:20.237Z"
   },
   {
    "duration": 365,
    "start_time": "2023-07-20T19:48:20.557Z"
   },
   {
    "duration": 6,
    "start_time": "2023-07-20T19:48:20.925Z"
   },
   {
    "duration": 2612,
    "start_time": "2023-07-20T19:48:20.933Z"
   },
   {
    "duration": 4,
    "start_time": "2023-07-20T19:48:23.547Z"
   },
   {
    "duration": 66,
    "start_time": "2023-07-20T19:48:23.552Z"
   },
   {
    "duration": 3759,
    "start_time": "2023-07-20T19:48:23.620Z"
   },
   {
    "duration": 6,
    "start_time": "2023-07-20T19:48:27.381Z"
   },
   {
    "duration": 34,
    "start_time": "2023-07-20T19:48:27.388Z"
   },
   {
    "duration": 20,
    "start_time": "2023-07-20T19:48:27.424Z"
   },
   {
    "duration": 2656,
    "start_time": "2023-07-20T19:48:27.446Z"
   },
   {
    "duration": 243,
    "start_time": "2023-07-20T19:48:30.104Z"
   },
   {
    "duration": 50,
    "start_time": "2023-07-20T19:48:30.349Z"
   },
   {
    "duration": 4,
    "start_time": "2023-07-20T19:57:29.276Z"
   },
   {
    "duration": 1355,
    "start_time": "2023-07-21T13:12:37.059Z"
   },
   {
    "duration": 431,
    "start_time": "2023-07-21T13:12:38.416Z"
   },
   {
    "duration": 5,
    "start_time": "2023-07-21T13:12:38.849Z"
   },
   {
    "duration": 30,
    "start_time": "2023-07-21T13:12:38.856Z"
   },
   {
    "duration": 23,
    "start_time": "2023-07-21T13:12:38.898Z"
   },
   {
    "duration": 21,
    "start_time": "2023-07-21T13:12:38.923Z"
   },
   {
    "duration": 5,
    "start_time": "2023-07-21T13:12:38.946Z"
   },
   {
    "duration": 4,
    "start_time": "2023-07-21T13:12:38.953Z"
   },
   {
    "duration": 5,
    "start_time": "2023-07-21T13:12:38.958Z"
   },
   {
    "duration": 13,
    "start_time": "2023-07-21T13:12:38.965Z"
   },
   {
    "duration": 21,
    "start_time": "2023-07-21T13:12:38.980Z"
   },
   {
    "duration": 20,
    "start_time": "2023-07-21T13:12:39.004Z"
   },
   {
    "duration": 11,
    "start_time": "2023-07-21T13:12:39.026Z"
   },
   {
    "duration": 109,
    "start_time": "2023-07-21T13:12:43.722Z"
   },
   {
    "duration": 243,
    "start_time": "2023-07-21T13:13:00.560Z"
   },
   {
    "duration": 17,
    "start_time": "2023-07-21T13:14:28.295Z"
   },
   {
    "duration": 4,
    "start_time": "2023-07-21T13:15:40.148Z"
   },
   {
    "duration": 69,
    "start_time": "2023-07-21T13:15:40.167Z"
   },
   {
    "duration": 5,
    "start_time": "2023-07-21T13:15:40.238Z"
   },
   {
    "duration": 40,
    "start_time": "2023-07-21T13:15:40.245Z"
   },
   {
    "duration": 23,
    "start_time": "2023-07-21T13:15:40.287Z"
   },
   {
    "duration": 19,
    "start_time": "2023-07-21T13:15:40.312Z"
   },
   {
    "duration": 26,
    "start_time": "2023-07-21T13:15:40.333Z"
   },
   {
    "duration": 32,
    "start_time": "2023-07-21T13:15:40.361Z"
   },
   {
    "duration": 28,
    "start_time": "2023-07-21T13:15:40.396Z"
   },
   {
    "duration": 38,
    "start_time": "2023-07-21T13:15:40.425Z"
   },
   {
    "duration": 37,
    "start_time": "2023-07-21T13:15:40.466Z"
   },
   {
    "duration": 29,
    "start_time": "2023-07-21T13:15:40.505Z"
   },
   {
    "duration": 13,
    "start_time": "2023-07-21T13:15:40.536Z"
   },
   {
    "duration": 774,
    "start_time": "2023-07-21T13:15:44.603Z"
   },
   {
    "duration": 702,
    "start_time": "2023-07-21T13:15:52.812Z"
   },
   {
    "duration": 14,
    "start_time": "2023-07-21T13:16:32.797Z"
   },
   {
    "duration": 4,
    "start_time": "2023-07-21T13:16:56.828Z"
   },
   {
    "duration": 13,
    "start_time": "2023-07-21T13:17:01.742Z"
   },
   {
    "duration": 679,
    "start_time": "2023-07-21T13:17:52.856Z"
   },
   {
    "duration": 126,
    "start_time": "2023-07-21T14:07:02.571Z"
   },
   {
    "duration": 17,
    "start_time": "2023-07-21T14:12:37.715Z"
   },
   {
    "duration": 14,
    "start_time": "2023-07-21T14:12:45.890Z"
   },
   {
    "duration": 28,
    "start_time": "2023-07-21T14:13:37.697Z"
   },
   {
    "duration": 16,
    "start_time": "2023-07-21T14:13:44.212Z"
   },
   {
    "duration": 4,
    "start_time": "2023-07-21T14:18:13.609Z"
   },
   {
    "duration": 51,
    "start_time": "2023-07-21T14:18:13.615Z"
   },
   {
    "duration": 9,
    "start_time": "2023-07-21T14:18:13.668Z"
   },
   {
    "duration": 12,
    "start_time": "2023-07-21T14:18:13.680Z"
   },
   {
    "duration": 15,
    "start_time": "2023-07-21T14:18:13.693Z"
   },
   {
    "duration": 18,
    "start_time": "2023-07-21T14:18:13.709Z"
   },
   {
    "duration": 4,
    "start_time": "2023-07-21T14:18:13.729Z"
   },
   {
    "duration": 6,
    "start_time": "2023-07-21T14:18:13.734Z"
   },
   {
    "duration": 4,
    "start_time": "2023-07-21T14:18:13.769Z"
   },
   {
    "duration": 5,
    "start_time": "2023-07-21T14:18:13.778Z"
   },
   {
    "duration": 12,
    "start_time": "2023-07-21T14:18:13.785Z"
   },
   {
    "duration": 27,
    "start_time": "2023-07-21T14:18:13.799Z"
   },
   {
    "duration": 12,
    "start_time": "2023-07-21T14:18:13.828Z"
   },
   {
    "duration": 18,
    "start_time": "2023-07-21T14:18:17.789Z"
   },
   {
    "duration": 8,
    "start_time": "2023-07-21T14:18:22.487Z"
   },
   {
    "duration": 5,
    "start_time": "2023-07-21T14:18:52.557Z"
   },
   {
    "duration": 17,
    "start_time": "2023-07-21T14:23:22.362Z"
   },
   {
    "duration": 26,
    "start_time": "2023-07-21T14:23:59.226Z"
   },
   {
    "duration": 15,
    "start_time": "2023-07-21T14:24:11.188Z"
   },
   {
    "duration": 26,
    "start_time": "2023-07-21T14:24:17.065Z"
   },
   {
    "duration": 8,
    "start_time": "2023-07-21T14:24:46.090Z"
   },
   {
    "duration": 14,
    "start_time": "2023-07-21T14:34:12.420Z"
   },
   {
    "duration": 15,
    "start_time": "2023-07-21T14:34:33.917Z"
   },
   {
    "duration": 18,
    "start_time": "2023-07-21T14:44:15.502Z"
   },
   {
    "duration": 13,
    "start_time": "2023-07-21T14:45:57.190Z"
   },
   {
    "duration": 10,
    "start_time": "2023-07-21T14:46:05.718Z"
   },
   {
    "duration": 12,
    "start_time": "2023-07-21T15:14:19.125Z"
   },
   {
    "duration": 34,
    "start_time": "2023-07-21T15:14:50.764Z"
   },
   {
    "duration": 14,
    "start_time": "2023-07-21T15:14:56.416Z"
   },
   {
    "duration": 13,
    "start_time": "2023-07-21T15:15:05.999Z"
   },
   {
    "duration": 18,
    "start_time": "2023-07-21T15:15:11.322Z"
   },
   {
    "duration": 17,
    "start_time": "2023-07-21T15:15:16.595Z"
   },
   {
    "duration": 13,
    "start_time": "2023-07-21T15:20:04.642Z"
   },
   {
    "duration": 17,
    "start_time": "2023-07-21T15:20:21.735Z"
   },
   {
    "duration": 13,
    "start_time": "2023-07-21T15:21:49.143Z"
   },
   {
    "duration": 24,
    "start_time": "2023-07-21T15:22:29.095Z"
   },
   {
    "duration": 39,
    "start_time": "2023-07-21T15:22:44.293Z"
   },
   {
    "duration": 15,
    "start_time": "2023-07-21T15:25:47.285Z"
   },
   {
    "duration": 11,
    "start_time": "2023-07-21T15:25:50.808Z"
   },
   {
    "duration": 10,
    "start_time": "2023-07-21T15:25:57.695Z"
   },
   {
    "duration": 12,
    "start_time": "2023-07-21T15:29:23.156Z"
   },
   {
    "duration": 16,
    "start_time": "2023-07-21T15:32:37.093Z"
   },
   {
    "duration": 7,
    "start_time": "2023-07-21T15:32:57.718Z"
   },
   {
    "duration": 11,
    "start_time": "2023-07-21T15:33:02.505Z"
   },
   {
    "duration": 24,
    "start_time": "2023-07-21T15:35:39.564Z"
   },
   {
    "duration": 5,
    "start_time": "2023-07-21T15:35:58.099Z"
   },
   {
    "duration": 79,
    "start_time": "2023-07-21T15:35:58.106Z"
   },
   {
    "duration": 10,
    "start_time": "2023-07-21T15:35:58.193Z"
   },
   {
    "duration": 12,
    "start_time": "2023-07-21T15:35:58.205Z"
   },
   {
    "duration": 19,
    "start_time": "2023-07-21T15:35:58.219Z"
   },
   {
    "duration": 18,
    "start_time": "2023-07-21T15:35:58.240Z"
   },
   {
    "duration": 3,
    "start_time": "2023-07-21T15:35:58.261Z"
   },
   {
    "duration": 12,
    "start_time": "2023-07-21T15:35:58.265Z"
   },
   {
    "duration": 7,
    "start_time": "2023-07-21T15:35:58.285Z"
   },
   {
    "duration": 12,
    "start_time": "2023-07-21T15:35:58.294Z"
   },
   {
    "duration": 6,
    "start_time": "2023-07-21T15:35:58.312Z"
   },
   {
    "duration": 14,
    "start_time": "2023-07-21T15:35:58.320Z"
   },
   {
    "duration": 10,
    "start_time": "2023-07-21T15:35:58.336Z"
   },
   {
    "duration": 17,
    "start_time": "2023-07-21T15:36:00.850Z"
   },
   {
    "duration": 12,
    "start_time": "2023-07-21T15:41:29.526Z"
   },
   {
    "duration": 1201,
    "start_time": "2023-07-21T15:41:52.561Z"
   },
   {
    "duration": 74,
    "start_time": "2023-07-21T15:41:53.764Z"
   },
   {
    "duration": 4,
    "start_time": "2023-07-21T15:41:53.840Z"
   },
   {
    "duration": 30,
    "start_time": "2023-07-21T15:41:53.846Z"
   },
   {
    "duration": 48,
    "start_time": "2023-07-21T15:41:53.881Z"
   },
   {
    "duration": 19,
    "start_time": "2023-07-21T15:41:53.931Z"
   },
   {
    "duration": 21,
    "start_time": "2023-07-21T15:41:53.953Z"
   },
   {
    "duration": 15,
    "start_time": "2023-07-21T15:41:53.982Z"
   },
   {
    "duration": 8,
    "start_time": "2023-07-21T15:41:53.999Z"
   },
   {
    "duration": 15,
    "start_time": "2023-07-21T15:41:54.009Z"
   },
   {
    "duration": 4,
    "start_time": "2023-07-21T15:41:54.027Z"
   },
   {
    "duration": 26,
    "start_time": "2023-07-21T15:41:54.033Z"
   },
   {
    "duration": 27,
    "start_time": "2023-07-21T15:41:54.061Z"
   },
   {
    "duration": 18,
    "start_time": "2023-07-21T15:41:54.098Z"
   },
   {
    "duration": 26,
    "start_time": "2023-07-21T15:41:54.119Z"
   },
   {
    "duration": 11,
    "start_time": "2023-07-21T15:41:54.146Z"
   },
   {
    "duration": 22,
    "start_time": "2023-07-21T15:41:54.158Z"
   },
   {
    "duration": 152,
    "start_time": "2023-07-21T15:41:54.182Z"
   },
   {
    "duration": 0,
    "start_time": "2023-07-21T15:41:54.337Z"
   },
   {
    "duration": 0,
    "start_time": "2023-07-21T15:41:54.338Z"
   },
   {
    "duration": 0,
    "start_time": "2023-07-21T15:41:54.340Z"
   },
   {
    "duration": 0,
    "start_time": "2023-07-21T15:41:54.341Z"
   },
   {
    "duration": 0,
    "start_time": "2023-07-21T15:41:54.343Z"
   },
   {
    "duration": 0,
    "start_time": "2023-07-21T15:41:54.344Z"
   },
   {
    "duration": 0,
    "start_time": "2023-07-21T15:41:54.345Z"
   },
   {
    "duration": 0,
    "start_time": "2023-07-21T15:41:54.346Z"
   },
   {
    "duration": 0,
    "start_time": "2023-07-21T15:41:54.347Z"
   },
   {
    "duration": 0,
    "start_time": "2023-07-21T15:41:54.348Z"
   },
   {
    "duration": 0,
    "start_time": "2023-07-21T15:41:54.349Z"
   },
   {
    "duration": 0,
    "start_time": "2023-07-21T15:41:54.368Z"
   },
   {
    "duration": 27,
    "start_time": "2023-07-21T15:44:05.356Z"
   },
   {
    "duration": 4,
    "start_time": "2023-07-21T15:44:13.403Z"
   },
   {
    "duration": 87,
    "start_time": "2023-07-21T15:44:13.414Z"
   },
   {
    "duration": 6,
    "start_time": "2023-07-21T15:44:13.503Z"
   },
   {
    "duration": 23,
    "start_time": "2023-07-21T15:44:13.511Z"
   },
   {
    "duration": 32,
    "start_time": "2023-07-21T15:44:13.537Z"
   },
   {
    "duration": 30,
    "start_time": "2023-07-21T15:44:13.574Z"
   },
   {
    "duration": 18,
    "start_time": "2023-07-21T15:44:13.607Z"
   },
   {
    "duration": 24,
    "start_time": "2023-07-21T15:44:13.627Z"
   },
   {
    "duration": 25,
    "start_time": "2023-07-21T15:44:13.652Z"
   },
   {
    "duration": 29,
    "start_time": "2023-07-21T15:44:13.678Z"
   },
   {
    "duration": 16,
    "start_time": "2023-07-21T15:44:13.710Z"
   },
   {
    "duration": 40,
    "start_time": "2023-07-21T15:44:13.728Z"
   },
   {
    "duration": 37,
    "start_time": "2023-07-21T15:44:13.772Z"
   },
   {
    "duration": 22,
    "start_time": "2023-07-21T15:44:13.811Z"
   },
   {
    "duration": 23,
    "start_time": "2023-07-21T15:44:26.171Z"
   },
   {
    "duration": 9,
    "start_time": "2023-07-21T15:44:46.330Z"
   },
   {
    "duration": 7,
    "start_time": "2023-07-21T15:46:00.897Z"
   },
   {
    "duration": 94,
    "start_time": "2023-07-21T15:46:00.906Z"
   },
   {
    "duration": 4,
    "start_time": "2023-07-21T15:46:01.004Z"
   },
   {
    "duration": 56,
    "start_time": "2023-07-21T15:46:01.010Z"
   },
   {
    "duration": 71,
    "start_time": "2023-07-21T15:46:01.071Z"
   },
   {
    "duration": 42,
    "start_time": "2023-07-21T15:46:01.144Z"
   },
   {
    "duration": 6,
    "start_time": "2023-07-21T15:46:01.188Z"
   },
   {
    "duration": 36,
    "start_time": "2023-07-21T15:46:01.202Z"
   },
   {
    "duration": 47,
    "start_time": "2023-07-21T15:46:01.241Z"
   },
   {
    "duration": 32,
    "start_time": "2023-07-21T15:46:01.290Z"
   },
   {
    "duration": 71,
    "start_time": "2023-07-21T15:46:01.324Z"
   },
   {
    "duration": 82,
    "start_time": "2023-07-21T15:46:01.402Z"
   },
   {
    "duration": 79,
    "start_time": "2023-07-21T15:46:01.487Z"
   },
   {
    "duration": 52,
    "start_time": "2023-07-21T15:46:01.569Z"
   },
   {
    "duration": 34,
    "start_time": "2023-07-21T15:46:30.287Z"
   },
   {
    "duration": 6,
    "start_time": "2023-07-21T15:46:57.030Z"
   },
   {
    "duration": 4,
    "start_time": "2023-07-21T15:48:15.743Z"
   },
   {
    "duration": 80,
    "start_time": "2023-07-21T15:48:15.750Z"
   },
   {
    "duration": 5,
    "start_time": "2023-07-21T15:48:15.832Z"
   },
   {
    "duration": 9,
    "start_time": "2023-07-21T15:48:15.839Z"
   },
   {
    "duration": 25,
    "start_time": "2023-07-21T15:48:15.851Z"
   },
   {
    "duration": 18,
    "start_time": "2023-07-21T15:48:15.879Z"
   },
   {
    "duration": 5,
    "start_time": "2023-07-21T15:48:15.899Z"
   },
   {
    "duration": 4,
    "start_time": "2023-07-21T15:48:15.906Z"
   },
   {
    "duration": 6,
    "start_time": "2023-07-21T15:48:15.912Z"
   },
   {
    "duration": 8,
    "start_time": "2023-07-21T15:48:15.919Z"
   },
   {
    "duration": 4,
    "start_time": "2023-07-21T15:48:15.929Z"
   },
   {
    "duration": 26,
    "start_time": "2023-07-21T15:48:15.934Z"
   },
   {
    "duration": 26,
    "start_time": "2023-07-21T15:48:15.961Z"
   },
   {
    "duration": 14,
    "start_time": "2023-07-21T15:48:15.994Z"
   },
   {
    "duration": 16,
    "start_time": "2023-07-21T15:48:19.696Z"
   },
   {
    "duration": 7,
    "start_time": "2023-07-21T15:49:16.259Z"
   },
   {
    "duration": 14,
    "start_time": "2023-07-21T15:49:22.000Z"
   },
   {
    "duration": 6,
    "start_time": "2023-07-21T15:50:26.406Z"
   },
   {
    "duration": 75,
    "start_time": "2023-07-21T15:50:26.414Z"
   },
   {
    "duration": 9,
    "start_time": "2023-07-21T15:50:26.494Z"
   },
   {
    "duration": 22,
    "start_time": "2023-07-21T15:50:26.504Z"
   },
   {
    "duration": 23,
    "start_time": "2023-07-21T15:50:26.528Z"
   },
   {
    "duration": 28,
    "start_time": "2023-07-21T15:50:26.554Z"
   },
   {
    "duration": 21,
    "start_time": "2023-07-21T15:50:26.585Z"
   },
   {
    "duration": 28,
    "start_time": "2023-07-21T15:50:26.608Z"
   },
   {
    "duration": 12,
    "start_time": "2023-07-21T15:50:26.639Z"
   },
   {
    "duration": 38,
    "start_time": "2023-07-21T15:50:26.652Z"
   },
   {
    "duration": 14,
    "start_time": "2023-07-21T15:50:26.693Z"
   },
   {
    "duration": 26,
    "start_time": "2023-07-21T15:50:26.708Z"
   },
   {
    "duration": 40,
    "start_time": "2023-07-21T15:50:26.735Z"
   },
   {
    "duration": 31,
    "start_time": "2023-07-21T15:50:26.777Z"
   },
   {
    "duration": 35,
    "start_time": "2023-07-21T15:50:29.854Z"
   },
   {
    "duration": 6,
    "start_time": "2023-07-21T15:51:08.679Z"
   },
   {
    "duration": 63,
    "start_time": "2023-07-21T15:51:08.689Z"
   },
   {
    "duration": 5,
    "start_time": "2023-07-21T15:51:08.753Z"
   },
   {
    "duration": 22,
    "start_time": "2023-07-21T15:51:08.760Z"
   },
   {
    "duration": 17,
    "start_time": "2023-07-21T15:51:08.784Z"
   },
   {
    "duration": 19,
    "start_time": "2023-07-21T15:51:08.803Z"
   },
   {
    "duration": 7,
    "start_time": "2023-07-21T15:51:08.824Z"
   },
   {
    "duration": 3,
    "start_time": "2023-07-21T15:51:09.145Z"
   },
   {
    "duration": 10,
    "start_time": "2023-07-21T15:51:09.150Z"
   },
   {
    "duration": 7,
    "start_time": "2023-07-21T15:51:09.162Z"
   },
   {
    "duration": 23,
    "start_time": "2023-07-21T15:51:09.170Z"
   },
   {
    "duration": 36,
    "start_time": "2023-07-21T15:51:09.195Z"
   },
   {
    "duration": 9,
    "start_time": "2023-07-21T15:51:09.233Z"
   },
   {
    "duration": 13,
    "start_time": "2023-07-21T15:51:09.243Z"
   },
   {
    "duration": 22,
    "start_time": "2023-07-21T15:51:12.230Z"
   },
   {
    "duration": 13,
    "start_time": "2023-07-21T15:51:21.887Z"
   },
   {
    "duration": 18,
    "start_time": "2023-07-21T15:52:22.643Z"
   },
   {
    "duration": 12,
    "start_time": "2023-07-21T15:55:28.576Z"
   },
   {
    "duration": 22,
    "start_time": "2023-07-21T15:58:32.045Z"
   },
   {
    "duration": 26,
    "start_time": "2023-07-21T15:58:55.349Z"
   },
   {
    "duration": 4,
    "start_time": "2023-07-21T15:59:06.820Z"
   },
   {
    "duration": 66,
    "start_time": "2023-07-21T15:59:06.827Z"
   },
   {
    "duration": 6,
    "start_time": "2023-07-21T15:59:06.896Z"
   },
   {
    "duration": 19,
    "start_time": "2023-07-21T15:59:06.903Z"
   },
   {
    "duration": 23,
    "start_time": "2023-07-21T15:59:06.925Z"
   },
   {
    "duration": 38,
    "start_time": "2023-07-21T15:59:06.950Z"
   },
   {
    "duration": 4,
    "start_time": "2023-07-21T15:59:06.989Z"
   },
   {
    "duration": 5,
    "start_time": "2023-07-21T15:59:06.995Z"
   },
   {
    "duration": 5,
    "start_time": "2023-07-21T15:59:07.001Z"
   },
   {
    "duration": 5,
    "start_time": "2023-07-21T15:59:07.007Z"
   },
   {
    "duration": 5,
    "start_time": "2023-07-21T15:59:07.015Z"
   },
   {
    "duration": 13,
    "start_time": "2023-07-21T15:59:07.022Z"
   },
   {
    "duration": 44,
    "start_time": "2023-07-21T15:59:07.039Z"
   },
   {
    "duration": 3,
    "start_time": "2023-07-21T15:59:07.085Z"
   },
   {
    "duration": 11,
    "start_time": "2023-07-21T15:59:07.091Z"
   },
   {
    "duration": 14,
    "start_time": "2023-07-21T15:59:13.257Z"
   },
   {
    "duration": 7,
    "start_time": "2023-07-21T16:02:01.135Z"
   },
   {
    "duration": 190,
    "start_time": "2023-07-21T16:02:01.144Z"
   },
   {
    "duration": 40,
    "start_time": "2023-07-21T16:02:01.336Z"
   },
   {
    "duration": 65,
    "start_time": "2023-07-21T16:02:01.378Z"
   },
   {
    "duration": 96,
    "start_time": "2023-07-21T16:02:01.446Z"
   },
   {
    "duration": 105,
    "start_time": "2023-07-21T16:02:01.544Z"
   },
   {
    "duration": 76,
    "start_time": "2023-07-21T16:02:01.651Z"
   },
   {
    "duration": 54,
    "start_time": "2023-07-21T16:02:01.729Z"
   },
   {
    "duration": 72,
    "start_time": "2023-07-21T16:02:01.787Z"
   },
   {
    "duration": 64,
    "start_time": "2023-07-21T16:02:01.860Z"
   },
   {
    "duration": 65,
    "start_time": "2023-07-21T16:02:01.928Z"
   },
   {
    "duration": 45,
    "start_time": "2023-07-21T16:02:01.996Z"
   },
   {
    "duration": 14,
    "start_time": "2023-07-21T16:02:08.033Z"
   },
   {
    "duration": 5,
    "start_time": "2023-07-21T16:05:49.819Z"
   },
   {
    "duration": 73,
    "start_time": "2023-07-21T16:05:49.826Z"
   },
   {
    "duration": 7,
    "start_time": "2023-07-21T16:05:49.902Z"
   },
   {
    "duration": 20,
    "start_time": "2023-07-21T16:05:49.911Z"
   },
   {
    "duration": 37,
    "start_time": "2023-07-21T16:05:49.935Z"
   },
   {
    "duration": 37,
    "start_time": "2023-07-21T16:05:49.977Z"
   },
   {
    "duration": 27,
    "start_time": "2023-07-21T16:05:50.016Z"
   },
   {
    "duration": 49,
    "start_time": "2023-07-21T16:05:50.045Z"
   },
   {
    "duration": 12,
    "start_time": "2023-07-21T16:05:50.097Z"
   },
   {
    "duration": 11,
    "start_time": "2023-07-21T16:05:50.111Z"
   },
   {
    "duration": 13,
    "start_time": "2023-07-21T16:05:50.126Z"
   },
   {
    "duration": 27,
    "start_time": "2023-07-21T16:05:50.142Z"
   },
   {
    "duration": 30,
    "start_time": "2023-07-21T16:05:50.172Z"
   },
   {
    "duration": 16,
    "start_time": "2023-07-21T16:05:50.205Z"
   },
   {
    "duration": 61,
    "start_time": "2023-07-21T16:05:50.224Z"
   },
   {
    "duration": 17,
    "start_time": "2023-07-21T16:05:50.288Z"
   },
   {
    "duration": 23,
    "start_time": "2023-07-21T16:05:50.308Z"
   },
   {
    "duration": 7,
    "start_time": "2023-07-21T16:05:50.333Z"
   },
   {
    "duration": 403,
    "start_time": "2023-07-21T16:05:50.342Z"
   },
   {
    "duration": 132,
    "start_time": "2023-07-21T16:05:50.747Z"
   },
   {
    "duration": 9,
    "start_time": "2023-07-21T16:05:50.880Z"
   },
   {
    "duration": 3202,
    "start_time": "2023-07-21T16:05:50.891Z"
   },
   {
    "duration": 18,
    "start_time": "2023-07-21T16:05:54.098Z"
   },
   {
    "duration": 7,
    "start_time": "2023-07-21T16:05:54.119Z"
   },
   {
    "duration": 26,
    "start_time": "2023-07-21T16:05:57.939Z"
   },
   {
    "duration": 26,
    "start_time": "2023-07-21T16:06:59.292Z"
   },
   {
    "duration": 26,
    "start_time": "2023-07-21T16:08:40.889Z"
   },
   {
    "duration": 13,
    "start_time": "2023-07-21T16:09:23.798Z"
   },
   {
    "duration": 6,
    "start_time": "2023-07-21T16:09:37.355Z"
   },
   {
    "duration": 14,
    "start_time": "2023-07-21T16:10:29.317Z"
   },
   {
    "duration": 32,
    "start_time": "2023-07-21T16:17:08.480Z"
   },
   {
    "duration": 7,
    "start_time": "2023-07-21T16:18:55.765Z"
   },
   {
    "duration": 54,
    "start_time": "2023-07-21T16:18:55.776Z"
   },
   {
    "duration": 5,
    "start_time": "2023-07-21T16:18:55.833Z"
   },
   {
    "duration": 17,
    "start_time": "2023-07-21T16:18:55.840Z"
   },
   {
    "duration": 22,
    "start_time": "2023-07-21T16:18:55.860Z"
   },
   {
    "duration": 22,
    "start_time": "2023-07-21T16:18:55.890Z"
   },
   {
    "duration": 4,
    "start_time": "2023-07-21T16:18:55.914Z"
   },
   {
    "duration": 12,
    "start_time": "2023-07-21T16:18:55.920Z"
   },
   {
    "duration": 10,
    "start_time": "2023-07-21T16:18:55.933Z"
   },
   {
    "duration": 28,
    "start_time": "2023-07-21T16:18:55.945Z"
   },
   {
    "duration": 45,
    "start_time": "2023-07-21T16:18:55.975Z"
   },
   {
    "duration": 59,
    "start_time": "2023-07-21T16:18:56.021Z"
   },
   {
    "duration": 29,
    "start_time": "2023-07-21T16:18:56.082Z"
   },
   {
    "duration": 17,
    "start_time": "2023-07-21T16:18:56.112Z"
   },
   {
    "duration": 15,
    "start_time": "2023-07-21T16:18:56.131Z"
   },
   {
    "duration": 31,
    "start_time": "2023-07-21T16:18:56.148Z"
   },
   {
    "duration": 90,
    "start_time": "2023-07-21T16:18:56.181Z"
   },
   {
    "duration": 4,
    "start_time": "2023-07-21T16:18:56.277Z"
   },
   {
    "duration": 323,
    "start_time": "2023-07-21T16:18:56.283Z"
   },
   {
    "duration": 0,
    "start_time": "2023-07-21T16:18:56.607Z"
   },
   {
    "duration": 0,
    "start_time": "2023-07-21T16:18:56.609Z"
   },
   {
    "duration": 0,
    "start_time": "2023-07-21T16:18:56.609Z"
   },
   {
    "duration": 0,
    "start_time": "2023-07-21T16:18:56.611Z"
   },
   {
    "duration": 0,
    "start_time": "2023-07-21T16:18:56.612Z"
   },
   {
    "duration": 0,
    "start_time": "2023-07-21T16:18:56.613Z"
   },
   {
    "duration": 6,
    "start_time": "2023-07-21T16:20:09.485Z"
   },
   {
    "duration": 59,
    "start_time": "2023-07-21T16:20:09.493Z"
   },
   {
    "duration": 4,
    "start_time": "2023-07-21T16:20:09.555Z"
   },
   {
    "duration": 32,
    "start_time": "2023-07-21T16:20:09.561Z"
   },
   {
    "duration": 17,
    "start_time": "2023-07-21T16:20:09.595Z"
   },
   {
    "duration": 28,
    "start_time": "2023-07-21T16:20:09.613Z"
   },
   {
    "duration": 6,
    "start_time": "2023-07-21T16:20:09.643Z"
   },
   {
    "duration": 4,
    "start_time": "2023-07-21T16:20:09.651Z"
   },
   {
    "duration": 4,
    "start_time": "2023-07-21T16:20:09.658Z"
   },
   {
    "duration": 19,
    "start_time": "2023-07-21T16:20:09.664Z"
   },
   {
    "duration": 5,
    "start_time": "2023-07-21T16:20:09.685Z"
   },
   {
    "duration": 26,
    "start_time": "2023-07-21T16:20:09.692Z"
   },
   {
    "duration": 30,
    "start_time": "2023-07-21T16:20:09.720Z"
   },
   {
    "duration": 3,
    "start_time": "2023-07-21T16:20:09.752Z"
   },
   {
    "duration": 36,
    "start_time": "2023-07-21T16:20:09.757Z"
   },
   {
    "duration": 16,
    "start_time": "2023-07-21T16:20:09.796Z"
   },
   {
    "duration": 8,
    "start_time": "2023-07-21T16:20:13.411Z"
   },
   {
    "duration": 4,
    "start_time": "2023-07-21T16:21:12.944Z"
   },
   {
    "duration": 69,
    "start_time": "2023-07-21T16:21:12.954Z"
   },
   {
    "duration": 5,
    "start_time": "2023-07-21T16:21:13.025Z"
   },
   {
    "duration": 27,
    "start_time": "2023-07-21T16:21:13.032Z"
   },
   {
    "duration": 33,
    "start_time": "2023-07-21T16:21:13.062Z"
   },
   {
    "duration": 23,
    "start_time": "2023-07-21T16:21:13.096Z"
   },
   {
    "duration": 20,
    "start_time": "2023-07-21T16:21:13.121Z"
   },
   {
    "duration": 21,
    "start_time": "2023-07-21T16:21:13.142Z"
   },
   {
    "duration": 18,
    "start_time": "2023-07-21T16:21:13.165Z"
   },
   {
    "duration": 23,
    "start_time": "2023-07-21T16:21:13.185Z"
   },
   {
    "duration": 6,
    "start_time": "2023-07-21T16:21:13.212Z"
   },
   {
    "duration": 20,
    "start_time": "2023-07-21T16:21:13.220Z"
   },
   {
    "duration": 31,
    "start_time": "2023-07-21T16:21:13.243Z"
   },
   {
    "duration": 5,
    "start_time": "2023-07-21T16:21:13.275Z"
   },
   {
    "duration": 33,
    "start_time": "2023-07-21T16:21:13.282Z"
   },
   {
    "duration": 31,
    "start_time": "2023-07-21T16:21:18.487Z"
   },
   {
    "duration": 23,
    "start_time": "2023-07-21T16:23:26.066Z"
   },
   {
    "duration": 17,
    "start_time": "2023-07-21T16:23:32.914Z"
   },
   {
    "duration": 5,
    "start_time": "2023-07-21T16:24:17.093Z"
   },
   {
    "duration": 62,
    "start_time": "2023-07-21T16:24:17.100Z"
   },
   {
    "duration": 5,
    "start_time": "2023-07-21T16:24:17.164Z"
   },
   {
    "duration": 22,
    "start_time": "2023-07-21T16:24:17.171Z"
   },
   {
    "duration": 22,
    "start_time": "2023-07-21T16:24:17.195Z"
   },
   {
    "duration": 31,
    "start_time": "2023-07-21T16:24:17.219Z"
   },
   {
    "duration": 5,
    "start_time": "2023-07-21T16:24:17.252Z"
   },
   {
    "duration": 15,
    "start_time": "2023-07-21T16:24:17.259Z"
   },
   {
    "duration": 23,
    "start_time": "2023-07-21T16:24:17.276Z"
   },
   {
    "duration": 14,
    "start_time": "2023-07-21T16:24:17.300Z"
   },
   {
    "duration": 17,
    "start_time": "2023-07-21T16:24:17.316Z"
   },
   {
    "duration": 22,
    "start_time": "2023-07-21T16:24:17.335Z"
   },
   {
    "duration": 28,
    "start_time": "2023-07-21T16:24:17.360Z"
   },
   {
    "duration": 14,
    "start_time": "2023-07-21T16:24:17.390Z"
   },
   {
    "duration": 85,
    "start_time": "2023-07-21T16:24:19.999Z"
   },
   {
    "duration": 4,
    "start_time": "2023-07-21T16:25:01.483Z"
   },
   {
    "duration": 100,
    "start_time": "2023-07-21T16:25:01.490Z"
   },
   {
    "duration": 5,
    "start_time": "2023-07-21T16:25:01.593Z"
   },
   {
    "duration": 29,
    "start_time": "2023-07-21T16:25:01.600Z"
   },
   {
    "duration": 49,
    "start_time": "2023-07-21T16:25:01.632Z"
   },
   {
    "duration": 23,
    "start_time": "2023-07-21T16:25:01.683Z"
   },
   {
    "duration": 15,
    "start_time": "2023-07-21T16:25:01.707Z"
   },
   {
    "duration": 4,
    "start_time": "2023-07-21T16:25:01.724Z"
   },
   {
    "duration": 16,
    "start_time": "2023-07-21T16:25:01.730Z"
   },
   {
    "duration": 47,
    "start_time": "2023-07-21T16:25:01.748Z"
   },
   {
    "duration": 12,
    "start_time": "2023-07-21T16:25:01.798Z"
   },
   {
    "duration": 54,
    "start_time": "2023-07-21T16:25:01.812Z"
   },
   {
    "duration": 20,
    "start_time": "2023-07-21T16:25:01.872Z"
   },
   {
    "duration": 3,
    "start_time": "2023-07-21T16:25:01.893Z"
   },
   {
    "duration": 66,
    "start_time": "2023-07-21T16:25:01.898Z"
   },
   {
    "duration": 30,
    "start_time": "2023-07-21T16:25:05.210Z"
   },
   {
    "duration": 17,
    "start_time": "2023-07-21T16:25:48.921Z"
   },
   {
    "duration": 10,
    "start_time": "2023-07-21T16:25:55.791Z"
   },
   {
    "duration": 110,
    "start_time": "2023-07-21T16:25:55.803Z"
   },
   {
    "duration": 5,
    "start_time": "2023-07-21T16:25:55.915Z"
   },
   {
    "duration": 15,
    "start_time": "2023-07-21T16:25:55.923Z"
   },
   {
    "duration": 21,
    "start_time": "2023-07-21T16:25:55.940Z"
   },
   {
    "duration": 24,
    "start_time": "2023-07-21T16:25:55.970Z"
   },
   {
    "duration": 14,
    "start_time": "2023-07-21T16:25:55.996Z"
   },
   {
    "duration": 25,
    "start_time": "2023-07-21T16:25:56.011Z"
   },
   {
    "duration": 13,
    "start_time": "2023-07-21T16:25:56.037Z"
   },
   {
    "duration": 10,
    "start_time": "2023-07-21T16:25:56.052Z"
   },
   {
    "duration": 19,
    "start_time": "2023-07-21T16:25:56.064Z"
   },
   {
    "duration": 23,
    "start_time": "2023-07-21T16:25:56.087Z"
   },
   {
    "duration": 35,
    "start_time": "2023-07-21T16:25:56.112Z"
   },
   {
    "duration": 4,
    "start_time": "2023-07-21T16:25:56.149Z"
   },
   {
    "duration": 15,
    "start_time": "2023-07-21T16:25:58.116Z"
   },
   {
    "duration": 21,
    "start_time": "2023-07-21T16:29:43.201Z"
   },
   {
    "duration": 22,
    "start_time": "2023-07-21T16:29:51.039Z"
   },
   {
    "duration": 4,
    "start_time": "2023-07-21T16:29:57.236Z"
   },
   {
    "duration": 70,
    "start_time": "2023-07-21T16:29:57.243Z"
   },
   {
    "duration": 6,
    "start_time": "2023-07-21T16:29:57.315Z"
   },
   {
    "duration": 22,
    "start_time": "2023-07-21T16:29:57.323Z"
   },
   {
    "duration": 14,
    "start_time": "2023-07-21T16:29:57.347Z"
   },
   {
    "duration": 17,
    "start_time": "2023-07-21T16:29:57.363Z"
   },
   {
    "duration": 16,
    "start_time": "2023-07-21T16:29:57.382Z"
   },
   {
    "duration": 3,
    "start_time": "2023-07-21T16:29:57.401Z"
   },
   {
    "duration": 6,
    "start_time": "2023-07-21T16:29:57.406Z"
   },
   {
    "duration": 6,
    "start_time": "2023-07-21T16:29:57.413Z"
   },
   {
    "duration": 4,
    "start_time": "2023-07-21T16:29:57.422Z"
   },
   {
    "duration": 44,
    "start_time": "2023-07-21T16:29:57.427Z"
   },
   {
    "duration": 19,
    "start_time": "2023-07-21T16:29:57.473Z"
   },
   {
    "duration": 7,
    "start_time": "2023-07-21T16:29:57.496Z"
   },
   {
    "duration": 16,
    "start_time": "2023-07-21T16:29:59.514Z"
   },
   {
    "duration": 12,
    "start_time": "2023-07-21T16:30:20.165Z"
   },
   {
    "duration": 5,
    "start_time": "2023-07-21T16:32:05.306Z"
   },
   {
    "duration": 13,
    "start_time": "2023-07-21T16:32:31.991Z"
   },
   {
    "duration": 4,
    "start_time": "2023-07-21T16:32:50.258Z"
   },
   {
    "duration": 33,
    "start_time": "2023-07-21T16:32:55.013Z"
   },
   {
    "duration": 4,
    "start_time": "2023-07-21T16:33:03.699Z"
   },
   {
    "duration": 54,
    "start_time": "2023-07-21T16:33:03.706Z"
   },
   {
    "duration": 5,
    "start_time": "2023-07-21T16:33:03.763Z"
   },
   {
    "duration": 9,
    "start_time": "2023-07-21T16:33:03.769Z"
   },
   {
    "duration": 15,
    "start_time": "2023-07-21T16:33:03.780Z"
   },
   {
    "duration": 16,
    "start_time": "2023-07-21T16:33:03.797Z"
   },
   {
    "duration": 6,
    "start_time": "2023-07-21T16:33:03.814Z"
   },
   {
    "duration": 6,
    "start_time": "2023-07-21T16:33:03.822Z"
   },
   {
    "duration": 38,
    "start_time": "2023-07-21T16:33:03.830Z"
   },
   {
    "duration": 6,
    "start_time": "2023-07-21T16:33:03.870Z"
   },
   {
    "duration": 4,
    "start_time": "2023-07-21T16:33:03.878Z"
   },
   {
    "duration": 16,
    "start_time": "2023-07-21T16:33:03.883Z"
   },
   {
    "duration": 13,
    "start_time": "2023-07-21T16:33:03.900Z"
   },
   {
    "duration": 6,
    "start_time": "2023-07-21T16:33:03.914Z"
   },
   {
    "duration": 1201,
    "start_time": "2023-07-21T16:33:27.444Z"
   },
   {
    "duration": 50,
    "start_time": "2023-07-21T16:33:28.647Z"
   },
   {
    "duration": 6,
    "start_time": "2023-07-21T16:33:28.699Z"
   },
   {
    "duration": 10,
    "start_time": "2023-07-21T16:33:28.708Z"
   },
   {
    "duration": 33,
    "start_time": "2023-07-21T16:33:28.719Z"
   },
   {
    "duration": 23,
    "start_time": "2023-07-21T16:33:28.768Z"
   },
   {
    "duration": 10,
    "start_time": "2023-07-21T16:33:28.793Z"
   },
   {
    "duration": 6,
    "start_time": "2023-07-21T16:33:28.806Z"
   },
   {
    "duration": 7,
    "start_time": "2023-07-21T16:33:28.814Z"
   },
   {
    "duration": 6,
    "start_time": "2023-07-21T16:33:28.824Z"
   },
   {
    "duration": 14,
    "start_time": "2023-07-21T16:33:28.832Z"
   },
   {
    "duration": 31,
    "start_time": "2023-07-21T16:33:28.848Z"
   },
   {
    "duration": 14,
    "start_time": "2023-07-21T16:33:28.882Z"
   },
   {
    "duration": 3,
    "start_time": "2023-07-21T16:33:28.897Z"
   },
   {
    "duration": 115,
    "start_time": "2023-07-21T16:33:31.028Z"
   },
   {
    "duration": 1168,
    "start_time": "2023-07-21T16:34:01.242Z"
   },
   {
    "duration": 51,
    "start_time": "2023-07-21T16:34:02.413Z"
   },
   {
    "duration": 5,
    "start_time": "2023-07-21T16:34:02.466Z"
   },
   {
    "duration": 41,
    "start_time": "2023-07-21T16:34:02.473Z"
   },
   {
    "duration": 38,
    "start_time": "2023-07-21T16:34:02.518Z"
   },
   {
    "duration": 24,
    "start_time": "2023-07-21T16:34:02.558Z"
   },
   {
    "duration": 25,
    "start_time": "2023-07-21T16:34:02.584Z"
   },
   {
    "duration": 57,
    "start_time": "2023-07-21T16:34:02.610Z"
   },
   {
    "duration": 30,
    "start_time": "2023-07-21T16:34:02.669Z"
   },
   {
    "duration": 24,
    "start_time": "2023-07-21T16:34:02.701Z"
   },
   {
    "duration": 30,
    "start_time": "2023-07-21T16:34:02.726Z"
   },
   {
    "duration": 33,
    "start_time": "2023-07-21T16:34:02.758Z"
   },
   {
    "duration": 36,
    "start_time": "2023-07-21T16:34:02.793Z"
   },
   {
    "duration": 18,
    "start_time": "2023-07-21T16:34:02.831Z"
   },
   {
    "duration": 12,
    "start_time": "2023-07-21T16:34:04.405Z"
   },
   {
    "duration": 9,
    "start_time": "2023-07-21T16:34:22.407Z"
   },
   {
    "duration": 12,
    "start_time": "2023-07-21T16:34:32.104Z"
   },
   {
    "duration": 12,
    "start_time": "2023-07-21T16:34:50.242Z"
   },
   {
    "duration": 4,
    "start_time": "2023-07-21T16:38:49.087Z"
   },
   {
    "duration": 75,
    "start_time": "2023-07-21T16:38:49.094Z"
   },
   {
    "duration": 4,
    "start_time": "2023-07-21T16:38:49.172Z"
   },
   {
    "duration": 17,
    "start_time": "2023-07-21T16:38:49.177Z"
   },
   {
    "duration": 13,
    "start_time": "2023-07-21T16:38:49.197Z"
   },
   {
    "duration": 17,
    "start_time": "2023-07-21T16:38:49.211Z"
   },
   {
    "duration": 4,
    "start_time": "2023-07-21T16:38:49.230Z"
   },
   {
    "duration": 32,
    "start_time": "2023-07-21T16:38:49.236Z"
   },
   {
    "duration": 4,
    "start_time": "2023-07-21T16:38:49.269Z"
   },
   {
    "duration": 17,
    "start_time": "2023-07-21T16:38:49.275Z"
   },
   {
    "duration": 19,
    "start_time": "2023-07-21T16:38:49.296Z"
   },
   {
    "duration": 10,
    "start_time": "2023-07-21T16:38:49.317Z"
   },
   {
    "duration": 25,
    "start_time": "2023-07-21T16:38:49.329Z"
   },
   {
    "duration": 17,
    "start_time": "2023-07-21T16:38:49.355Z"
   },
   {
    "duration": 2,
    "start_time": "2023-07-21T16:38:49.374Z"
   },
   {
    "duration": 107,
    "start_time": "2023-07-21T16:38:49.378Z"
   },
   {
    "duration": 4,
    "start_time": "2023-07-21T16:39:05.451Z"
   },
   {
    "duration": 29,
    "start_time": "2023-07-21T16:39:16.186Z"
   },
   {
    "duration": 1107,
    "start_time": "2023-07-21T16:39:47.897Z"
   },
   {
    "duration": 55,
    "start_time": "2023-07-21T16:39:49.006Z"
   },
   {
    "duration": 7,
    "start_time": "2023-07-21T16:39:49.063Z"
   },
   {
    "duration": 27,
    "start_time": "2023-07-21T16:39:49.072Z"
   },
   {
    "duration": 32,
    "start_time": "2023-07-21T16:39:49.101Z"
   },
   {
    "duration": 14,
    "start_time": "2023-07-21T16:39:49.134Z"
   },
   {
    "duration": 16,
    "start_time": "2023-07-21T16:39:49.149Z"
   },
   {
    "duration": 5,
    "start_time": "2023-07-21T16:39:49.167Z"
   },
   {
    "duration": 8,
    "start_time": "2023-07-21T16:39:49.173Z"
   },
   {
    "duration": 4,
    "start_time": "2023-07-21T16:39:49.185Z"
   },
   {
    "duration": 6,
    "start_time": "2023-07-21T16:39:49.192Z"
   },
   {
    "duration": 5,
    "start_time": "2023-07-21T16:39:49.200Z"
   },
   {
    "duration": 14,
    "start_time": "2023-07-21T16:39:49.207Z"
   },
   {
    "duration": 14,
    "start_time": "2023-07-21T16:39:49.223Z"
   },
   {
    "duration": 31,
    "start_time": "2023-07-21T16:39:49.238Z"
   },
   {
    "duration": 20,
    "start_time": "2023-07-21T16:39:50.785Z"
   },
   {
    "duration": 1196,
    "start_time": "2023-07-21T16:40:13.089Z"
   },
   {
    "duration": 50,
    "start_time": "2023-07-21T16:40:14.287Z"
   },
   {
    "duration": 5,
    "start_time": "2023-07-21T16:40:14.339Z"
   },
   {
    "duration": 13,
    "start_time": "2023-07-21T16:40:14.347Z"
   },
   {
    "duration": 24,
    "start_time": "2023-07-21T16:40:14.362Z"
   },
   {
    "duration": 14,
    "start_time": "2023-07-21T16:40:14.388Z"
   },
   {
    "duration": 24,
    "start_time": "2023-07-21T16:40:14.403Z"
   },
   {
    "duration": 11,
    "start_time": "2023-07-21T16:40:14.429Z"
   },
   {
    "duration": 3,
    "start_time": "2023-07-21T16:40:14.443Z"
   },
   {
    "duration": 5,
    "start_time": "2023-07-21T16:40:14.449Z"
   },
   {
    "duration": 10,
    "start_time": "2023-07-21T16:40:14.455Z"
   },
   {
    "duration": 6,
    "start_time": "2023-07-21T16:40:14.467Z"
   },
   {
    "duration": 16,
    "start_time": "2023-07-21T16:40:14.474Z"
   },
   {
    "duration": 33,
    "start_time": "2023-07-21T16:40:14.493Z"
   },
   {
    "duration": 3,
    "start_time": "2023-07-21T16:40:14.528Z"
   },
   {
    "duration": 44,
    "start_time": "2023-07-21T16:40:14.534Z"
   },
   {
    "duration": 8,
    "start_time": "2023-07-21T16:40:14.580Z"
   },
   {
    "duration": 9,
    "start_time": "2023-07-21T16:40:14.590Z"
   },
   {
    "duration": 18,
    "start_time": "2023-07-21T16:40:14.600Z"
   },
   {
    "duration": 319,
    "start_time": "2023-07-21T16:40:14.619Z"
   },
   {
    "duration": 430,
    "start_time": "2023-07-21T16:40:14.940Z"
   },
   {
    "duration": 4,
    "start_time": "2023-07-21T16:40:15.374Z"
   },
   {
    "duration": 2833,
    "start_time": "2023-07-21T16:40:15.381Z"
   },
   {
    "duration": 4,
    "start_time": "2023-07-21T16:40:18.216Z"
   },
   {
    "duration": 15,
    "start_time": "2023-07-21T16:40:18.221Z"
   },
   {
    "duration": 37,
    "start_time": "2023-07-21T16:40:18.238Z"
   },
   {
    "duration": 469,
    "start_time": "2023-07-21T16:40:18.278Z"
   },
   {
    "duration": 0,
    "start_time": "2023-07-21T16:40:18.749Z"
   },
   {
    "duration": 0,
    "start_time": "2023-07-21T16:40:18.750Z"
   },
   {
    "duration": 0,
    "start_time": "2023-07-21T16:40:18.751Z"
   },
   {
    "duration": 1,
    "start_time": "2023-07-21T16:40:18.752Z"
   },
   {
    "duration": 0,
    "start_time": "2023-07-21T16:40:18.754Z"
   },
   {
    "duration": 0,
    "start_time": "2023-07-21T16:40:18.768Z"
   },
   {
    "duration": 1184,
    "start_time": "2023-07-21T16:42:47.394Z"
   },
   {
    "duration": 51,
    "start_time": "2023-07-21T16:42:48.581Z"
   },
   {
    "duration": 5,
    "start_time": "2023-07-21T16:42:48.633Z"
   },
   {
    "duration": 28,
    "start_time": "2023-07-21T16:42:48.639Z"
   },
   {
    "duration": 23,
    "start_time": "2023-07-21T16:42:48.677Z"
   },
   {
    "duration": 14,
    "start_time": "2023-07-21T16:42:48.702Z"
   },
   {
    "duration": 7,
    "start_time": "2023-07-21T16:42:48.717Z"
   },
   {
    "duration": 16,
    "start_time": "2023-07-21T16:42:48.726Z"
   },
   {
    "duration": 7,
    "start_time": "2023-07-21T16:42:48.743Z"
   },
   {
    "duration": 17,
    "start_time": "2023-07-21T16:42:48.752Z"
   },
   {
    "duration": 7,
    "start_time": "2023-07-21T16:42:48.771Z"
   },
   {
    "duration": 9,
    "start_time": "2023-07-21T16:42:48.782Z"
   },
   {
    "duration": 30,
    "start_time": "2023-07-21T16:42:48.793Z"
   },
   {
    "duration": 28,
    "start_time": "2023-07-21T16:42:48.826Z"
   },
   {
    "duration": 14,
    "start_time": "2023-07-21T16:42:48.856Z"
   },
   {
    "duration": 40,
    "start_time": "2023-07-21T16:42:48.873Z"
   },
   {
    "duration": 7,
    "start_time": "2023-07-21T16:42:48.916Z"
   },
   {
    "duration": 119,
    "start_time": "2023-07-21T16:42:48.925Z"
   },
   {
    "duration": 0,
    "start_time": "2023-07-21T16:42:49.046Z"
   },
   {
    "duration": 0,
    "start_time": "2023-07-21T16:42:49.047Z"
   },
   {
    "duration": 0,
    "start_time": "2023-07-21T16:42:49.049Z"
   },
   {
    "duration": 0,
    "start_time": "2023-07-21T16:42:49.051Z"
   },
   {
    "duration": 0,
    "start_time": "2023-07-21T16:42:49.052Z"
   },
   {
    "duration": 0,
    "start_time": "2023-07-21T16:42:49.070Z"
   },
   {
    "duration": 0,
    "start_time": "2023-07-21T16:42:49.071Z"
   },
   {
    "duration": 0,
    "start_time": "2023-07-21T16:42:49.074Z"
   },
   {
    "duration": 0,
    "start_time": "2023-07-21T16:42:49.076Z"
   },
   {
    "duration": 0,
    "start_time": "2023-07-21T16:42:49.077Z"
   },
   {
    "duration": 0,
    "start_time": "2023-07-21T16:42:49.079Z"
   },
   {
    "duration": 0,
    "start_time": "2023-07-21T16:42:49.081Z"
   },
   {
    "duration": 0,
    "start_time": "2023-07-21T16:42:49.083Z"
   },
   {
    "duration": 0,
    "start_time": "2023-07-21T16:42:49.085Z"
   },
   {
    "duration": 0,
    "start_time": "2023-07-21T16:42:49.086Z"
   },
   {
    "duration": 9,
    "start_time": "2023-07-21T16:44:52.081Z"
   },
   {
    "duration": 11,
    "start_time": "2023-07-21T16:45:36.211Z"
   },
   {
    "duration": 8,
    "start_time": "2023-07-21T16:45:43.446Z"
   },
   {
    "duration": 9,
    "start_time": "2023-07-21T16:46:07.006Z"
   },
   {
    "duration": 1294,
    "start_time": "2023-07-21T16:47:29.930Z"
   },
   {
    "duration": 58,
    "start_time": "2023-07-21T16:47:31.226Z"
   },
   {
    "duration": 6,
    "start_time": "2023-07-21T16:47:31.286Z"
   },
   {
    "duration": 27,
    "start_time": "2023-07-21T16:47:31.293Z"
   },
   {
    "duration": 47,
    "start_time": "2023-07-21T16:47:31.322Z"
   },
   {
    "duration": 18,
    "start_time": "2023-07-21T16:47:31.375Z"
   },
   {
    "duration": 3,
    "start_time": "2023-07-21T16:47:31.395Z"
   },
   {
    "duration": 9,
    "start_time": "2023-07-21T16:47:31.399Z"
   },
   {
    "duration": 16,
    "start_time": "2023-07-21T16:47:31.409Z"
   },
   {
    "duration": 16,
    "start_time": "2023-07-21T16:47:31.427Z"
   },
   {
    "duration": 19,
    "start_time": "2023-07-21T16:47:31.444Z"
   },
   {
    "duration": 28,
    "start_time": "2023-07-21T16:47:31.465Z"
   },
   {
    "duration": 44,
    "start_time": "2023-07-21T16:47:31.496Z"
   },
   {
    "duration": 15,
    "start_time": "2023-07-21T16:47:31.543Z"
   },
   {
    "duration": 22,
    "start_time": "2023-07-21T16:47:31.559Z"
   },
   {
    "duration": 133,
    "start_time": "2023-07-21T16:47:31.583Z"
   },
   {
    "duration": 0,
    "start_time": "2023-07-21T16:47:31.718Z"
   },
   {
    "duration": 0,
    "start_time": "2023-07-21T16:47:31.719Z"
   },
   {
    "duration": 0,
    "start_time": "2023-07-21T16:47:31.720Z"
   },
   {
    "duration": 0,
    "start_time": "2023-07-21T16:47:31.721Z"
   },
   {
    "duration": 0,
    "start_time": "2023-07-21T16:47:31.722Z"
   },
   {
    "duration": 0,
    "start_time": "2023-07-21T16:47:31.723Z"
   },
   {
    "duration": 0,
    "start_time": "2023-07-21T16:47:31.724Z"
   },
   {
    "duration": 0,
    "start_time": "2023-07-21T16:47:31.726Z"
   },
   {
    "duration": 0,
    "start_time": "2023-07-21T16:47:31.727Z"
   },
   {
    "duration": 0,
    "start_time": "2023-07-21T16:47:31.728Z"
   },
   {
    "duration": 0,
    "start_time": "2023-07-21T16:47:31.729Z"
   },
   {
    "duration": 0,
    "start_time": "2023-07-21T16:47:31.731Z"
   },
   {
    "duration": 0,
    "start_time": "2023-07-21T16:47:31.732Z"
   },
   {
    "duration": 0,
    "start_time": "2023-07-21T16:47:31.733Z"
   },
   {
    "duration": 0,
    "start_time": "2023-07-21T16:47:31.735Z"
   },
   {
    "duration": 0,
    "start_time": "2023-07-21T16:47:31.736Z"
   },
   {
    "duration": 0,
    "start_time": "2023-07-21T16:47:31.737Z"
   },
   {
    "duration": 1253,
    "start_time": "2023-07-21T16:48:02.195Z"
   },
   {
    "duration": 58,
    "start_time": "2023-07-21T16:48:03.450Z"
   },
   {
    "duration": 4,
    "start_time": "2023-07-21T16:48:03.509Z"
   },
   {
    "duration": 15,
    "start_time": "2023-07-21T16:48:03.515Z"
   },
   {
    "duration": 28,
    "start_time": "2023-07-21T16:48:03.532Z"
   },
   {
    "duration": 19,
    "start_time": "2023-07-21T16:48:03.562Z"
   },
   {
    "duration": 10,
    "start_time": "2023-07-21T16:48:03.583Z"
   },
   {
    "duration": 17,
    "start_time": "2023-07-21T16:48:03.594Z"
   },
   {
    "duration": 17,
    "start_time": "2023-07-21T16:48:03.612Z"
   },
   {
    "duration": 23,
    "start_time": "2023-07-21T16:48:03.631Z"
   },
   {
    "duration": 18,
    "start_time": "2023-07-21T16:48:03.656Z"
   },
   {
    "duration": 13,
    "start_time": "2023-07-21T16:48:03.677Z"
   },
   {
    "duration": 29,
    "start_time": "2023-07-21T16:48:03.692Z"
   },
   {
    "duration": 32,
    "start_time": "2023-07-21T16:48:03.723Z"
   },
   {
    "duration": 5,
    "start_time": "2023-07-21T16:48:03.757Z"
   },
   {
    "duration": 36,
    "start_time": "2023-07-21T16:48:03.764Z"
   },
   {
    "duration": 7,
    "start_time": "2023-07-21T16:48:03.801Z"
   },
   {
    "duration": 11,
    "start_time": "2023-07-21T16:48:03.809Z"
   },
   {
    "duration": 5,
    "start_time": "2023-07-21T16:48:03.822Z"
   },
   {
    "duration": 339,
    "start_time": "2023-07-21T16:48:03.829Z"
   },
   {
    "duration": 114,
    "start_time": "2023-07-21T16:48:04.170Z"
   },
   {
    "duration": 4,
    "start_time": "2023-07-21T16:48:04.286Z"
   },
   {
    "duration": 2885,
    "start_time": "2023-07-21T16:48:04.369Z"
   },
   {
    "duration": 3,
    "start_time": "2023-07-21T16:48:07.256Z"
   },
   {
    "duration": 13,
    "start_time": "2023-07-21T16:48:07.261Z"
   },
   {
    "duration": 37,
    "start_time": "2023-07-21T16:48:07.276Z"
   },
   {
    "duration": 4138,
    "start_time": "2023-07-21T16:48:07.314Z"
   },
   {
    "duration": 13,
    "start_time": "2023-07-21T16:48:11.455Z"
   },
   {
    "duration": 15,
    "start_time": "2023-07-21T16:48:11.470Z"
   },
   {
    "duration": 28,
    "start_time": "2023-07-21T16:48:11.487Z"
   },
   {
    "duration": 232,
    "start_time": "2023-07-21T16:48:11.516Z"
   },
   {
    "duration": 0,
    "start_time": "2023-07-21T16:48:11.750Z"
   },
   {
    "duration": 0,
    "start_time": "2023-07-21T16:48:11.752Z"
   },
   {
    "duration": 3975,
    "start_time": "2023-07-21T16:49:28.971Z"
   },
   {
    "duration": 1207,
    "start_time": "2023-07-21T16:50:06.476Z"
   },
   {
    "duration": 50,
    "start_time": "2023-07-21T16:50:07.687Z"
   },
   {
    "duration": 4,
    "start_time": "2023-07-21T16:50:07.739Z"
   },
   {
    "duration": 15,
    "start_time": "2023-07-21T16:50:07.744Z"
   },
   {
    "duration": 27,
    "start_time": "2023-07-21T16:50:07.761Z"
   },
   {
    "duration": 59,
    "start_time": "2023-07-21T16:50:07.789Z"
   },
   {
    "duration": 6,
    "start_time": "2023-07-21T16:50:07.850Z"
   },
   {
    "duration": 11,
    "start_time": "2023-07-21T16:50:07.857Z"
   },
   {
    "duration": 9,
    "start_time": "2023-07-21T16:50:07.870Z"
   },
   {
    "duration": 4,
    "start_time": "2023-07-21T16:50:07.883Z"
   },
   {
    "duration": 5,
    "start_time": "2023-07-21T16:50:07.889Z"
   },
   {
    "duration": 14,
    "start_time": "2023-07-21T16:50:07.895Z"
   },
   {
    "duration": 23,
    "start_time": "2023-07-21T16:50:07.911Z"
   },
   {
    "duration": 23,
    "start_time": "2023-07-21T16:50:07.936Z"
   },
   {
    "duration": 3,
    "start_time": "2023-07-21T16:50:07.969Z"
   },
   {
    "duration": 45,
    "start_time": "2023-07-21T16:50:07.974Z"
   },
   {
    "duration": 8,
    "start_time": "2023-07-21T16:50:08.021Z"
   },
   {
    "duration": 10,
    "start_time": "2023-07-21T16:50:08.030Z"
   },
   {
    "duration": 14,
    "start_time": "2023-07-21T16:50:08.042Z"
   },
   {
    "duration": 310,
    "start_time": "2023-07-21T16:50:08.057Z"
   },
   {
    "duration": 219,
    "start_time": "2023-07-21T16:50:08.370Z"
   },
   {
    "duration": 4,
    "start_time": "2023-07-21T16:50:08.669Z"
   },
   {
    "duration": 2789,
    "start_time": "2023-07-21T16:50:08.675Z"
   },
   {
    "duration": 7,
    "start_time": "2023-07-21T16:50:11.467Z"
   },
   {
    "duration": 4,
    "start_time": "2023-07-21T16:50:11.476Z"
   },
   {
    "duration": 18,
    "start_time": "2023-07-21T16:50:11.482Z"
   },
   {
    "duration": 4428,
    "start_time": "2023-07-21T16:50:11.503Z"
   },
   {
    "duration": 12,
    "start_time": "2023-07-21T16:50:15.935Z"
   },
   {
    "duration": 4,
    "start_time": "2023-07-21T16:50:15.949Z"
   },
   {
    "duration": 4,
    "start_time": "2023-07-21T16:50:15.967Z"
   },
   {
    "duration": 4061,
    "start_time": "2023-07-21T16:50:15.973Z"
   },
   {
    "duration": 449,
    "start_time": "2023-07-21T16:50:20.036Z"
   },
   {
    "duration": 66,
    "start_time": "2023-07-21T16:50:20.487Z"
   },
   {
    "duration": 1203,
    "start_time": "2023-07-21T16:52:01.885Z"
   },
   {
    "duration": 58,
    "start_time": "2023-07-21T16:52:03.094Z"
   },
   {
    "duration": 6,
    "start_time": "2023-07-21T16:52:03.154Z"
   },
   {
    "duration": 41,
    "start_time": "2023-07-21T16:52:03.162Z"
   },
   {
    "duration": 25,
    "start_time": "2023-07-21T16:52:03.205Z"
   },
   {
    "duration": 16,
    "start_time": "2023-07-21T16:52:03.232Z"
   },
   {
    "duration": 5,
    "start_time": "2023-07-21T16:52:03.249Z"
   },
   {
    "duration": 19,
    "start_time": "2023-07-21T16:52:03.256Z"
   },
   {
    "duration": 13,
    "start_time": "2023-07-21T16:52:03.277Z"
   },
   {
    "duration": 13,
    "start_time": "2023-07-21T16:52:03.293Z"
   },
   {
    "duration": 5,
    "start_time": "2023-07-21T16:52:03.307Z"
   },
   {
    "duration": 4,
    "start_time": "2023-07-21T16:52:03.314Z"
   },
   {
    "duration": 16,
    "start_time": "2023-07-21T16:52:03.319Z"
   },
   {
    "duration": 45,
    "start_time": "2023-07-21T16:52:03.337Z"
   },
   {
    "duration": 3,
    "start_time": "2023-07-21T16:52:03.384Z"
   },
   {
    "duration": 31,
    "start_time": "2023-07-21T16:52:03.389Z"
   },
   {
    "duration": 16,
    "start_time": "2023-07-21T16:52:03.422Z"
   },
   {
    "duration": 8,
    "start_time": "2023-07-21T16:52:03.443Z"
   },
   {
    "duration": 15,
    "start_time": "2023-07-21T16:52:03.453Z"
   },
   {
    "duration": 321,
    "start_time": "2023-07-21T16:52:03.470Z"
   },
   {
    "duration": 378,
    "start_time": "2023-07-21T16:52:03.792Z"
   },
   {
    "duration": 10,
    "start_time": "2023-07-21T16:52:04.180Z"
   },
   {
    "duration": 2863,
    "start_time": "2023-07-21T16:52:04.192Z"
   },
   {
    "duration": 5,
    "start_time": "2023-07-21T16:52:07.056Z"
   },
   {
    "duration": 11,
    "start_time": "2023-07-21T16:52:07.062Z"
   },
   {
    "duration": 19,
    "start_time": "2023-07-21T16:52:07.076Z"
   },
   {
    "duration": 4416,
    "start_time": "2023-07-21T16:52:07.097Z"
   },
   {
    "duration": 8,
    "start_time": "2023-07-21T16:52:11.516Z"
   },
   {
    "duration": 10,
    "start_time": "2023-07-21T16:52:11.526Z"
   },
   {
    "duration": 4,
    "start_time": "2023-07-21T16:52:11.537Z"
   },
   {
    "duration": 3564,
    "start_time": "2023-07-21T16:52:11.542Z"
   },
   {
    "duration": 360,
    "start_time": "2023-07-21T16:52:15.108Z"
   },
   {
    "duration": 64,
    "start_time": "2023-07-21T16:52:15.474Z"
   },
   {
    "duration": 460,
    "start_time": "2023-07-21T16:53:26.788Z"
   },
   {
    "duration": 563,
    "start_time": "2023-07-21T16:53:30.321Z"
   },
   {
    "duration": 416,
    "start_time": "2023-07-21T16:53:34.757Z"
   },
   {
    "duration": 1196,
    "start_time": "2023-07-21T16:54:16.004Z"
   },
   {
    "duration": 52,
    "start_time": "2023-07-21T16:54:17.202Z"
   },
   {
    "duration": 6,
    "start_time": "2023-07-21T16:54:17.255Z"
   },
   {
    "duration": 15,
    "start_time": "2023-07-21T16:54:17.264Z"
   },
   {
    "duration": 26,
    "start_time": "2023-07-21T16:54:17.282Z"
   },
   {
    "duration": 13,
    "start_time": "2023-07-21T16:54:17.310Z"
   },
   {
    "duration": 7,
    "start_time": "2023-07-21T16:54:17.325Z"
   },
   {
    "duration": 6,
    "start_time": "2023-07-21T16:54:17.334Z"
   },
   {
    "duration": 4,
    "start_time": "2023-07-21T16:54:17.342Z"
   },
   {
    "duration": 19,
    "start_time": "2023-07-21T16:54:17.349Z"
   },
   {
    "duration": 6,
    "start_time": "2023-07-21T16:54:17.370Z"
   },
   {
    "duration": 10,
    "start_time": "2023-07-21T16:54:17.378Z"
   },
   {
    "duration": 14,
    "start_time": "2023-07-21T16:54:17.390Z"
   },
   {
    "duration": 19,
    "start_time": "2023-07-21T16:54:17.406Z"
   },
   {
    "duration": 3,
    "start_time": "2023-07-21T16:54:17.426Z"
   },
   {
    "duration": 61,
    "start_time": "2023-07-21T16:54:17.431Z"
   },
   {
    "duration": 10,
    "start_time": "2023-07-21T16:54:17.494Z"
   },
   {
    "duration": 14,
    "start_time": "2023-07-21T16:54:17.506Z"
   },
   {
    "duration": 14,
    "start_time": "2023-07-21T16:54:17.522Z"
   },
   {
    "duration": 328,
    "start_time": "2023-07-21T16:54:17.538Z"
   },
   {
    "duration": 127,
    "start_time": "2023-07-21T16:54:17.874Z"
   },
   {
    "duration": 6,
    "start_time": "2023-07-21T16:54:18.074Z"
   },
   {
    "duration": 2870,
    "start_time": "2023-07-21T16:54:18.085Z"
   },
   {
    "duration": 4,
    "start_time": "2023-07-21T16:54:20.958Z"
   },
   {
    "duration": 10,
    "start_time": "2023-07-21T16:54:20.963Z"
   },
   {
    "duration": 16,
    "start_time": "2023-07-21T16:54:20.975Z"
   },
   {
    "duration": 4262,
    "start_time": "2023-07-21T16:54:20.994Z"
   },
   {
    "duration": 13,
    "start_time": "2023-07-21T16:54:25.260Z"
   },
   {
    "duration": 4,
    "start_time": "2023-07-21T16:54:25.275Z"
   },
   {
    "duration": 3,
    "start_time": "2023-07-21T16:54:25.282Z"
   },
   {
    "duration": 3935,
    "start_time": "2023-07-21T16:54:25.287Z"
   },
   {
    "duration": 536,
    "start_time": "2023-07-21T16:54:29.224Z"
   },
   {
    "duration": 81,
    "start_time": "2023-07-21T16:54:29.768Z"
   },
   {
    "duration": 659,
    "start_time": "2023-07-21T16:54:41.744Z"
   },
   {
    "duration": 1149,
    "start_time": "2023-07-21T16:55:21.704Z"
   },
   {
    "duration": 54,
    "start_time": "2023-07-21T16:55:22.855Z"
   },
   {
    "duration": 4,
    "start_time": "2023-07-21T16:55:22.911Z"
   },
   {
    "duration": 15,
    "start_time": "2023-07-21T16:55:22.917Z"
   },
   {
    "duration": 31,
    "start_time": "2023-07-21T16:55:22.933Z"
   },
   {
    "duration": 24,
    "start_time": "2023-07-21T16:55:22.965Z"
   },
   {
    "duration": 4,
    "start_time": "2023-07-21T16:55:22.990Z"
   },
   {
    "duration": 4,
    "start_time": "2023-07-21T16:55:22.996Z"
   },
   {
    "duration": 9,
    "start_time": "2023-07-21T16:55:23.002Z"
   },
   {
    "duration": 3,
    "start_time": "2023-07-21T16:55:23.015Z"
   },
   {
    "duration": 6,
    "start_time": "2023-07-21T16:55:23.019Z"
   },
   {
    "duration": 9,
    "start_time": "2023-07-21T16:55:23.026Z"
   },
   {
    "duration": 34,
    "start_time": "2023-07-21T16:55:23.037Z"
   },
   {
    "duration": 20,
    "start_time": "2023-07-21T16:55:23.073Z"
   },
   {
    "duration": 3,
    "start_time": "2023-07-21T16:55:23.095Z"
   },
   {
    "duration": 24,
    "start_time": "2023-07-21T16:55:23.099Z"
   },
   {
    "duration": 7,
    "start_time": "2023-07-21T16:55:23.124Z"
   },
   {
    "duration": 39,
    "start_time": "2023-07-21T16:55:23.132Z"
   },
   {
    "duration": 3,
    "start_time": "2023-07-21T16:55:23.173Z"
   },
   {
    "duration": 316,
    "start_time": "2023-07-21T16:55:23.177Z"
   },
   {
    "duration": 183,
    "start_time": "2023-07-21T16:55:23.495Z"
   },
   {
    "duration": 11,
    "start_time": "2023-07-21T16:55:23.680Z"
   },
   {
    "duration": 2998,
    "start_time": "2023-07-21T16:55:23.770Z"
   },
   {
    "duration": 6,
    "start_time": "2023-07-21T16:55:26.770Z"
   },
   {
    "duration": 10,
    "start_time": "2023-07-21T16:55:26.781Z"
   },
   {
    "duration": 28,
    "start_time": "2023-07-21T16:55:26.792Z"
   },
   {
    "duration": 4299,
    "start_time": "2023-07-21T16:55:26.822Z"
   },
   {
    "duration": 14,
    "start_time": "2023-07-21T16:55:31.126Z"
   },
   {
    "duration": 81,
    "start_time": "2023-07-21T16:55:31.143Z"
   },
   {
    "duration": 38,
    "start_time": "2023-07-21T16:55:31.226Z"
   },
   {
    "duration": 3972,
    "start_time": "2023-07-21T16:55:31.267Z"
   },
   {
    "duration": 484,
    "start_time": "2023-07-21T16:55:35.241Z"
   },
   {
    "duration": 87,
    "start_time": "2023-07-21T16:55:35.727Z"
   },
   {
    "duration": 1242,
    "start_time": "2023-07-22T10:13:52.906Z"
   },
   {
    "duration": 91,
    "start_time": "2023-07-22T10:13:54.150Z"
   },
   {
    "duration": 4,
    "start_time": "2023-07-22T10:13:54.243Z"
   },
   {
    "duration": 12,
    "start_time": "2023-07-22T10:13:54.248Z"
   },
   {
    "duration": 19,
    "start_time": "2023-07-22T10:13:54.261Z"
   },
   {
    "duration": 16,
    "start_time": "2023-07-22T10:13:54.281Z"
   },
   {
    "duration": 13,
    "start_time": "2023-07-22T10:13:54.298Z"
   },
   {
    "duration": 23,
    "start_time": "2023-07-22T10:13:54.312Z"
   },
   {
    "duration": 5,
    "start_time": "2023-07-22T10:13:54.336Z"
   },
   {
    "duration": 4,
    "start_time": "2023-07-22T10:13:54.343Z"
   },
   {
    "duration": 8,
    "start_time": "2023-07-22T10:13:54.348Z"
   },
   {
    "duration": 6,
    "start_time": "2023-07-22T10:13:54.357Z"
   },
   {
    "duration": 7,
    "start_time": "2023-07-22T10:13:54.364Z"
   },
   {
    "duration": 16,
    "start_time": "2023-07-22T10:13:54.372Z"
   },
   {
    "duration": 15,
    "start_time": "2023-07-22T10:13:54.389Z"
   },
   {
    "duration": 22,
    "start_time": "2023-07-22T10:13:54.406Z"
   },
   {
    "duration": 23,
    "start_time": "2023-07-22T10:13:54.430Z"
   },
   {
    "duration": 3,
    "start_time": "2023-07-22T10:15:04.399Z"
   },
   {
    "duration": 79,
    "start_time": "2023-07-22T10:15:04.405Z"
   },
   {
    "duration": 5,
    "start_time": "2023-07-22T10:15:04.485Z"
   },
   {
    "duration": 27,
    "start_time": "2023-07-22T10:15:04.492Z"
   },
   {
    "duration": 70,
    "start_time": "2023-07-22T10:15:04.521Z"
   },
   {
    "duration": 24,
    "start_time": "2023-07-22T10:15:04.592Z"
   },
   {
    "duration": 36,
    "start_time": "2023-07-22T10:15:04.618Z"
   },
   {
    "duration": 120,
    "start_time": "2023-07-22T10:15:04.656Z"
   },
   {
    "duration": 109,
    "start_time": "2023-07-22T10:15:04.778Z"
   },
   {
    "duration": 72,
    "start_time": "2023-07-22T10:15:04.889Z"
   },
   {
    "duration": 29,
    "start_time": "2023-07-22T10:15:04.962Z"
   },
   {
    "duration": 37,
    "start_time": "2023-07-22T10:15:04.992Z"
   },
   {
    "duration": 42,
    "start_time": "2023-07-22T10:15:05.032Z"
   },
   {
    "duration": 34,
    "start_time": "2023-07-22T10:15:05.077Z"
   },
   {
    "duration": 61,
    "start_time": "2023-07-22T10:15:05.113Z"
   },
   {
    "duration": 29,
    "start_time": "2023-07-22T10:15:05.176Z"
   },
   {
    "duration": 10,
    "start_time": "2023-07-22T10:15:05.207Z"
   },
   {
    "duration": 310,
    "start_time": "2023-07-22T10:15:05.219Z"
   },
   {
    "duration": 4,
    "start_time": "2023-07-22T10:16:26.991Z"
   },
   {
    "duration": 64,
    "start_time": "2023-07-22T10:16:26.996Z"
   },
   {
    "duration": 5,
    "start_time": "2023-07-22T10:16:27.062Z"
   },
   {
    "duration": 16,
    "start_time": "2023-07-22T10:16:27.069Z"
   },
   {
    "duration": 16,
    "start_time": "2023-07-22T10:16:27.087Z"
   },
   {
    "duration": 22,
    "start_time": "2023-07-22T10:16:27.104Z"
   },
   {
    "duration": 3,
    "start_time": "2023-07-22T10:16:27.128Z"
   },
   {
    "duration": 15,
    "start_time": "2023-07-22T10:16:27.132Z"
   },
   {
    "duration": 16,
    "start_time": "2023-07-22T10:16:27.150Z"
   },
   {
    "duration": 7,
    "start_time": "2023-07-22T10:16:27.168Z"
   },
   {
    "duration": 5,
    "start_time": "2023-07-22T10:16:27.177Z"
   },
   {
    "duration": 7,
    "start_time": "2023-07-22T10:16:27.184Z"
   },
   {
    "duration": 9,
    "start_time": "2023-07-22T10:16:27.192Z"
   },
   {
    "duration": 5,
    "start_time": "2023-07-22T10:16:27.203Z"
   },
   {
    "duration": 26,
    "start_time": "2023-07-22T10:16:27.210Z"
   },
   {
    "duration": 24,
    "start_time": "2023-07-22T10:16:27.237Z"
   },
   {
    "duration": 2,
    "start_time": "2023-07-22T10:16:27.263Z"
   },
   {
    "duration": 160,
    "start_time": "2023-07-22T10:16:34.521Z"
   },
   {
    "duration": 1154,
    "start_time": "2023-07-22T10:23:55.735Z"
   },
   {
    "duration": 55,
    "start_time": "2023-07-22T10:23:56.891Z"
   },
   {
    "duration": 4,
    "start_time": "2023-07-22T10:23:56.948Z"
   },
   {
    "duration": 11,
    "start_time": "2023-07-22T10:23:56.954Z"
   },
   {
    "duration": 19,
    "start_time": "2023-07-22T10:23:56.967Z"
   },
   {
    "duration": 21,
    "start_time": "2023-07-22T10:23:56.988Z"
   },
   {
    "duration": 4,
    "start_time": "2023-07-22T10:23:57.020Z"
   },
   {
    "duration": 17,
    "start_time": "2023-07-22T10:23:57.026Z"
   },
   {
    "duration": 5,
    "start_time": "2023-07-22T10:23:57.045Z"
   },
   {
    "duration": 12,
    "start_time": "2023-07-22T10:23:57.052Z"
   },
   {
    "duration": 15,
    "start_time": "2023-07-22T10:23:57.066Z"
   },
   {
    "duration": 40,
    "start_time": "2023-07-22T10:23:57.082Z"
   },
   {
    "duration": 23,
    "start_time": "2023-07-22T10:23:57.124Z"
   },
   {
    "duration": 16,
    "start_time": "2023-07-22T10:23:57.149Z"
   },
   {
    "duration": 21,
    "start_time": "2023-07-22T10:23:57.167Z"
   },
   {
    "duration": 55,
    "start_time": "2023-07-22T10:23:57.189Z"
   },
   {
    "duration": 11,
    "start_time": "2023-07-22T10:23:57.246Z"
   },
   {
    "duration": 247,
    "start_time": "2023-07-22T10:23:59.844Z"
   },
   {
    "duration": 1228,
    "start_time": "2023-07-24T10:12:13.971Z"
   },
   {
    "duration": 92,
    "start_time": "2023-07-24T10:12:15.201Z"
   },
   {
    "duration": 5,
    "start_time": "2023-07-24T10:12:15.295Z"
   },
   {
    "duration": 37,
    "start_time": "2023-07-24T10:12:15.302Z"
   },
   {
    "duration": 36,
    "start_time": "2023-07-24T10:12:15.341Z"
   },
   {
    "duration": 26,
    "start_time": "2023-07-24T10:12:15.378Z"
   },
   {
    "duration": 11,
    "start_time": "2023-07-24T10:12:15.406Z"
   },
   {
    "duration": 31,
    "start_time": "2023-07-24T10:12:15.419Z"
   },
   {
    "duration": 10,
    "start_time": "2023-07-24T10:12:15.452Z"
   },
   {
    "duration": 8,
    "start_time": "2023-07-24T10:12:15.464Z"
   },
   {
    "duration": 6,
    "start_time": "2023-07-24T10:12:15.473Z"
   },
   {
    "duration": 22,
    "start_time": "2023-07-24T10:12:15.480Z"
   },
   {
    "duration": 9,
    "start_time": "2023-07-24T10:12:15.504Z"
   },
   {
    "duration": 21,
    "start_time": "2023-07-24T10:12:15.515Z"
   },
   {
    "duration": 15,
    "start_time": "2023-07-24T10:12:15.538Z"
   },
   {
    "duration": 18,
    "start_time": "2023-07-24T10:12:15.555Z"
   },
   {
    "duration": 2,
    "start_time": "2023-07-24T10:12:15.575Z"
   },
   {
    "duration": 234,
    "start_time": "2023-07-24T10:12:17.247Z"
   },
   {
    "duration": 4,
    "start_time": "2023-07-24T10:25:40.194Z"
   },
   {
    "duration": 69,
    "start_time": "2023-07-24T10:25:40.200Z"
   },
   {
    "duration": 5,
    "start_time": "2023-07-24T10:25:40.271Z"
   },
   {
    "duration": 25,
    "start_time": "2023-07-24T10:25:40.277Z"
   },
   {
    "duration": 18,
    "start_time": "2023-07-24T10:25:40.303Z"
   },
   {
    "duration": 13,
    "start_time": "2023-07-24T10:25:40.322Z"
   },
   {
    "duration": 20,
    "start_time": "2023-07-24T10:25:40.337Z"
   },
   {
    "duration": 10,
    "start_time": "2023-07-24T10:25:40.359Z"
   },
   {
    "duration": 15,
    "start_time": "2023-07-24T10:25:40.370Z"
   },
   {
    "duration": 24,
    "start_time": "2023-07-24T10:25:40.386Z"
   },
   {
    "duration": 16,
    "start_time": "2023-07-24T10:25:40.412Z"
   },
   {
    "duration": 16,
    "start_time": "2023-07-24T10:25:40.430Z"
   },
   {
    "duration": 22,
    "start_time": "2023-07-24T10:25:40.448Z"
   },
   {
    "duration": 25,
    "start_time": "2023-07-24T10:25:40.471Z"
   },
   {
    "duration": 20,
    "start_time": "2023-07-24T10:25:40.497Z"
   },
   {
    "duration": 53,
    "start_time": "2023-07-24T10:25:40.518Z"
   },
   {
    "duration": 3,
    "start_time": "2023-07-24T10:25:40.572Z"
   },
   {
    "duration": 9,
    "start_time": "2023-07-24T10:25:43.465Z"
   },
   {
    "duration": 148,
    "start_time": "2023-07-24T10:25:51.421Z"
   },
   {
    "duration": 10,
    "start_time": "2023-07-24T10:47:52.883Z"
   },
   {
    "duration": 16,
    "start_time": "2023-07-24T10:54:31.180Z"
   },
   {
    "duration": 8,
    "start_time": "2023-07-24T10:54:51.653Z"
   },
   {
    "duration": 132,
    "start_time": "2023-07-24T10:55:34.619Z"
   },
   {
    "duration": 12,
    "start_time": "2023-07-24T10:55:40.053Z"
   },
   {
    "duration": 8,
    "start_time": "2023-07-24T10:56:17.983Z"
   },
   {
    "duration": 11,
    "start_time": "2023-07-24T10:56:49.125Z"
   },
   {
    "duration": 107,
    "start_time": "2023-07-24T10:57:13.131Z"
   },
   {
    "duration": 14,
    "start_time": "2023-07-24T10:57:31.046Z"
   },
   {
    "duration": 119,
    "start_time": "2023-07-24T10:57:45.057Z"
   },
   {
    "duration": 14,
    "start_time": "2023-07-24T10:58:07.476Z"
   },
   {
    "duration": 126,
    "start_time": "2023-07-24T10:58:29.464Z"
   },
   {
    "duration": 113,
    "start_time": "2023-07-24T10:58:35.908Z"
   },
   {
    "duration": 111,
    "start_time": "2023-07-24T10:58:46.389Z"
   },
   {
    "duration": 16,
    "start_time": "2023-07-24T10:59:06.744Z"
   },
   {
    "duration": 12,
    "start_time": "2023-07-24T11:00:13.693Z"
   },
   {
    "duration": 15,
    "start_time": "2023-07-24T11:01:16.735Z"
   },
   {
    "duration": 1053,
    "start_time": "2023-07-24T11:03:43.276Z"
   },
   {
    "duration": 46,
    "start_time": "2023-07-24T11:03:44.331Z"
   },
   {
    "duration": 4,
    "start_time": "2023-07-24T11:03:44.378Z"
   },
   {
    "duration": 10,
    "start_time": "2023-07-24T11:03:44.384Z"
   },
   {
    "duration": 35,
    "start_time": "2023-07-24T11:03:44.395Z"
   },
   {
    "duration": 12,
    "start_time": "2023-07-24T11:03:44.432Z"
   },
   {
    "duration": 12,
    "start_time": "2023-07-24T11:03:44.446Z"
   },
   {
    "duration": 15,
    "start_time": "2023-07-24T11:03:44.459Z"
   },
   {
    "duration": 8,
    "start_time": "2023-07-24T11:03:44.476Z"
   },
   {
    "duration": 8,
    "start_time": "2023-07-24T11:03:44.485Z"
   },
   {
    "duration": 6,
    "start_time": "2023-07-24T11:03:44.495Z"
   },
   {
    "duration": 15,
    "start_time": "2023-07-24T11:03:44.502Z"
   },
   {
    "duration": 18,
    "start_time": "2023-07-24T11:03:44.519Z"
   },
   {
    "duration": 5,
    "start_time": "2023-07-24T11:03:44.538Z"
   },
   {
    "duration": 14,
    "start_time": "2023-07-24T11:03:44.545Z"
   },
   {
    "duration": 16,
    "start_time": "2023-07-24T11:03:44.560Z"
   },
   {
    "duration": 20,
    "start_time": "2023-07-24T11:03:46.586Z"
   },
   {
    "duration": 1043,
    "start_time": "2023-07-24T11:03:56.171Z"
   },
   {
    "duration": 48,
    "start_time": "2023-07-24T11:03:57.216Z"
   },
   {
    "duration": 3,
    "start_time": "2023-07-24T11:03:57.266Z"
   },
   {
    "duration": 20,
    "start_time": "2023-07-24T11:03:57.271Z"
   },
   {
    "duration": 27,
    "start_time": "2023-07-24T11:03:57.292Z"
   },
   {
    "duration": 43,
    "start_time": "2023-07-24T11:03:57.320Z"
   },
   {
    "duration": 35,
    "start_time": "2023-07-24T11:03:57.365Z"
   },
   {
    "duration": 16,
    "start_time": "2023-07-24T11:03:57.402Z"
   },
   {
    "duration": 25,
    "start_time": "2023-07-24T11:03:57.419Z"
   },
   {
    "duration": 29,
    "start_time": "2023-07-24T11:03:57.446Z"
   },
   {
    "duration": 22,
    "start_time": "2023-07-24T11:03:57.476Z"
   },
   {
    "duration": 21,
    "start_time": "2023-07-24T11:03:57.500Z"
   },
   {
    "duration": 29,
    "start_time": "2023-07-24T11:03:57.523Z"
   },
   {
    "duration": 29,
    "start_time": "2023-07-24T11:03:57.554Z"
   },
   {
    "duration": 29,
    "start_time": "2023-07-24T11:03:57.584Z"
   },
   {
    "duration": 28,
    "start_time": "2023-07-24T11:03:57.614Z"
   },
   {
    "duration": 48,
    "start_time": "2023-07-24T11:03:57.643Z"
   },
   {
    "duration": 20,
    "start_time": "2023-07-24T11:03:57.692Z"
   },
   {
    "duration": 27,
    "start_time": "2023-07-24T11:03:57.714Z"
   },
   {
    "duration": 62,
    "start_time": "2023-07-24T11:03:57.742Z"
   },
   {
    "duration": 298,
    "start_time": "2023-07-24T11:03:57.805Z"
   },
   {
    "duration": 316,
    "start_time": "2023-07-24T11:03:58.104Z"
   },
   {
    "duration": 2,
    "start_time": "2023-07-24T11:03:58.422Z"
   },
   {
    "duration": 2596,
    "start_time": "2023-07-24T11:03:58.427Z"
   },
   {
    "duration": 3,
    "start_time": "2023-07-24T11:04:01.025Z"
   },
   {
    "duration": 344,
    "start_time": "2023-07-24T11:04:01.029Z"
   },
   {
    "duration": 362,
    "start_time": "2023-07-24T11:04:01.375Z"
   },
   {
    "duration": 4056,
    "start_time": "2023-07-24T11:04:01.740Z"
   },
   {
    "duration": 6,
    "start_time": "2023-07-24T11:04:05.798Z"
   },
   {
    "duration": 23,
    "start_time": "2023-07-24T11:04:05.806Z"
   },
   {
    "duration": 21,
    "start_time": "2023-07-24T11:04:05.830Z"
   },
   {
    "duration": 2802,
    "start_time": "2023-07-24T11:04:05.852Z"
   },
   {
    "duration": 311,
    "start_time": "2023-07-24T11:04:08.655Z"
   },
   {
    "duration": 59,
    "start_time": "2023-07-24T11:04:08.968Z"
   },
   {
    "duration": 241,
    "start_time": "2023-07-24T11:30:31.212Z"
   },
   {
    "duration": 318,
    "start_time": "2023-07-24T11:30:41.143Z"
   },
   {
    "duration": 404,
    "start_time": "2023-07-24T11:30:46.933Z"
   },
   {
    "duration": 497,
    "start_time": "2023-07-24T11:30:52.198Z"
   },
   {
    "duration": 374,
    "start_time": "2023-07-24T11:30:58.632Z"
   }
  ],
  "kernelspec": {
   "display_name": "Python 3 (ipykernel)",
   "language": "python",
   "name": "python3"
  },
  "language_info": {
   "codemirror_mode": {
    "name": "ipython",
    "version": 3
   },
   "file_extension": ".py",
   "mimetype": "text/x-python",
   "name": "python",
   "nbconvert_exporter": "python",
   "pygments_lexer": "ipython3",
   "version": "3.9.5"
  },
  "toc": {
   "base_numbering": 1,
   "nav_menu": {
    "height": "118px",
    "width": "215px"
   },
   "number_sections": true,
   "sideBar": true,
   "skip_h1_title": true,
   "title_cell": "Содержание",
   "title_sidebar": "Contents",
   "toc_cell": true,
   "toc_position": {
    "height": "calc(100% - 180px)",
    "left": "10px",
    "top": "150px",
    "width": "208.996px"
   },
   "toc_section_display": true,
   "toc_window_display": true
  }
 },
 "nbformat": 4,
 "nbformat_minor": 2
}
